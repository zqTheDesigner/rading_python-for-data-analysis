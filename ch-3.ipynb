{
 "cells": [
  {
   "cell_type": "markdown",
   "metadata": {},
   "source": [
    "# Build-In Data Structures, Functions and Files\n",
    "\n",
    "### Tuple\n",
    "Fixed length, immutable sequence of Python objects. "
   ]
  },
  {
   "cell_type": "code",
   "execution_count": 1,
   "metadata": {},
   "outputs": [],
   "source": [
    "tup = (4, 5, 6)\n",
    "# Same as \n",
    "tup = 4, 5, 6 # Parentheses can be omitted\n",
    "\n",
    "# Convert sequence of iterator to a tuple\n",
    "tuple([4, 0, 2])\n",
    "\n",
    "# Object inside tuple are immutable, unless the objest itself is mutable (list)\n",
    "tup = ('foo', [1,2], False)\n",
    "\n",
    "tup[1].append(3) # Works\n",
    "\n",
    "# Concatenate tuple\n",
    "(4, None, 'foo') + (6, 0) + ('bar')\n",
    "\n",
    "# Repeat tuple 4 times, object themself are not copied, only reference to men\n",
    "('foo', 'bar') * 4 \n",
    "\n",
    "# Unpacking tuples\n",
    "tup = (4, 5, 6)\n",
    "\n",
    "a, b, c = tup\n",
    "\n",
    "# Swap variable name\n",
    "b, a = a, b\n",
    "\n",
    "# Capture an arbitrarily long list of positional arguments\n",
    "values = 1, 2, 3, 4, 5\n",
    "\n",
    "a, b, *rest = values\n",
    "a, b, *_ = values\n",
    "\n"
   ]
  },
  {
   "cell_type": "code",
   "execution_count": null,
   "metadata": {},
   "outputs": [],
   "source": [
    "lst_a = [1, 2]\n",
    "lst_b = [3, 4]\n",
    "\n",
    "tup = (lst_a, lst_b)\n",
    "\n",
    "tup_4 = tup * 4\n",
    "\n",
    "# When multiplying tuple, the object themself are not created, just reference to them.\n",
    "lst_a.append(3)\n",
    "\n",
    "tup_4 "
   ]
  },
  {
   "cell_type": "markdown",
   "metadata": {},
   "source": [
    "### List"
   ]
  },
  {
   "cell_type": "code",
   "execution_count": null,
   "metadata": {},
   "outputs": [],
   "source": [
    "b_list = []\n",
    "\n",
    "# Append item\n",
    "b_list.append('dwarf')\n",
    "\n",
    "# Insert item in specific location\n",
    "# The insertion index must be between zero and length of list\n",
    "b_list.insert(1, 'red')\n",
    "\n",
    "b_list.pop(0)\n",
    "\n",
    "b_list.remove('red')\n",
    "\n",
    "a_list = [7, 8, (9, 10)]\n",
    "\n",
    "# Extend is faster than addition (+) operation\n",
    "b_list.extend(a_list)\n",
    "\n",
    "a_list.sort(key=len) # Sort in place, key=len 0 sorting by length\n",
    "\n",
    "# Slicing\n",
    "# b_list[start:end]\n",
    "\n",
    "# Stepping\n",
    "seq = [7, 2, 3, 6, 3, 6, 0, 1]\n",
    "seq[::2] # Take every other element \n",
    "seq[::-1] # Reverse the list of tuple"
   ]
  },
  {
   "cell_type": "markdown",
   "metadata": {},
   "source": [
    "### Dictionary\n",
    "Dictionaries are also called hash maps or associative arrays.\n",
    "Stores a vollection of key-value pairs"
   ]
  },
  {
   "cell_type": "code",
   "execution_count": 10,
   "metadata": {},
   "outputs": [
    {
     "data": {
      "text/plain": [
       "'No value'"
      ]
     },
     "execution_count": 10,
     "metadata": {},
     "output_type": "execute_result"
    }
   ],
   "source": [
    "d1 = {\"a\":\"Some value\", \"b\": [1, 2, 3, 4]}\n",
    "\n",
    "d1[7] = \"an integer\"\n",
    "\n",
    "\"b\" in d1 # Check if the dictionary contains a key\n",
    "\n",
    "# Delete a value\n",
    "#del d1[\"a\"]\n",
    "\n",
    "popped = d1.pop(\"a\") # The popped value will be assigned to the popped\n",
    "\n",
    "list(d1.keys())\n",
    "list(d1.values())\n",
    "list(d1.items()) # Iterate as a (key, value) tuple\n",
    "\n",
    "# Merge dictionary\n",
    "d2 = {\"another dict\":\"Another dict\"}\n",
    "d1.update(d2)\n",
    "\n",
    "# Creating dictionaries from sequences\n",
    "\n",
    "# Pair 2 lists in to a dictionary\n",
    "mapping = {}\n",
    "key_list = []\n",
    "value_list = []\n",
    "for key, value in zip(key_list, value_list):\n",
    "\tmapping[key] = value\n",
    "\n",
    "# dict function accepts a list of 2 tuples\n",
    "dic2 = dict([(\"key1\",\"v1\"), (2, 123)])\n",
    "dic2\n",
    "\n",
    "# Provide a default value \n",
    "d1.get('test', 'No value')"
   ]
  },
  {
   "cell_type": "code",
   "execution_count": 16,
   "metadata": {},
   "outputs": [
    {
     "data": {
      "text/plain": [
       "{'a': ['2']}"
      ]
     },
     "execution_count": 16,
     "metadata": {},
     "output_type": "execute_result"
    }
   ],
   "source": [
    "dict1 = {}\n",
    "\n",
    "dict1.setdefault('a', [])\n",
    "\n",
    "# If there is already element in dict, the set default will not work\n",
    "dict1.setdefault('a', 'test').append('2')\n",
    "\n",
    "dict1\n",
    "\n",
    "from collections import defaultdict\n",
    "some_dict = defaultdict(list)"
   ]
  },
  {
   "cell_type": "markdown",
   "metadata": {},
   "source": [
    "Dictionary key have to be immutable objects (int, float, string) or tuples (all object inside tuple also have to be immutable)\n",
    "\n",
    "Technical term: hashable"
   ]
  },
  {
   "cell_type": "code",
   "execution_count": 20,
   "metadata": {},
   "outputs": [
    {
     "data": {
      "text/plain": [
       "582772625062360213"
      ]
     },
     "execution_count": 20,
     "metadata": {},
     "output_type": "execute_result"
    }
   ],
   "source": [
    "hash('str')"
   ]
  },
  {
   "cell_type": "markdown",
   "metadata": {},
   "source": [
    "### Set\n",
    "A set is an unordered collection oif unique values"
   ]
  },
  {
   "cell_type": "code",
   "execution_count": null,
   "metadata": {},
   "outputs": [],
   "source": [
    "set([1,2,3,4,4])\n",
    "# {1,2,3,4}\n",
    "\n",
    "{2, 2, 1, 3, 4}\n",
    "# {1, 2, 3}\n",
    "\n",
    "a = {1, 2, 3}\n",
    "b = {3, 4, 5}\n",
    "\n",
    "a.union(b) # {1, 2, 3, 4, 5}\n",
    "a | b\n",
    "\n",
    "a.intersection(b) # {3}\n",
    "a & b\n",
    "\n",
    "# Common set methods"
   ]
  }
 ],
 "metadata": {
  "kernelspec": {
   "display_name": "Python 3.10.6 64-bit",
   "language": "python",
   "name": "python3"
  },
  "language_info": {
   "codemirror_mode": {
    "name": "ipython",
    "version": 3
   },
   "file_extension": ".py",
   "mimetype": "text/x-python",
   "name": "python",
   "nbconvert_exporter": "python",
   "pygments_lexer": "ipython3",
   "version": "3.10.6"
  },
  "orig_nbformat": 4,
  "vscode": {
   "interpreter": {
    "hash": "31f2aee4e71d21fbe5cf8b01ff0e069b9275f58929596ceb00d14d90e3e16cd6"
   }
  }
 },
 "nbformat": 4,
 "nbformat_minor": 2
}
