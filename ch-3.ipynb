{
 "cells": [
  {
   "cell_type": "markdown",
   "metadata": {},
   "source": [
    "# Build-In Data Structures, Functions and Files\n",
    "\n",
    "### Tuple\n",
    "Fixed length, immutable sequence of Python objects. "
   ]
  },
  {
   "cell_type": "code",
   "execution_count": null,
   "metadata": {},
   "outputs": [],
   "source": [
    "tup = (4, 5, 6)\n",
    "# Same as \n",
    "tup = 4, 5, 6 # Parentheses can be omitted\n",
    "\n",
    "# Convert sequence of iterator to a tuple\n",
    "tuple([4, 0, 2])\n",
    "\n",
    "# Object inside tuple are immutable, unless the objest itself is mutable (list)\n",
    "tup = ('foo', [1,2], False)\n",
    "\n",
    "tup[1].append(3) # Works\n",
    "\n",
    "# Concatenate tuple\n",
    "(4, None, 'foo') + (6, 0) + ('bar')\n",
    "\n",
    "# Repeat tuple 4 times, object themself are not copied, only reference to men\n",
    "('foo', 'bar') * 4 \n",
    "\n",
    "# Unpacking tuples\n",
    "tup = (4, 5, 6)\n",
    "\n",
    "a, b, c = tup\n",
    "\n",
    "# Swap variable name\n",
    "b, a = a, b\n",
    "\n",
    "# Capture an arbitrarily long list of positional arguments\n",
    "values = 1, 2, 3, 4, 5\n",
    "\n",
    "a, b, *rest = values\n",
    "a, b, *_ = values\n",
    "\n"
   ]
  },
  {
   "cell_type": "code",
   "execution_count": null,
   "metadata": {},
   "outputs": [],
   "source": [
    "lst_a = [1, 2]\n",
    "lst_b = [3, 4]\n",
    "\n",
    "tup = (lst_a, lst_b)\n",
    "\n",
    "tup_4 = tup * 4\n",
    "\n",
    "# When multiplying tuple, the object themself are not created, just reference to them.\n",
    "lst_a.append(3)\n",
    "\n",
    "tup_4 "
   ]
  },
  {
   "cell_type": "markdown",
   "metadata": {},
   "source": [
    "### List"
   ]
  },
  {
   "cell_type": "code",
   "execution_count": null,
   "metadata": {},
   "outputs": [],
   "source": [
    "b_list = []\n",
    "\n",
    "# Append item\n",
    "b_list.append('dwarf')\n",
    "\n",
    "# Insert item in specific location\n",
    "# The insertion index must be between zero and length of list\n",
    "b_list.insert(1, 'red')\n",
    "\n",
    "b_list.pop(0)\n",
    "\n",
    "b_list.remove('red')\n",
    "\n",
    "a_list = [7, 8, (9, 10)]\n",
    "\n",
    "# Extend is faster than addition (+) operation\n",
    "b_list.extend(a_list)\n",
    "\n",
    "a_list.sort(key=len) # Sort in place, key=len 0 sorting by length\n",
    "\n",
    "# Slicing\n",
    "# b_list[start:end]\n",
    "\n",
    "# Stepping\n",
    "seq = [7, 2, 3, 6, 3, 6, 0, 1]\n",
    "seq[::2] # Take every other element \n",
    "seq[::-1] # Reverse the list of tuple"
   ]
  },
  {
   "cell_type": "markdown",
   "metadata": {},
   "source": [
    "### Dictionary\n",
    "Dictionaries are also called hash maps or associative arrays.\n",
    "Stores a vollection of key-value pairs"
   ]
  },
  {
   "cell_type": "code",
   "execution_count": null,
   "metadata": {},
   "outputs": [],
   "source": [
    "d1 = {\"a\":\"Some value\", \"b\": [1, 2, 3, 4]}\n",
    "\n",
    "d1[7] = \"an integer\"\n",
    "\n",
    "\"b\" in d1 # Check if the dictionary contains a key\n",
    "\n",
    "# Delete a value\n",
    "#del d1[\"a\"]\n",
    "\n",
    "popped = d1.pop(\"a\") # The popped value will be assigned to the popped\n",
    "\n",
    "list(d1.keys())\n",
    "list(d1.values())\n",
    "list(d1.items()) # Iterate as a (key, value) tuple\n",
    "\n",
    "# Merge dictionary\n",
    "d2 = {\"another dict\":\"Another dict\"}\n",
    "d1.update(d2)\n",
    "\n",
    "# Creating dictionaries from sequences\n",
    "\n",
    "# Pair 2 lists in to a dictionary\n",
    "mapping = {}\n",
    "key_list = []\n",
    "value_list = []\n",
    "for key, value in zip(key_list, value_list):\n",
    "\tmapping[key] = value\n",
    "\n",
    "# dict function accepts a list of 2 tuples\n",
    "dic2 = dict([(\"key1\",\"v1\"), (2, 123)])\n",
    "dic2\n",
    "\n",
    "# Provide a default value \n",
    "d1.get('test', 'No value')"
   ]
  },
  {
   "cell_type": "code",
   "execution_count": null,
   "metadata": {},
   "outputs": [],
   "source": [
    "dict1 = {}\n",
    "\n",
    "dict1.setdefault('a', [])\n",
    "\n",
    "# If there is already element in dict, the set default will not work\n",
    "dict1.setdefault('a', 'test').append('2')\n",
    "\n",
    "dict1\n",
    "\n",
    "from collections import defaultdict\n",
    "some_dict = defaultdict(list)"
   ]
  },
  {
   "cell_type": "markdown",
   "metadata": {},
   "source": [
    "Dictionary key have to be immutable objects (int, float, string) or tuples (all object inside tuple also have to be immutable)\n",
    "\n",
    "Technical term: hashable"
   ]
  },
  {
   "cell_type": "code",
   "execution_count": null,
   "metadata": {},
   "outputs": [],
   "source": [
    "hash('str')"
   ]
  },
  {
   "cell_type": "markdown",
   "metadata": {},
   "source": [
    "### Set\n",
    "A set is an unordered collection oif unique values"
   ]
  },
  {
   "cell_type": "code",
   "execution_count": null,
   "metadata": {},
   "outputs": [],
   "source": [
    "set([1,2,3,4,4])\n",
    "# {1,2,3,4}\n",
    "\n",
    "{2, 2, 1, 3, 4}\n",
    "# {1, 2, 3}\n",
    "\n",
    "a = {1, 2, 3}\n",
    "b = {3, 4, 5}\n",
    "\n",
    "a.union(b) # {1, 2, 3, 4, 5}\n",
    "a | b\n",
    "\n",
    "a.intersection(b) # {3}\n",
    "a & b\n",
    "\n",
    "# Common set methods"
   ]
  },
  {
   "cell_type": "markdown",
   "metadata": {},
   "source": [
    "Set elements must be immutable and must be hashable."
   ]
  },
  {
   "cell_type": "code",
   "execution_count": null,
   "metadata": {},
   "outputs": [],
   "source": [
    "my_data = [1, 2, 3, 4]\n",
    "\n",
    "# When convert list to a set, must convert list to tuple first\n",
    "my_set = {tuple(my_data)} \n",
    "\n",
    "# Check subset (is contained in) or userset (contains all elements)\n",
    "a_set = {1, 2, 3, 4, 5}\n",
    "\n",
    "{1, 2, 3}.issubset(a_set) # True\n",
    "\n",
    "a_set.issuperset({1, 2, 3}) # True\n",
    "\n",
    "{1, 2, 3} == {3, 2, 1} # True, sets are equal when their contains are all equal"
   ]
  },
  {
   "cell_type": "markdown",
   "metadata": {},
   "source": [
    "### Built-in Sequence Functions\n",
    "#### enumerate\n",
    "returns a sequence if (i ,value) tuples\n",
    "\n",
    "#### sorted\n",
    "returns a new sorted list from the elements of any sequences\n",
    "\n",
    "#### zip\n",
    "zip \"pairs\" up the elements of a number of lists, tuples or other sequences to create a list of tuples\n",
    "\n",
    "#### reversed\n",
    "reversed iterates over the elements of a sequence in reverse order\n",
    "reversed is a generator, it does not create the reversed sequence until materialized (with list or a for loop)"
   ]
  },
  {
   "cell_type": "code",
   "execution_count": null,
   "metadata": {},
   "outputs": [],
   "source": [
    "\n",
    "# enumerate \n",
    "collection = ['a', 'b', 'c']\n",
    "for index, value in enumerate(collection):\n",
    "\tprint(index, value)"
   ]
  },
  {
   "cell_type": "code",
   "execution_count": null,
   "metadata": {},
   "outputs": [],
   "source": [
    "# sorted\n",
    "sorted([7, 1, 4, 5, 2])\n",
    "\n",
    "sorted('horse race')"
   ]
  },
  {
   "cell_type": "code",
   "execution_count": null,
   "metadata": {},
   "outputs": [],
   "source": [
    "# zip\n",
    "seq1 = [\"foo\", \"bar\", \"baz\"]\n",
    "seq2 = [\"one\", \"two\", \"three\"]\n",
    "seq3 = [\"x\", \"y\", seq1]\n",
    "\n",
    "zipped = zip(seq1, seq2)\n",
    "list(zipped)\n",
    "\n",
    "zipped = zip(seq1, seq2, seq3)\n",
    "list(zipped)\n",
    "\n",
    "for index, (a,b) in enumerate(zip(seq1, seq2)):\n",
    "\tprint(f\"{index}: {a}, {b}\")"
   ]
  },
  {
   "cell_type": "code",
   "execution_count": null,
   "metadata": {},
   "outputs": [],
   "source": [
    "# reversed\n",
    "list(reversed(range(10)))"
   ]
  },
  {
   "cell_type": "markdown",
   "metadata": {},
   "source": [
    "### List, Set and Dictionary Comprehensions\n",
    "`[expr for value in collection if condition]`\n",
    "\n",
    "same as \n",
    "\n",
    "```python\n",
    "\n",
    "result = []\n",
    "for value in collection:\n",
    "\tif condition:\n",
    "\t\tresult.append(expr)\n",
    "\n",
    "```\n",
    "\n",
    "#### dictionary comprehension\n",
    "`dict_comp = {key-expr: value-expr for value in collection if condition}`\n",
    "\n",
    "#### set comprehension\n",
    "`set_comp = {expr for value in collection if condition}`"
   ]
  },
  {
   "cell_type": "code",
   "execution_count": 31,
   "metadata": {},
   "outputs": [
    {
     "data": {
      "text/plain": [
       "['BAT', 'CAR', 'DOVE', 'PYTHON']"
      ]
     },
     "execution_count": 31,
     "metadata": {},
     "output_type": "execute_result"
    }
   ],
   "source": [
    "# List comprehension\n",
    "strings = [\"a\", \"as\", \"bat\", \"car\", \"dove\", \"python\"]\n",
    "\n",
    "[x.upper() for x in strings if len(x) > 2]"
   ]
  },
  {
   "cell_type": "code",
   "execution_count": 33,
   "metadata": {},
   "outputs": [
    {
     "data": {
      "text/plain": [
       "{'a': 0, 'as': 1, 'bat': 2, 'car': 3, 'dove': 4, 'python': 5}"
      ]
     },
     "execution_count": 33,
     "metadata": {},
     "output_type": "execute_result"
    }
   ],
   "source": [
    "# dictionary comprehension\n",
    "unique_lengths = {len(x) for x in strings}\n",
    "\n",
    "unique_lengths\n",
    "\n",
    "loc_mapping = {value: index for index, value in enumerate(strings)}\n",
    "\n",
    "loc_mapping"
   ]
  },
  {
   "cell_type": "markdown",
   "metadata": {},
   "source": [
    "#### Nested list comprehensions\n",
    "`[name for names in all_data for name in names if name.count(\"a\") >= 2]`\n",
    "\n",
    "`[x for tup in some_tuples for x in tup]`"
   ]
  },
  {
   "cell_type": "markdown",
   "metadata": {},
   "source": [
    "## 3.2 Functions\n",
    "If Python reaches the end of a function without encountering a return statement, None is returned automatically\n",
    "\n",
    "keyword argument are optional (with a default value), all positional argument are required\n",
    "Keyword argument must follow positional argument\n",
    "\n",
    "Access variables outside of the functions scope is possible, but those variable must be declared using either global or nonlocal keywords\n",
    "\n",
    "#### Returning multiple values\n",
    "multiple value will be returning as a one object, a tuple\n",
    "\n",
    "#### Functions are Objects\n"
   ]
  },
  {
   "cell_type": "code",
   "execution_count": 34,
   "metadata": {},
   "outputs": [
    {
     "data": {
      "text/plain": [
       "[]"
      ]
     },
     "execution_count": 34,
     "metadata": {},
     "output_type": "execute_result"
    }
   ],
   "source": [
    "a = None\n",
    "\n",
    "def bind_a_variable():\n",
    "\t# This will start to use global variable a instead of create a new variable\n",
    "\tglobal a\n",
    "\ta = []\n",
    "\n",
    "bind_a_variable()\n",
    "\n",
    "a"
   ]
  },
  {
   "cell_type": "code",
   "execution_count": null,
   "metadata": {},
   "outputs": [],
   "source": []
  }
 ],
 "metadata": {
  "kernelspec": {
   "display_name": "Python 3.10.6 64-bit",
   "language": "python",
   "name": "python3"
  },
  "language_info": {
   "codemirror_mode": {
    "name": "ipython",
    "version": 3
   },
   "file_extension": ".py",
   "mimetype": "text/x-python",
   "name": "python",
   "nbconvert_exporter": "python",
   "pygments_lexer": "ipython3",
   "version": "3.10.6"
  },
  "orig_nbformat": 4,
  "vscode": {
   "interpreter": {
    "hash": "31f2aee4e71d21fbe5cf8b01ff0e069b9275f58929596ceb00d14d90e3e16cd6"
   }
  }
 },
 "nbformat": 4,
 "nbformat_minor": 2
}
