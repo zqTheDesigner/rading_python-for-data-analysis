{
 "cells": [
  {
   "cell_type": "markdown",
   "metadata": {},
   "source": [
    "What kinds of (structured) data:\n",
    "- Tabular\n",
    "- Multidimensional arrays (matrices)\n",
    "- Multiple tables of data interrelated by key columns (primary / foreign keys for SQL)\n",
    "- Evenly or unevenly spaced time series\n",
    "\n",
    "It is possible to extreact features from a dataset into a structured form."
   ]
  },
  {
   "cell_type": "markdown",
   "metadata": {},
   "source": [
    "## 1.4 Installation (Miniconda) and Setup\n",
    "\n",
    "1. Download Miniconda3 .sh file\n",
    "2. `bash Miniconda3-latest-Linux-x86_64.sh`\n",
    "3. After installed, allow conda to modify shell scripts (choose 'yes')\n",
    "4. Installing Necessary Packages (set conda-forge as default package channel)\n",
    "\n",
    "\tDocumentcation: https://conda-forge.org/#about\n",
    "\t- `conda config --add channels conda-forge`\n",
    "\t- `conda config --set channel_priority strict`\n",
    "\n",
    "5. Create new conda environment with `conda create`\n",
    "\n",
    "\t`conda create -y -n pydata-book python=3.10`\n",
    "\tThis will create a conda environment called 'pydata-book' with python 3.10 installed\n",
    "\n",
    "\tActive the environment with `conda activate pydata-book`"
   ]
  },
  {
   "cell_type": "code",
   "execution_count": null,
   "metadata": {},
   "outputs": [],
   "source": [
    "import numpy as np \n",
    "\n",
    "data = [np.random.standard_normal() for i in range(7)]"
   ]
  },
  {
   "cell_type": "markdown",
   "metadata": {},
   "source": [
    "## 2.2 IPython Basics\n",
    "- Use a question mark(?) before or after a variable to display some general information about the object.`np?` (object introspection)\n",
    "- Use question markl(?) to searching the IPython name space. E.g. np.*load*? search all functioins matched the expression."
   ]
  },
  {
   "cell_type": "code",
   "execution_count": null,
   "metadata": {},
   "outputs": [],
   "source": [
    "# isinstance() can take a tuple of types as 2nd argument \n",
    "a = 4.5 \n",
    "isinstance(a, (int, float))"
   ]
  },
  {
   "cell_type": "markdown",
   "metadata": {},
   "source": [
    "### Attributes and methods\n",
    "Attributes - other Python objects stored \"inside\" the object\n",
    "Methods - functions associated with an object that can access to the object's internal data\n",
    "\n",
    "Both attributes and methods can be accessed via `obj.attribute_name` or `getattr(a, 'split')`"
   ]
  },
  {
   "cell_type": "code",
   "execution_count": null,
   "metadata": {
    "scrolled": true
   },
   "outputs": [],
   "source": [
    "def isiterable(obj):\n",
    "    try:\n",
    "        iter(obj)\n",
    "        return True\n",
    "    except TypeError: # Not iterable\n",
    "        return False"
   ]
  },
  {
   "cell_type": "markdown",
   "metadata": {},
   "source": [
    "### Imports\n",
    "- import some_module\n",
    "- from some_module import g, PI\n",
    "- import some_module as m\n",
    "- from some_module import g as gf, PI as pi"
   ]
  },
  {
   "cell_type": "code",
   "execution_count": null,
   "metadata": {},
   "outputs": [],
   "source": [
    "template = \"{0:.2f} {1:s} are worth US$ {2:d}\"\n",
    "template.format(88.46, 'Argentine Pesos', 1)"
   ]
  },
  {
   "cell_type": "markdown",
   "metadata": {},
   "source": [
    "- {0:.2f} Format the first argument as a floating-point number with 2 decimal places\n",
    "- {1:s} Format the second argument as a string\n",
    "- {2:d} format the third argument as an exact integer"
   ]
  },
  {
   "cell_type": "code",
   "execution_count": null,
   "metadata": {},
   "outputs": [],
   "source": [
    "amount = 10\n",
    "rate = 88\n",
    "currency = \"Poses\"\n",
    "result = f\"{amount} {currency} is worth US {amount / rate}\""
   ]
  },
  {
   "cell_type": "code",
   "execution_count": null,
   "metadata": {},
   "outputs": [],
   "source": [
    "val = \"español\"\n",
    "\n",
    "val_utf8 = val.encode('utf-8')\n",
    "print(val_utf8)\n",
    "print('type of val_utf8')\n",
    "print(type(val_utf8))\n",
    "\n",
    "val = val_utf8.decode('utf-8')\n",
    "print(val)"
   ]
  },
  {
   "cell_type": "code",
   "execution_count": null,
   "metadata": {},
   "outputs": [],
   "source": [
    "from datetime import datetime\n",
    "\n",
    "dt = datetime(2011, 10, 29, 20, 30, 21)\n",
    "\n",
    "dt.day"
   ]
  },
  {
   "cell_type": "markdown",
   "metadata": {},
   "source": [
    "### Control Flow\n"
   ]
  },
  {
   "cell_type": "code",
   "execution_count": 63,
   "metadata": {},
   "outputs": [
    {
     "data": {
      "text/plain": [
       "12"
      ]
     },
     "execution_count": 63,
     "metadata": {},
     "output_type": "execute_result"
    }
   ],
   "source": [
    "sequence = [1, 2, None, 4, None, 5]\n",
    "\n",
    "total = 0\n",
    "\n",
    "# continue keyword will skipping the reminder of the block\n",
    "for value in sequence:\n",
    "\tif value is None:\n",
    "\t\tcontinue\n",
    "\ttotal += value\n",
    "\n",
    "# total = 12 (Run till end of the array, skipped all the None value)\n",
    "\n",
    "# break keyword will stop the loop entirely\n",
    "total = 0\n",
    "for value in sequence:\n",
    "\tif value is None:\n",
    "\t\tbreak\n",
    "\ttotal += value\n",
    "\n",
    "# total = 3 (stopped at the first None)"
   ]
  },
  {
   "cell_type": "markdown",
   "metadata": {},
   "source": [
    "Pass is the 'no-op' statement in Python. It used as a placeholder and not perform any action."
   ]
  }
 ],
 "metadata": {
  "kernelspec": {
   "display_name": "Python 3.10.6 64-bit",
   "language": "python",
   "name": "python3"
  },
  "language_info": {
   "codemirror_mode": {
    "name": "ipython",
    "version": 3
   },
   "file_extension": ".py",
   "mimetype": "text/x-python",
   "name": "python",
   "nbconvert_exporter": "python",
   "pygments_lexer": "ipython3",
   "version": "3.10.6 (main, Nov 14 2022, 16:10:14) [GCC 11.3.0]"
  },
  "vscode": {
   "interpreter": {
    "hash": "31f2aee4e71d21fbe5cf8b01ff0e069b9275f58929596ceb00d14d90e3e16cd6"
   }
  }
 },
 "nbformat": 4,
 "nbformat_minor": 2
}
