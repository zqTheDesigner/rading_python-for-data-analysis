{
 "cells": [
  {
   "cell_type": "markdown",
   "metadata": {},
   "source": [
    "What kinds of (structured) data:\n",
    "- Tabular\n",
    "- Multidimensional arrays (matrices)\n",
    "- Multiple tables of data interrelated by key columns (primary / foreign keys for SQL)\n",
    "- Evenly or unevenly spaced time series\n",
    "\n",
    "It is possible to extreact features from a dataset into a structured form."
   ]
  },
  {
   "cell_type": "markdown",
   "metadata": {},
   "source": [
    "## 1.4 Installation (Miniconda) and Setup\n",
    "\n",
    "1. Download Miniconda3 .sh file\n",
    "2. `bash Miniconda3-latest-Linux-x86_64.sh`\n",
    "3. After installed, allow conda to modify shell scripts (choose 'yes')\n",
    "4. Installing Necessary Packages (set conda-forge as default package channel)\n",
    "\n",
    "\tDocumentcation: https://conda-forge.org/#about\n",
    "\t- `conda config --add channels conda-forge`\n",
    "\t- `conda config --set channel_priority strict`\n",
    "\n",
    "5. Create new conda environment with `conda create`\n",
    "\n",
    "\t`conda create -y -n pydata-book python=3.10`\n",
    "\tThis will create a conda environment called 'pydata-book' with python 3.10 installed\n",
    "\n",
    "\tActive the environment with `conda activate pydata-book`"
   ]
  },
  {
   "cell_type": "code",
   "execution_count": 2,
   "metadata": {},
   "outputs": [],
   "source": [
    "import numpy as np \n",
    "\n",
    "data = [np.random.standard_normal() for i in range(7)]"
   ]
  },
  {
   "cell_type": "markdown",
   "metadata": {},
   "source": [
    "## 2.2 IPython Basics\n",
    "- Use a question mark(?) before or after a variable to display some general information about the object.`np?` (object introspection)\n",
    "- Use question markl(?) to searching the IPython name space. E.g. np.*load*? search all functioins matched the expression."
   ]
  },
  {
   "cell_type": "code",
   "execution_count": 26,
   "metadata": {},
   "outputs": [
    {
     "data": {
      "text/plain": [
       "True"
      ]
     },
     "execution_count": 26,
     "metadata": {},
     "output_type": "execute_result"
    }
   ],
   "source": [
    "# isinstance() can take a tuple of types as 2nd argument \n",
    "a = 4.5 \n",
    "isinstance(a, (int, float))"
   ]
  },
  {
   "cell_type": "markdown",
   "metadata": {},
   "source": [
    "### Attributes and methods\n",
    "Attributes - other Python objects stored \"inside\" the object\n",
    "Methods - functions associated with an object that can access to the object's internal data\n",
    "\n",
    "Both attributes and methods can be accessed via `obj.attribute_name` or `getattr(a, 'split')`"
   ]
  },
  {
   "cell_type": "code",
   "execution_count": 38,
   "metadata": {
    "scrolled": true
   },
   "outputs": [],
   "source": [
    "def isiterable(obj):\n",
    "    try:\n",
    "        iter(obj)\n",
    "        return True\n",
    "    except TypeError: # Not iterable\n",
    "        return False"
   ]
  }
 ],
 "metadata": {
  "kernelspec": {
   "display_name": "Python 3 (ipykernel)",
   "language": "python",
   "name": "python3"
  },
  "language_info": {
   "codemirror_mode": {
    "name": "ipython",
    "version": 3
   },
   "file_extension": ".py",
   "mimetype": "text/x-python",
   "name": "python",
   "nbconvert_exporter": "python",
   "pygments_lexer": "ipython3",
   "version": "3.9.12"
  },
  "vscode": {
   "interpreter": {
    "hash": "2866d548beb68b0ac29e4ef3117389ffdc46c603c051ec1bf851629c99f244de"
   }
  }
 },
 "nbformat": 4,
 "nbformat_minor": 2
}
