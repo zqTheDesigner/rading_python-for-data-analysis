{
 "cells": [
  {
   "attachments": {},
   "cell_type": "markdown",
   "metadata": {},
   "source": [
    "# NumPy Basics: Array and Vectorized Computation\n",
    "\n",
    "NumPy stores data in contiguous block of memory. \n",
    "NumPy operatons perform complex computations on entire array without the need of Python for Loops.\n",
    "\n",
    "NumPy is faster than regular Python code because of its C-based algorithms."
   ]
  },
  {
   "attachments": {},
   "cell_type": "markdown",
   "metadata": {},
   "source": [
    "## 4.1 NumPy ndarray: A Multidimensional Array Object\n",
    "N-dimensional array object\n",
    "\n",
    "All of the elements must be the same type."
   ]
  },
  {
   "cell_type": "code",
   "execution_count": null,
   "metadata": {},
   "outputs": [],
   "source": [
    "import numpy as np\n",
    "\n",
    "data1 = [6, 7.5, 8, 0, 1]\n",
    "\n",
    "arr1 = np.array(data1)\n",
    "\n",
    "arr1"
   ]
  },
  {
   "cell_type": "code",
   "execution_count": null,
   "metadata": {},
   "outputs": [],
   "source": [
    "data2 = [[1, 2, 3, 4], [5, 6, 7, 8]]\n",
    "\n",
    "arr2 = np.array(data2)\n",
    "\n",
    "arr2.ndim\n",
    "arr2.shape"
   ]
  },
  {
   "cell_type": "code",
   "execution_count": null,
   "metadata": {},
   "outputs": [],
   "source": [
    "np.ones((3, 6, 9))"
   ]
  },
  {
   "cell_type": "code",
   "execution_count": 8,
   "metadata": {},
   "outputs": [
    {
     "data": {
      "text/plain": [
       "array([ 0,  1,  2,  3,  4,  5,  6,  7,  8,  9, 10, 11, 12, 13, 14])"
      ]
     },
     "execution_count": 8,
     "metadata": {},
     "output_type": "execute_result"
    }
   ],
   "source": [
    "# return an array of uninitialized memory, use this only if intend to populate new array with data\n",
    "np.empty((2,3,2))\n",
    "\n",
    "# array-valued version of the built-in Python range function\n",
    "np.arange(15)\n",
    "\n"
   ]
  },
  {
   "attachments": {},
   "cell_type": "markdown",
   "metadata": {},
   "source": [
    "array - convert input data (any sequence type) to an ndarray either by inferring a data type or explicitly specifying a data type;copies the input data by default\n",
    "\n",
    "asarray - convert input to ndarray but do not copy if the input is already an ndarray\n",
    "\n",
    "arange - like the built-in range but returns and ndarray instead of a list\n",
    "\n",
    "ones, ones_like - produce an array of all 1s with the fiven shape. \n",
    "\n",
    "zeros, zeros_like - \n",
    "\n",
    "empty, empty_like - \n",
    "\n",
    "full, full_like - Product an array of the given shape and data type with all values set to iondicated fill value\n",
    "\n",
    "eye, identidy - create a sequare N X N identity matrix (1s on the dignal and 0s else where )"
   ]
  },
  {
   "cell_type": "code",
   "execution_count": 10,
   "metadata": {},
   "outputs": [
    {
     "data": {
      "text/plain": [
       "array([[1., 0., 0., 0., 0., 0., 0., 0., 0., 0.],\n",
       "       [0., 1., 0., 0., 0., 0., 0., 0., 0., 0.],\n",
       "       [0., 0., 1., 0., 0., 0., 0., 0., 0., 0.],\n",
       "       [0., 0., 0., 1., 0., 0., 0., 0., 0., 0.],\n",
       "       [0., 0., 0., 0., 1., 0., 0., 0., 0., 0.],\n",
       "       [0., 0., 0., 0., 0., 1., 0., 0., 0., 0.],\n",
       "       [0., 0., 0., 0., 0., 0., 1., 0., 0., 0.],\n",
       "       [0., 0., 0., 0., 0., 0., 0., 1., 0., 0.],\n",
       "       [0., 0., 0., 0., 0., 0., 0., 0., 1., 0.],\n",
       "       [0., 0., 0., 0., 0., 0., 0., 0., 0., 1.]])"
      ]
     },
     "execution_count": 10,
     "metadata": {},
     "output_type": "execute_result"
    }
   ],
   "source": [
    "np.identity(10)"
   ]
  },
  {
   "cell_type": "code",
   "execution_count": 15,
   "metadata": {},
   "outputs": [
    {
     "data": {
      "text/plain": [
       "dtype('float64')"
      ]
     },
     "execution_count": 15,
     "metadata": {},
     "output_type": "execute_result"
    }
   ],
   "source": [
    "# Convert or cast an array from one data type to another using astype method\n",
    "\n",
    "arr = np.array([1, 2, 3, 4, 5])\n",
    "\n",
    "arr.dtype\n",
    "\n",
    "float_arr = arr.astype(np.float64)\n",
    "\n",
    "float_arr.dtype\n"
   ]
  }
 ],
 "metadata": {
  "kernelspec": {
   "display_name": "Python 3",
   "language": "python",
   "name": "python3"
  },
  "language_info": {
   "codemirror_mode": {
    "name": "ipython",
    "version": 3
   },
   "file_extension": ".py",
   "mimetype": "text/x-python",
   "name": "python",
   "nbconvert_exporter": "python",
   "pygments_lexer": "ipython3",
   "version": "3.10.6"
  },
  "orig_nbformat": 4,
  "vscode": {
   "interpreter": {
    "hash": "31f2aee4e71d21fbe5cf8b01ff0e069b9275f58929596ceb00d14d90e3e16cd6"
   }
  }
 },
 "nbformat": 4,
 "nbformat_minor": 2
}
