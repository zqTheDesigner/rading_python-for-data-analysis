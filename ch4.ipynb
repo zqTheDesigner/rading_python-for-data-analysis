{
 "cells": [
  {
   "cell_type": "markdown",
   "metadata": {},
   "source": [
    "# NumPy Basics: Array and Vectorized Computation\n",
    "\n",
    "NumPy stores data in contiguous block of memory. \n",
    "NumPy operatons perform complex computations on entire array without the need of Python for Loops.\n",
    "\n",
    "NumPy is faster than regular Python code because of its C-based algorithms."
   ]
  },
  {
   "cell_type": "markdown",
   "metadata": {},
   "source": [
    "## 4.1 NumPy ndarray: A Multidimensional Array Object\n",
    "N-dimensional array object\n",
    "\n",
    "All of the elements must be the same type."
   ]
  },
  {
   "cell_type": "code",
   "execution_count": null,
   "metadata": {},
   "outputs": [],
   "source": [
    "import numpy as np\n",
    "\n",
    "data1 = [6, 7.5, 8, 0, 1]\n",
    "\n",
    "arr1 = np.array(data1)\n",
    "\n",
    "arr1"
   ]
  },
  {
   "cell_type": "code",
   "execution_count": null,
   "metadata": {},
   "outputs": [],
   "source": [
    "data2 = [[1, 2, 3, 4], [5, 6, 7, 8]]\n",
    "\n",
    "arr2 = np.array(data2)\n",
    "\n",
    "arr2.ndim\n",
    "arr2.shape"
   ]
  },
  {
   "cell_type": "code",
   "execution_count": null,
   "metadata": {},
   "outputs": [],
   "source": [
    "np.ones((3, 6, 9))"
   ]
  },
  {
   "cell_type": "code",
   "execution_count": null,
   "metadata": {},
   "outputs": [],
   "source": [
    "# return an array of uninitialized memory, use this only if intend to populate new array with data\n",
    "np.empty((2,3,2))\n",
    "\n",
    "# array-valued version of the built-in Python range function\n",
    "np.arange(15)\n",
    "\n"
   ]
  },
  {
   "cell_type": "markdown",
   "metadata": {},
   "source": [
    "array - convert input data (any sequence type) to an ndarray either by inferring a data type or explicitly specifying a data type;copies the input data by default\n",
    "\n",
    "asarray - convert input to ndarray but do not copy if the input is already an ndarray\n",
    "\n",
    "arange - like the built-in range but returns and ndarray instead of a list\n",
    "\n",
    "ones, ones_like - produce an array of all 1s with the fiven shape. \n",
    "\n",
    "zeros, zeros_like - \n",
    "\n",
    "empty, empty_like - \n",
    "\n",
    "full, full_like - Product an array of the given shape and data type with all values set to iondicated fill value\n",
    "\n",
    "eye, identidy - create a sequare N X N identity matrix (1s on the dignal and 0s else where )"
   ]
  },
  {
   "cell_type": "code",
   "execution_count": null,
   "metadata": {},
   "outputs": [],
   "source": [
    "np.identity(10)"
   ]
  },
  {
   "cell_type": "code",
   "execution_count": null,
   "metadata": {},
   "outputs": [],
   "source": [
    "# Convert or cast an array from one data type to another using astype method\n",
    "\n",
    "arr = np.array([1, 2, 3, 4, 5])\n",
    "\n",
    "arr.dtype\n",
    "\n",
    "float_arr = arr.astype(np.float64)\n",
    "\n",
    "float_arr.dtype\n"
   ]
  },
  {
   "cell_type": "code",
   "execution_count": null,
   "metadata": {},
   "outputs": [],
   "source": [
    "# Indexing and slicing\n",
    "arr = np.arange(10)\n",
    "\n",
    "arr[5:8]\n",
    "\n",
    "# Broadcast\n",
    "arr[5:8] = 12\n",
    "\n",
    "arr\n",
    "\n",
    "# Copy the array slice so the modification will not reflect in the original array\n",
    "arr[5:8].copy()"
   ]
  },
  {
   "cell_type": "code",
   "execution_count": null,
   "metadata": {},
   "outputs": [],
   "source": [
    "arr2d = np.array([[1,2], [3,4], [5,6]])\n",
    "\n",
    "arr2d[0,1]"
   ]
  },
  {
   "cell_type": "code",
   "execution_count": null,
   "metadata": {},
   "outputs": [],
   "source": [
    "# Indexing with slices\n",
    "arr2d = np.array([[1,2,3], [4,5,6], [7,8,9]])\n",
    "\n",
    "# Select second row but only the first 2 columns\n",
    "arr2d[1, :2]\n",
    "\n",
    "# Select 3rd column byt only first 2 rows\n",
    "arr2d[:2, 2]\n",
    "\n",
    "# Select rows, first column\n",
    "arr2d[:, :1]\n",
    "\n",
    "arr2d[:2, 1:]"
   ]
  },
  {
   "cell_type": "code",
   "execution_count": null,
   "metadata": {},
   "outputs": [],
   "source": [
    "arr3d = np.random.randint(0, 100, size=(3, 3, 3, 4))\n",
    "arr3d"
   ]
  },
  {
   "cell_type": "code",
   "execution_count": null,
   "metadata": {},
   "outputs": [],
   "source": [
    "arr3d[:2,1:3, :, 1:2]\n",
    "# [panel, row, column]"
   ]
  },
  {
   "cell_type": "code",
   "execution_count": null,
   "metadata": {},
   "outputs": [],
   "source": [
    "# Boolean indexing\n",
    "names = np.array(['Bob', 'Joe', 'Bob', 'Will'])\n",
    "\n",
    "# Create array of boolean with arithmetic operations\n",
    "names == 'Bob'"
   ]
  },
  {
   "cell_type": "code",
   "execution_count": null,
   "metadata": {},
   "outputs": [],
   "source": [
    "data = np.array([1, 2, 3, 4])\n",
    "\n",
    "# When pass array of boolean to another np array, the value in truthy index\n",
    "# will be returned as view\n",
    "\n",
    "# The boolean array must be of the same length as the array axis\n",
    "data[names=='Bob'] = 0\n",
    "\n",
    "# To select everythong but \"Bob\"\n",
    "names != 'Bob'\n",
    "~(names == 'Bob')\n",
    "\n",
    "# Use ~ operator to invert a Boolean array referenced by a variable\n",
    "\n",
    "# To select two or more names to combine multiple Boolean conditions\n",
    "mask = (names == 'Bob') | (names == 'Will')"
   ]
  },
  {
   "cell_type": "code",
   "execution_count": null,
   "metadata": {},
   "outputs": [],
   "source": [
    "data"
   ]
  },
  {
   "cell_type": "code",
   "execution_count": null,
   "metadata": {},
   "outputs": [],
   "source": [
    "# To set all negative value to 0\n",
    "data[data < 0] = 0"
   ]
  },
  {
   "cell_type": "markdown",
   "metadata": {},
   "source": [
    "### Fancy indexing\n",
    "Describe indexing using integer arrays"
   ]
  },
  {
   "cell_type": "code",
   "execution_count": null,
   "metadata": {},
   "outputs": [],
   "source": [
    "arr = np.zeros((8,4))\n",
    "\n",
    "for i in range(8):\n",
    "\tarr[i] = i"
   ]
  },
  {
   "cell_type": "code",
   "execution_count": null,
   "metadata": {},
   "outputs": [],
   "source": [
    "# To select a subset of the rows in a particular order\n",
    "# pass a list of ndarray of integers specifying the designer order\n",
    "arr[[4, 3, 0, 6]]\n",
    "\n",
    "arr[[-3, -5, -7]]\n"
   ]
  },
  {
   "cell_type": "code",
   "execution_count": null,
   "metadata": {},
   "outputs": [],
   "source": [
    "arr = np.arange(32).reshape((8, 4))\n",
    "\n",
    "\n",
    "# Selecting one dimensional array of elements corresponding to each tuple of indices\n",
    "# (1, 0) (5, 3) (7, 1) (2, 2) will be selected\n",
    "arr[[1, 5, 7, 2], [0, 3, 1, 2]]\n",
    "\n",
    "# To select rectangular region formed by subset of matrix's rows and columns\n",
    "arr[[1, 5, 7, 2]][:,[0, 3, 1, 2]]\n",
    "\n",
    "# Fancy slicing will return a view or original array\n",
    "arr[[1, 5, 7, 2], [0, 3, 1, 2]] = 0 "
   ]
  },
  {
   "cell_type": "markdown",
   "metadata": {},
   "source": [
    "### Transposing Arrays and Swapping Axes\n",
    "arr.T\n",
    "\n",
    "arr.swataxes(0, 1)"
   ]
  },
  {
   "cell_type": "code",
   "execution_count": null,
   "metadata": {},
   "outputs": [],
   "source": [
    "arr = np.arange(4).reshape((2,2))\n",
    "\n",
    "arr\n",
    "\n",
    "np.dot(arr, arr)\n"
   ]
  },
  {
   "cell_type": "code",
   "execution_count": null,
   "metadata": {},
   "outputs": [],
   "source": [
    "arr"
   ]
  },
  {
   "cell_type": "code",
   "execution_count": null,
   "metadata": {},
   "outputs": [],
   "source": [
    "arr_a = np.array([[1,2], [1,2]])\n",
    "\n",
    "arr_b = np.array([[1,2], [1,2]])"
   ]
  },
  {
   "cell_type": "code",
   "execution_count": null,
   "metadata": {},
   "outputs": [],
   "source": [
    "np.dot(arr_a, arr_b)"
   ]
  },
  {
   "cell_type": "markdown",
   "metadata": {},
   "source": [
    "## 4.2 Presudorandom Number Generation\n",
    "\n",
    "Efficiently generating while arrays of sample values. "
   ]
  },
  {
   "cell_type": "code",
   "execution_count": null,
   "metadata": {},
   "outputs": [],
   "source": [
    "# Get a 4 x 4 array of samples from the standard normal distribution\n",
    "\n",
    "samples = np.random.standard_normal(size=(4,4))\n",
    "\n",
    "samples\n"
   ]
  },
  {
   "cell_type": "code",
   "execution_count": null,
   "metadata": {},
   "outputs": [],
   "source": [
    "from random import normalvariate\n",
    "N = 1_000_000\n",
    "\n",
    "%timeit samples = [normalvariate(0, 1) for _ in range(N)]"
   ]
  },
  {
   "cell_type": "code",
   "execution_count": null,
   "metadata": {},
   "outputs": [],
   "source": [
    "samples"
   ]
  },
  {
   "cell_type": "code",
   "execution_count": null,
   "metadata": {},
   "outputs": [],
   "source": [
    "%timeit np.random.standard_normal(N)"
   ]
  },
  {
   "cell_type": "code",
   "execution_count": null,
   "metadata": {},
   "outputs": [],
   "source": [
    "# Seed argument is what determines the initial state of the generator.\n",
    "# and the state changes each time the rng object is used to generate data. \n",
    "\n",
    "rng = np.random.default_rng(seed=1)\n",
    "\n",
    "data = rng.standard_normal((2, 3))"
   ]
  },
  {
   "cell_type": "markdown",
   "metadata": {},
   "source": [
    "### NumPy random number generator methods\n",
    "\n",
    "| Method | Description |\n",
    "|-|-|\n",
    "| permutation | Return a random permutation of a sequence or return a permuted range | \n",
    "| shuffle | Randomly permute a sequence in place |\n",
    "| uniform | Draw samples from a uniform distribution | \n",
    "| integers | Draw random integers from a given low-to-high range |\n",
    "| standard_normal | Draw samples from a normal distribution with mean 0 and standard deviation 1 | \n",
    "| binomial | Draw samples from a binomial distribution | \n",
    "| normal | Draw samples from a normal (Gaussian) distribution | \n",
    "| beta | Draw samples from a beta distribution | \n",
    "| chisquare | Draw samples from a chi-square distribution |\n",
    "| gamma | Draw samples from a gamma distribution | \n",
    "| uniform | Draw samples from a uniform [0, 1) distribution | "
   ]
  },
  {
   "cell_type": "markdown",
   "metadata": {},
   "source": [
    "## 4.3 Universal Functions: Fast Element-Wise Array Functions\n",
    "ufunc - a function that performs element-wise operations on data in ndarrays.\n",
    "\n",
    "Fast vectorized wrappers from simple functions that take one or more scalar values and product one or more results.\n",
    "\n",
    "### numpy.maximum \n",
    "Captures the element-wise maximum of the elements in x and y\n",
    "\n",
    "### numpy.modf\n",
    "Returns multiple array - the functional and integral parts of a floating-point array.\n",
    "`remainder, whole_part = np.modif(arr)`\n",
    "\n",
    "ufuncs accept an oprional out argument, allows them to assign their results in to an existing array\n",
    "\n",
    "`np.add(arr, 1, out=out)`\n",
    "\n",
    "\n"
   ]
  },
  {
   "cell_type": "code",
   "execution_count": null,
   "metadata": {},
   "outputs": [],
   "source": [
    "arr = np.arange(10)\n",
    "\n",
    "np.sqrt(arr)"
   ]
  },
  {
   "cell_type": "markdown",
   "metadata": {},
   "source": [
    "## 4.4 Array-Oriented Programming with Arrays\n",
    "\n",
    "Replacing explicit loops with array expressions - vectorization \n",
    "\n"
   ]
  },
  {
   "cell_type": "code",
   "execution_count": null,
   "metadata": {},
   "outputs": [],
   "source": [
    "points = np.arange(-5, 5, 0.01) \n",
    "\n",
    "# np.meshgrid takes tow one dimensional array and product tow two-dimensional matrices\n",
    "xs, ys = np.meshgrid(points, points)\n",
    "\n",
    "# Evaluating the function\n",
    "z = np.sqrt(xs ** 2 + ys ** 2)"
   ]
  },
  {
   "cell_type": "code",
   "execution_count": null,
   "metadata": {},
   "outputs": [],
   "source": [
    "import matplotlib.pyplot as plt\n",
    "\n",
    "\n",
    "plt.imshow(z, cmap=plt.cm.gray, extent=[-5, 5, -5, 5])\n",
    "plt.colorbar()\n",
    "plt.title('Image plot of $\\sqrt{x^2 + y^2}$ for a grid of values')"
   ]
  },
  {
   "cell_type": "markdown",
   "metadata": {},
   "source": [
    "### Expressing Conditional Logics as Array Operations \n",
    "numpy.where is a vectorized version of ternary expression `x if condition else y`"
   ]
  },
  {
   "cell_type": "code",
   "execution_count": null,
   "metadata": {},
   "outputs": [],
   "source": [
    "xarr = np.array([1, 2, 3, 4, 5])\n",
    "yarr = np.array([3, 4, 5, 6, 7])\n",
    "cond = np.array([True, False, True, True, False])\n",
    "\n",
    "# If condition is True use the value from xarr, else use yarr\n",
    "result = [(x if c else y) for x, y, c in zip(xarr, yarr, cond)]\n",
    "\n",
    "# 2nd and 3rd arguments of numpy.where don't need to be arrays, one or both of them can be scalars\n",
    "result = np.where(cond, xarr, yarr)\n",
    "\n",
    "# Use np.where to product a new array of values based on another array\n",
    "rng = np.random.default_rng(seed=123)\n",
    "arr = rng.standard_normal((4,4))\n",
    "\n",
    "# Replace all positive valyes in arr with constant 2\n",
    "np.where(arr > 0, 2, arr)\n"
   ]
  },
  {
   "cell_type": "markdown",
   "metadata": {},
   "source": [
    "### Mathematical and Statistical Methods\n",
    "\n",
    "A set of mathematical functions that compute statistics about an entire array or about the data along an axis\n",
    "\n",
    "`arr.mean(axis=1)` means compute mean across the columns\n",
    "`arr.mean(axis=0)` means compute mean across the rows"
   ]
  },
  {
   "cell_type": "code",
   "execution_count": null,
   "metadata": {},
   "outputs": [],
   "source": [
    "# Generate some normally distributed random data and compute some aggregate statistics\n",
    "arr = rng.standard_normal((5,4))\n",
    "arr.mean()\n",
    "arr.sum()"
   ]
  },
  {
   "cell_type": "markdown",
   "metadata": {},
   "source": [
    "### Basic array statstical methods\n",
    "| Method | Description |\n",
    "|-|-|\n",
    "| sum | Sum of all elements in the array or along an axis |\n",
    "| mean | Arithmetic mean; invalid on zero-length arrays | \n",
    "| std, var | Standard deviation and variable | \n",
    "| min, max | Minimum and maximum |\n",
    "| argmin, argmax | Indices of minimum and maximum elements |  \n",
    "| cumsum | Cumulative sum of elements starting from 0 | \n",
    "| cumprod | Cumulative product of elements starting from 1 | "
   ]
  },
  {
   "cell_type": "markdown",
   "metadata": {},
   "source": [
    "### Methods for boolean arrays\n",
    "\n",
    "1 True\n",
    "0 False"
   ]
  },
  {
   "cell_type": "code",
   "execution_count": null,
   "metadata": {},
   "outputs": [],
   "source": [
    "rng = np.random.default_rng(seed=1)\n",
    "\n",
    "arr = rng.standard_normal(100)\n",
    "\n",
    "# Get the sum or a temporary result of arr > 0, calculate all positive values\n",
    "(arr > 0).sum()\n",
    "\n",
    "(arr < 0).sum()\n",
    "\n",
    "bools = np.array([False, True, False])\n",
    "bools.any() # True\n",
    "bools.all() # False"
   ]
  },
  {
   "cell_type": "markdown",
   "metadata": {},
   "source": [
    "### Sorting\n"
   ]
  },
  {
   "cell_type": "code",
   "execution_count": null,
   "metadata": {},
   "outputs": [],
   "source": [
    "arr = rng.standard_normal(6)\n",
    "\n",
    "arr.sort()\n",
    "\n",
    "arr\n",
    "\n",
    "arr = rng.standard_normal((5, 3))\n",
    "\n",
    "# sorts values with each column\n",
    "arr.sort(axis=0)\n",
    "# sorts values in each row\n",
    "arr.sort(axis=1)\n",
    "\n",
    "# numpy.sort return a sorted copy of an array\n",
    "sorted = np.sort(arr)"
   ]
  },
  {
   "cell_type": "markdown",
   "metadata": {},
   "source": [
    "### Unique and other set logic\n",
    "| Method | Description |\n",
    "|-|-|\n",
    "| unique(x) | compute the sorted, unique elements in x |\n",
    "| intersect1d(x, y) | computed the sorted, common elements in x and y |\n",
    "| union1d(x, y) | computed the sorted, union of elements | \n",
    "| in1d(x, y) | computed a boolean array indicating whether each elements of x is contained in y |\n",
    "| setdiff1d(x, y) | Set difference , elements in X that are not in y | \n",
    "| setxor1d(x, y) | set symmetric differences; elements that are in either of the array but not in both | "
   ]
  },
  {
   "cell_type": "code",
   "execution_count": null,
   "metadata": {},
   "outputs": [],
   "source": [
    "arr.unique() # return an array of unique values\n",
    "\n",
    "# Test if element in arr also inside 2nd argument, return a boolean array\n",
    "np.in1d(arr, [1, 2, 3])"
   ]
  },
  {
   "cell_type": "markdown",
   "metadata": {},
   "source": [
    "### File input and output with arrays\n",
    "\n",
    "numpy.save and numpy.load for efficiently saving and loading array data on disk"
   ]
  },
  {
   "cell_type": "code",
   "execution_count": null,
   "metadata": {},
   "outputs": [],
   "source": [
    "arr = np.arange(10)\n",
    "\n",
    "np.save(\"./practice/some_array\", arr)"
   ]
  },
  {
   "cell_type": "code",
   "execution_count": null,
   "metadata": {},
   "outputs": [],
   "source": [
    "np.load('./practice/some_array.npy')"
   ]
  },
  {
   "cell_type": "code",
   "execution_count": null,
   "metadata": {},
   "outputs": [],
   "source": [
    "# Save multiple arrays in an uncompressed archive\n",
    "np.savez(\"./practice/array_arhive.npz\", a=arr, test=arr)"
   ]
  },
  {
   "cell_type": "code",
   "execution_count": null,
   "metadata": {},
   "outputs": [],
   "source": [
    "arch = np.load(\"./practice/array_arhive.npz\")"
   ]
  },
  {
   "cell_type": "code",
   "execution_count": null,
   "metadata": {},
   "outputs": [],
   "source": [
    "# When loading an .npz file, you get back a dictionary-like object, loads the individual array lazily\n",
    "arch[\"test\"]"
   ]
  },
  {
   "cell_type": "code",
   "execution_count": null,
   "metadata": {},
   "outputs": [],
   "source": [
    "# Save compressed array\n",
    "np.savez_compressed(\"./practice/array_compressed.npz\", a=arr)"
   ]
  },
  {
   "cell_type": "markdown",
   "metadata": {},
   "source": [
    "### 4.6 Lindar Algebra\n",
    "Matrix multiplication\n",
    "Decompositions\n",
    "Determinations\n",
    "other square matrix math\n",
    "\n",
    "| Method | Description |\n",
    "|-|-|\n",
    "| diag | Return the diagonal (off-diagonal) elements of a square matrix ad a 1D array, or convert 1D array in to a square matrix with zeros on the off-diagonal | \n",
    "| dot | matrix multiplication |\n",
    "| trace | compute the sum of the diagonal elements |\n",
    "| det | compute the matrix determinant | \n",
    "| eig | compute the eigenvalues and eigenvvectors of a square matrix | \n",
    "| inv | compute the inverse of a square matrix | \n",
    "| pinv | compute the Moore-Penrose pesudoinverse of a matrix | \n",
    "| qr | compute the QR decomposition |\n",
    "| svd | compute the singular value decomposition (SVD) | \n",
    "| solve | solve the linear system Ax = b for x where A is a square matrix |\n",
    "| lstsq | compute the least-squares solution to Ax = b |"
   ]
  },
  {
   "cell_type": "code",
   "execution_count": null,
   "metadata": {},
   "outputs": [],
   "source": [
    "x = np.array([[1,2,3],[4,5,6]])\n",
    "\n",
    "# the @ symbol will perform matrix operation\n",
    "x @ np.ones(3)"
   ]
  },
  {
   "cell_type": "markdown",
   "metadata": {},
   "source": [
    "Numpy linalg has standard set of matrix decompositions "
   ]
  },
  {
   "cell_type": "code",
   "execution_count": null,
   "metadata": {},
   "outputs": [],
   "source": [
    "X = rng.standard_normal((5, 5))"
   ]
  },
  {
   "cell_type": "code",
   "execution_count": null,
   "metadata": {},
   "outputs": [],
   "source": [
    "X.T"
   ]
  },
  {
   "cell_type": "code",
   "execution_count": null,
   "metadata": {},
   "outputs": [],
   "source": [
    "mat = X.T @ X"
   ]
  },
  {
   "cell_type": "code",
   "execution_count": null,
   "metadata": {},
   "outputs": [],
   "source": [
    "from numpy.linalg import inv\n",
    "\n",
    "# The inverse of a matrix is a matrix that, when multiplied by the original matrix, results in the identity matrix\n",
    "# the identity matrix is a square matrix with 1's on the digonal and 0's everywhere else\n",
    "X @ inv(X)"
   ]
  },
  {
   "cell_type": "markdown",
   "metadata": {},
   "source": [
    "### 4.7 Example: Random walks\n"
   ]
  },
  {
   "cell_type": "code",
   "execution_count": null,
   "metadata": {},
   "outputs": [],
   "source": [
    "# Pure python way to implement random walk \n",
    "\n",
    "import random\n",
    "\n",
    "position = 0\n",
    "\n",
    "walk = [position]\n",
    "\n",
    "nsteps = 1000\n",
    "\n",
    "for _ in range(nsteps):\n",
    "\tstep = 1 if random.randint(0,1) else -1\n",
    "\tposition += step\n",
    "\twalk.append(position)\n",
    "\n",
    "import matplotlib.pyplot as plt\n",
    "plt.plot(walk[:100])"
   ]
  },
  {
   "cell_type": "code",
   "execution_count": null,
   "metadata": {},
   "outputs": [],
   "source": [
    "rng = np.random.default_rng(seed=2345) # fresh random generator\n",
    "\n",
    "# Generate a nsteps sized 1d random integer array between 0 and 2\n",
    "draws = rng.integers(0, 2, size = nsteps) \n",
    "\n",
    "# print(draws)\n",
    "\n",
    "# If draw is 0, move one step left (+1), else 1 step right (-1) \n",
    "steps = np.where(draws == 0, 1, -1)\n",
    "\n",
    "# Get the cumulative sum of the steps array\n",
    "walk = steps.cumsum()\n",
    "\n",
    "walk.min()\n",
    "walk.max()"
   ]
  },
  {
   "cell_type": "code",
   "execution_count": null,
   "metadata": {},
   "outputs": [],
   "source": [
    "# Find the first time walker reached the 10 distance\n",
    "# Conver walk array to boolean, where when reaches 10 (either left or right) is true else is flase\n",
    "# argmax() will return the first reached max value (first True value)\n",
    "# argmax() is not the most efficient way, it always takes a full scan of the array\n",
    "(np.abs(walk) >= 10).argmax()"
   ]
  },
  {
   "cell_type": "code",
   "execution_count": null,
   "metadata": {},
   "outputs": [],
   "source": [
    "# Simulating Many Rnadom Walks at Once\n",
    "# Pass a 2-tuple, use numpy.random to generate a two-dimensional array\n",
    "\n",
    "nwalks = 5000\n",
    "nsteps = 1000\n",
    "\n",
    "draws = rng.integers(0, 2, size=(nwalks, nsteps))\n",
    "steps = np.where(draws > 0, 1, -1)\n",
    "walks = steps.cumsum(axis=1)\n"
   ]
  },
  {
   "cell_type": "code",
   "execution_count": null,
   "metadata": {},
   "outputs": [],
   "source": [
    "np.amax(walks, axis=1)\n",
    "np.amin(walks, axis=1).max()"
   ]
  }
 ],
 "metadata": {
  "kernelspec": {
   "display_name": "Python 3 (ipykernel)",
   "language": "python",
   "name": "python3"
  },
  "language_info": {
   "codemirror_mode": {
    "name": "ipython",
    "version": 3
   },
   "file_extension": ".py",
   "mimetype": "text/x-python",
   "name": "python",
   "nbconvert_exporter": "python",
   "pygments_lexer": "ipython3",
   "version": "3.9.12 (main, Apr  5 2022, 06:56:58) \n[GCC 7.5.0]"
  },
  "vscode": {
   "interpreter": {
    "hash": "2866d548beb68b0ac29e4ef3117389ffdc46c603c051ec1bf851629c99f244de"
   }
  }
 },
 "nbformat": 4,
 "nbformat_minor": 2
}
