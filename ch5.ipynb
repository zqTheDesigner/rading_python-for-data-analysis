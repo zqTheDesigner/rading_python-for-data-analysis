{
 "cells": [
  {
   "attachments": {},
   "cell_type": "markdown",
   "metadata": {},
   "source": [
    "# Getting Started with pandas\n",
    "\n",
    "Pandas is designed for working with tabular of heterogeneous data\n",
    "NumPy is best suited for working with homogeneously typed numerical array data\n",
    "\n",
    "## 5.1 Introduction to pandas Data Structures\n",
    "\n",
    "### Series\n",
    "\n",
    "One-dimensional array-like object containing a sequence of values of the same type and an associated array of data labels.\n",
    "\n",
    "### DataFrame\n",
    "\n",
    "DataFrame repersents a rectangular table of data and contains an ordered, named collection of columns.\n"
   ]
  },
  {
   "cell_type": "code",
   "execution_count": null,
   "metadata": {},
   "outputs": [],
   "source": [
    "import pandas as pd\n",
    "import numpy as np\n"
   ]
  },
  {
   "cell_type": "code",
   "execution_count": null,
   "metadata": {},
   "outputs": [],
   "source": [
    "# Create a series with an index identifying each data point with a label\n",
    "\n",
    "obj2 = pd.Series([1, 2, 3, 4], index=[\"a\", \"b\", \"c\", \"d\"])\n",
    "\n",
    "# Select by index label like numpy\n",
    "obj2[[\"c\", \"a\", \"d\"]]\n",
    "\n",
    "# Check if an element exist in the series\n",
    "\"b\" in obj2\n",
    "\n",
    "# Create a series from dictionary\n",
    "sdata = {\"a\": 1, \"b\": 2}\n",
    "obj3 = pd.Series(sdata)\n",
    "\n",
    "# Convert series back to dictionary\n",
    "obj3.to_dict()\n",
    "\n",
    "# Passing in an index to define the order or data, filter out the data that is not in the list\n",
    "# If cannot found the data in index from dictionary, will assign NaN to it\n",
    "data_index = [\"c\", \"a\"]\n",
    "pd.Series(sdata, index=data_index)\n",
    "\n",
    "# Detect missing datas\n",
    "pd.isna(obj2)\n",
    "obj2.isna()\n",
    "pd.notna(obj2)\n",
    "obj2.notna()\n",
    "\n",
    "# Assign name sand index name\n",
    "obj3.name = \"Population\"\n",
    "obj3.index.name = \"States\"\n",
    "\n",
    "# Alter Series's index by passing in another array, the array have to be same length as the series\n",
    "obj3.index = [\"x\", \"y\"]\n"
   ]
  },
  {
   "cell_type": "code",
   "execution_count": null,
   "metadata": {},
   "outputs": [],
   "source": [
    "# Construct a DataFrame through a dictionary of equal-length lists or NumPy arrays\n",
    "fdata = {\n",
    "    \"state\": [\"Ohio\", \"Ohio\", \"Nevada\"],\n",
    "    \"year\": [2000, 2001, 2001],\n",
    "    \"pop\": [1.5, 1.7, 3.6],\n",
    "}\n",
    "\n",
    "frame = pd.DataFrame(fdata)\n",
    "\n",
    "# First and last 5 rows of the DataFrame\n",
    "frame.head()\n",
    "frame.tail()\n",
    "\n",
    "# specify a sequence of columns (if pass columns that isn't contained in dictionary,\n",
    "# will appear as missing value)\n",
    "frame.columns = [\"state\", \"year\", \"pop\"]\n",
    "\n",
    "# Select a column from dataframe\n",
    "frame[\"state\"]\n",
    "\n",
    "# Select a row from dataframe\n",
    "frame.loc[1]\n",
    "frame.iloc[1]\n",
    "\n",
    "# Modify the entire column\n",
    "frame[\"state\"] = \"Anything\"\n",
    "frame[\"state\"] = np.arange(3)\n",
    "\n",
    "frame[\"Year 2000\"] = frame[\"year\"] == 2000\n",
    "\n",
    "# Delete a column from frame\n",
    "del frame[\"pop\"]\n",
    "\n",
    "# Transpose a frame\n",
    "frame.T\n",
    "\n",
    "# Return the data contained as a tow-dimensional ndarray\n",
    "frame.to_numpy\n"
   ]
  },
  {
   "attachments": {},
   "cell_type": "markdown",
   "metadata": {},
   "source": [
    "### Index objects\n",
    "\n",
    "Responsible for holding the axis labels\n",
    "\n",
    "Index objects are immutable\n",
    "\n",
    "Pandas index can contain duplicate labels, selection with duplicate labels will select all occurrences of the label\n"
   ]
  },
  {
   "cell_type": "code",
   "execution_count": null,
   "metadata": {},
   "outputs": [],
   "source": [
    "fframe = pd.DataFrame(\n",
    "    [\"foooo\", \"foooo\", \"foooo\", \"barrr\"], index=[\"foo\", \"foo\", \"foo\", \"bar\"]\n",
    ")\n",
    "\n",
    "# Select index with duplicated labels will select all occurrences of the label\n",
    "fframe.loc[\"foo\"]\n"
   ]
  },
  {
   "attachments": {},
   "cell_type": "markdown",
   "metadata": {},
   "source": [
    "### Index methods and properties\n",
    "\n",
    "| Method         | Description                                                                               |\n",
    "| -------------- | ----------------------------------------------------------------------------------------- |\n",
    "| append()       | Concatenate with additional index object, producing a new index                           |\n",
    "| difference()   | Compte set difference as an index                                                         |\n",
    "| intersection() | compute set intersection                                                                  |\n",
    "| union()        | Compute set union                                                                         |\n",
    "| isin()         | compute boolean array indicating whether each value is contained in the passed collection |\n",
    "| delete()       | compute new index with elements at index i is deleted                                     |\n",
    "| insert()       | compute new index by inserting element at index i                                         |\n",
    "| is_monotonic   | Return true if each element is greater pr equal to the previous element                   |\n",
    "| is_unique      | return true is fht index has not duplicate values                                         |\n",
    "| unique()       | Compute the array of unique values in the index                                           |\n"
   ]
  },
  {
   "attachments": {},
   "cell_type": "markdown",
   "metadata": {},
   "source": [
    "## 5.2 Essential Functionality\n",
    "\n",
    "### Reindexing\n",
    "\n",
    "Crete a new object with the values arranged to align with the new index\n"
   ]
  },
  {
   "cell_type": "code",
   "execution_count": null,
   "metadata": {},
   "outputs": [],
   "source": [
    "obj = pd.Series([4.5, 3.2, -5.3, 3.6], index=[0, 2, 4, 6])\n",
    "obj\n"
   ]
  },
  {
   "cell_type": "code",
   "execution_count": null,
   "metadata": {},
   "outputs": [],
   "source": [
    "# Rearrange the data accorading to the new index, introducing missing values if any idex values where not already present\n",
    "# use 'ffill' forward-fills to fill upo the missing value\n",
    "obj2 = obj.reindex(np.arange(10), method=\"ffill\")\n"
   ]
  },
  {
   "cell_type": "code",
   "execution_count": null,
   "metadata": {},
   "outputs": [],
   "source": [
    "frame = pd.DataFrame(\n",
    "    np.arange(9).reshape(3, 3),\n",
    "    index=[\"a\", \"c\", \"d\"],\n",
    "    columns=[\"Ohio\", \"Texas\", \"California\"],\n",
    ")\n"
   ]
  },
  {
   "cell_type": "code",
   "execution_count": null,
   "metadata": {},
   "outputs": [],
   "source": [
    "# Reindex rows\n",
    "frame2 = frame.reindex(index=[\"a\", \"b\", \"c\", \"d\"])\n"
   ]
  },
  {
   "cell_type": "code",
   "execution_count": null,
   "metadata": {},
   "outputs": [],
   "source": [
    "# Reindex dolumns\n",
    "states = [\"Texas\", \"Utah\", \"California\"]\n",
    "frame3 = frame.reindex(columns=states)\n"
   ]
  },
  {
   "cell_type": "code",
   "execution_count": null,
   "metadata": {},
   "outputs": [],
   "source": [
    "frame\n"
   ]
  },
  {
   "cell_type": "code",
   "execution_count": null,
   "metadata": {},
   "outputs": [],
   "source": [
    "# reindex with loc operator\n",
    "# Works only if all of the new index labels already exist in the DataFrame\n",
    "# Where reindex will insert missing data for new labels\n",
    "# df.loc[rows, columns]\n",
    "frame.loc[[\"a\", \"d\", \"c\"], [\"California\", \"Texas\"]]\n"
   ]
  },
  {
   "cell_type": "code",
   "execution_count": null,
   "metadata": {},
   "outputs": [],
   "source": [
    "# Dropping Entries from an axis\n",
    "# Use reindex method or .loc based indexing if already have an index array without those entries\n",
    "\n",
    "obj = pd.Series(np.arange(5), index=[\"a\", \"b\", \"c\", \"d\", \"e\"])\n",
    "\n",
    "new_obj = obj.drop(\"c\")\n",
    "new_obj = obj.drop([\"a\", \"e\"])\n"
   ]
  },
  {
   "cell_type": "code",
   "execution_count": null,
   "metadata": {},
   "outputs": [],
   "source": [
    "data = pd.DataFrame(\n",
    "    np.arange(16).reshape((4, 4)),\n",
    "    index=[\"Ohio\", \"Colorado\", \"Utah\", \"New York\"],\n",
    "    columns=[\"one\", \"two\", \"three\", \"four\"],\n",
    ")\n",
    "\n",
    "# Drop values from row and columns\n",
    "data.drop(index=[\"Ohio\", \"Colorado\"], columns=[\"two\"])\n",
    "# Drop values ba passing axis - 1 or \"columns\"\n",
    "data.drop(\"two\", axis=1)\n"
   ]
  },
  {
   "cell_type": "code",
   "execution_count": null,
   "metadata": {},
   "outputs": [],
   "source": [
    "# Indexing, selection and Filtering\n",
    "obj = pd.Series(np.arange(4), index=[\"a\", \"b\", \"c\", \"d\"])\n",
    "\n",
    "obj[[\"a\", \"b\"]]\n",
    "obj[obj <= 2]\n",
    "\n",
    "# prefer to use loc because when using [], if object label contains integer, it will be use as strings\n",
    "obj1 = pd.Series(np.arange(5), index=[4, 2, 1, 199, 0])\n",
    "\n",
    "obj1[199]  # The value return is based on label, not index\n",
    "# Use loc to select items by label\n",
    "obj1.loc[[0, 1, 199]]\n",
    "\n",
    "# Use iloc to select items by index\n",
    "# Unlike obj1, obj doesn't contain numbers in index, so have tgo use iloc\n",
    "obj.iloc[[0, 1, 2]]\n"
   ]
  },
  {
   "cell_type": "code",
   "execution_count": null,
   "metadata": {},
   "outputs": [],
   "source": [
    "# Indexing into a DataFrame retrieves one or more columns\n",
    "data = pd.DataFrame(\n",
    "    np.arange(16).reshape((4, 4)),\n",
    "    index=[\"Ohio\", \"Colorado\", \"Utah\", \"New York\"],\n",
    "    columns=[\"one\", \"two\", \"three\", \"four\"],\n",
    ")\n",
    "\n",
    "data.loc[\"Ohio\":\"Colorado\"]\n"
   ]
  },
  {
   "cell_type": "code",
   "execution_count": null,
   "metadata": {},
   "outputs": [],
   "source": [
    "# Selecting data with a boolan array\n",
    "data[data[\"three\"] > 5]\n",
    "\n",
    "# Select every row, first 3 columns, where column \"three\" is bigger than 5\n",
    "data.iloc[:, :3][data.three > 5]\n",
    "\n",
    "# Boolean arrays can be used with loc but not iloc\n",
    "data.loc[data.three > 2]\n"
   ]
  },
  {
   "attachments": {},
   "cell_type": "markdown",
   "metadata": {},
   "source": [
    "### Indexing operations with DataFrame\n",
    "\n",
    "| Method              | Description                                                                                                                                                     |\n",
    "| ------------------- | --------------------------------------------------------------------------------------------------------------------------------------------------------------- |\n",
    "| df[column]          | Select single column or sequence of columns from the DataFrame; special case conveniences: Boolean array(filter rows), slice(slice rows), or Boolearn dataframe |\n",
    "| df.loc[rows]        | Select single or subset of rows from the DataFrame by label                                                                                                     |\n",
    "| df.loc[:, cols]     | Select single column and subset of columns by label                                                                                                             |\n",
    "| df.loc[rows, cols]  | Select both rows and columns by label                                                                                                                           |\n",
    "| df.iloc[rows]       | Select single row or subset of rows from the DataFrame by integer position                                                                                      |\n",
    "| df.iloc[:, cols]    | Select single column or subset of columns by integer position                                                                                                   |\n",
    "| df.iloc[rows, cols] |                                                                                                                                                                 |\n",
    "| df.at[row, col]     | Select a single scalar value by row and column label                                                                                                            |\n",
    "| df.iat[row, col]    | Select a single scalar value by row and column position (integers)                                                                                              |\n",
    "| reindex method      | Select either rows or columns by labels                                                                                                                         |\n",
    "\n",
    "If you have an axis index containing integers, data selection will always be label oriented.\n",
    "Prefer indexing with loc or iloc to avoid ambiguity\n"
   ]
  },
  {
   "cell_type": "code",
   "execution_count": null,
   "metadata": {},
   "outputs": [],
   "source": [
    "s1 = pd.Series([7.3, -2.5, 3.4, 1.5], index=[\"a\", \"c\", \"d\", \"e\"])\n",
    "s2 = pd.Series([-2.1, 3.6, -1.5, 4, 3.1], index=[\"a\", \"e\", \"c\", \"f\", \"g\"])\n"
   ]
  },
  {
   "cell_type": "code",
   "execution_count": null,
   "metadata": {},
   "outputs": [],
   "source": [
    "# When add with objects, same index label object will be added\n",
    "# If one of them missing, will return Nan\n",
    "\n",
    "s1 + s2\n"
   ]
  },
  {
   "cell_type": "code",
   "execution_count": null,
   "metadata": {},
   "outputs": [],
   "source": [
    "# fill_value will be passed FOR the operation, not after the operation\n",
    "s1.add(s2, fill_value=0)\n",
    "\n",
    "1 / s1\n",
    "# Same as\n",
    "s1.rdiv(1)\n",
    "\n",
    "df1 = pd.DataFrame(np.arange(12.0).reshape((3, 4)), columns=list(\"abcd\"))\n",
    "df2 = pd.DataFrame(np.arange(20.0).reshape((4, 5)), columns=list(\"abcde\"))\n",
    "df1.reindex(columns=df2.columns, fill_value=0)\n"
   ]
  },
  {
   "cell_type": "code",
   "execution_count": null,
   "metadata": {},
   "outputs": [],
   "source": [
    "df1\n"
   ]
  },
  {
   "cell_type": "code",
   "execution_count": null,
   "metadata": {},
   "outputs": [],
   "source": [
    "# Operations between DataFrames and Series\n",
    "# When substract Series from dataframe, the substraction is performed for each row - broadcasting\n",
    "\n",
    "# to broadcast over the columns\n",
    "series = df1[\"b\"]\n",
    "\n",
    "df1.sub(series, axis=\"index\")\n"
   ]
  },
  {
   "attachments": {},
   "cell_type": "markdown",
   "metadata": {},
   "source": [
    "### Function Application and Mapping\n",
    "\n",
    "Element-wise array methods\n",
    "NumPy ufuncs also work with pandas objects"
   ]
  },
  {
   "cell_type": "code",
   "execution_count": null,
   "metadata": {},
   "outputs": [],
   "source": [
    "frame = pd.DataFrame(\n",
    "    np.random.standard_normal((4, 3)),\n",
    "    columns=list(\"dbe\"),\n",
    "    index=[\"Utah\", \"Ohio\", \"Texas\", \"Oregon\"],\n",
    ")\n",
    "\n",
    "frame\n"
   ]
  },
  {
   "cell_type": "code",
   "execution_count": 39,
   "metadata": {},
   "outputs": [
    {
     "data": {
      "text/html": [
       "<div>\n",
       "<style scoped>\n",
       "    .dataframe tbody tr th:only-of-type {\n",
       "        vertical-align: middle;\n",
       "    }\n",
       "\n",
       "    .dataframe tbody tr th {\n",
       "        vertical-align: top;\n",
       "    }\n",
       "\n",
       "    .dataframe thead th {\n",
       "        text-align: right;\n",
       "    }\n",
       "</style>\n",
       "<table border=\"1\" class=\"dataframe\">\n",
       "  <thead>\n",
       "    <tr style=\"text-align: right;\">\n",
       "      <th></th>\n",
       "      <th>d</th>\n",
       "      <th>b</th>\n",
       "      <th>e</th>\n",
       "    </tr>\n",
       "  </thead>\n",
       "  <tbody>\n",
       "    <tr>\n",
       "      <th>min</th>\n",
       "      <td>-0.691685</td>\n",
       "      <td>-1.485461</td>\n",
       "      <td>-0.690020</td>\n",
       "    </tr>\n",
       "    <tr>\n",
       "      <th>max</th>\n",
       "      <td>0.614778</td>\n",
       "      <td>1.941436</td>\n",
       "      <td>0.985009</td>\n",
       "    </tr>\n",
       "  </tbody>\n",
       "</table>\n",
       "</div>"
      ],
      "text/plain": [
       "            d         b         e\n",
       "min -0.691685 -1.485461 -0.690020\n",
       "max  0.614778  1.941436  0.985009"
      ]
     },
     "execution_count": 39,
     "metadata": {},
     "output_type": "execute_result"
    }
   ],
   "source": [
    "np.abs(frame)\n",
    "\n",
    "# Apply a function to each column or row\n",
    "def f1(x):\n",
    "\treturn x.max() - x.min()\n",
    "\n",
    "frame.apply(f1, axis='columns')\n",
    "\n",
    "# function passed to apply can also return a Series with multiple valyes\n",
    "def f2(x):\n",
    "\treturn pd.Series([x.min(), x.max()], index=['min', 'max'])\n",
    "\n",
    "frame.apply(f2)"
   ]
  }
 ],
 "metadata": {
  "kernelspec": {
   "display_name": "Python 3",
   "language": "python",
   "name": "python3"
  },
  "language_info": {
   "codemirror_mode": {
    "name": "ipython",
    "version": 3
   },
   "file_extension": ".py",
   "mimetype": "text/x-python",
   "name": "python",
   "nbconvert_exporter": "python",
   "pygments_lexer": "ipython3",
   "version": "3.10.6"
  },
  "orig_nbformat": 4,
  "vscode": {
   "interpreter": {
    "hash": "31f2aee4e71d21fbe5cf8b01ff0e069b9275f58929596ceb00d14d90e3e16cd6"
   }
  }
 },
 "nbformat": 4,
 "nbformat_minor": 2
}
