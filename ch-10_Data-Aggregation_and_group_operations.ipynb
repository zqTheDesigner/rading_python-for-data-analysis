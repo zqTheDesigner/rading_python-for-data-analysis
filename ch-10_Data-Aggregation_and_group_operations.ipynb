{
 "cells": [
  {
   "attachments": {},
   "cell_type": "markdown",
   "metadata": {},
   "source": [
    "Categorizing a dataset and applying a function to each group. \n",
    "\n",
    "After lading, merging and preparing a dataset, you may need to compute statistics or possibly picot tables for reproting or visualization purpose. \n",
    "\n",
    "Use pandas `groupby` interface to slice, dice and summarize datasets\n",
    "\n",
    "- Split a pandas object into pieces using one or more keys\n",
    "- Calculate group summary statistics like count, mean or standard deviation\n",
    "- Apply within-group transformation or other manipulation like normalization, linear regression, rand or subset selection\n",
    "- Compute pivot tables and cross-tabulations\n",
    "- Perform quantile analysis and other statistical group analyses"
   ]
  },
  {
   "cell_type": "code",
   "execution_count": 1,
   "metadata": {},
   "outputs": [],
   "source": [
    "import numpy as np\n",
    "\n",
    "import pandas as pd\n",
    "\n"
   ]
  },
  {
   "attachments": {},
   "cell_type": "markdown",
   "metadata": {},
   "source": [
    "# 10.1 How to think about Group Operations\n",
    "\"split-apply-combine\" - group operations\n",
    "1. Data containes in a pandas object split into groups based on one or more keys that you provide, the splitting is performed on a particular axis of an object.\n",
    "2. A function applied to each group producting a new value. \n",
    "3. Finally, the results of all those function applications are combined into a result object. \n",
    "\n",
    "Each grouping key can take many forms, and they keu do not have to be all the same type. \n",
    "\n"
   ]
  },
  {
   "attachments": {},
   "cell_type": "markdown",
   "metadata": {},
   "source": [
    "`GroupBy` object may looks like a DataFrame, but it is already grouped by the provided group key"
   ]
  },
  {
   "cell_type": "code",
   "execution_count": 2,
   "metadata": {},
   "outputs": [
    {
     "data": {
      "text/plain": [
       "key1\n",
       "a   -0.455194\n",
       "b    0.115268\n",
       "Name: data1, dtype: float64"
      ]
     },
     "execution_count": 2,
     "metadata": {},
     "output_type": "execute_result"
    }
   ],
   "source": [
    "df = pd.DataFrame(\n",
    "    {\n",
    "        \"key1\": [\"a\", \"a\", None, \"b\", \"b\", \"a\", None],\n",
    "        \"key2\": pd.Series([1, 2, 1, 2, 1, None, 1], dtype=\"Int64\"),\n",
    "        \"data1\": np.random.standard_normal(7),\n",
    "        \"data2\": np.random.standard_normal(7),\n",
    "    }\n",
    ")\n",
    "\n",
    "# Compute the mean of data1 columns using the labels from key1\n",
    "# Will return the mean value of each group in \"key1\" (same key1 will be consider as 1 group)\n",
    "grouped = df['data1'].groupby(df['key1'])\n",
    "grouped.mean()\n",
    "\n",
    "\n"
   ]
  },
  {
   "cell_type": "code",
   "execution_count": null,
   "metadata": {},
   "outputs": [],
   "source": [
    "df.groupby(df['key1']).head()"
   ]
  },
  {
   "cell_type": "code",
   "execution_count": null,
   "metadata": {},
   "outputs": [],
   "source": [
    "means = df['data1'].groupby( df['key1']).mean()\n",
    "means"
   ]
  },
  {
   "cell_type": "code",
   "execution_count": null,
   "metadata": {},
   "outputs": [],
   "source": [
    "means = df['data1'].groupby( df['key2']).mean()\n",
    "means"
   ]
  },
  {
   "cell_type": "code",
   "execution_count": null,
   "metadata": {},
   "outputs": [],
   "source": [
    "means = df['data1'].groupby([df['key1'], df['key2']])\n",
    "means.head(999)\n"
   ]
  },
  {
   "cell_type": "code",
   "execution_count": null,
   "metadata": {},
   "outputs": [],
   "source": [
    "means = df['data1'].groupby([df['key1'], df['key2']]).mean()\n",
    "means.unstack()"
   ]
  },
  {
   "cell_type": "code",
   "execution_count": null,
   "metadata": {},
   "outputs": [],
   "source": [
    "states = np.array(['OH', \"CA\", \"CA\", \"OH\", \"OH\", \"CA\", \"OH\"])\n",
    "\n",
    "years = [2005, 2005, 2006, 2005, 2006, 2005, 2006]\n",
    "\n",
    "# group keys can be any array of the right length.\n",
    "df['data1'].groupby([states, years]).mean().unstack()"
   ]
  },
  {
   "cell_type": "code",
   "execution_count": null,
   "metadata": {},
   "outputs": [],
   "source": [
    "# Pass column names to use the column as the group keys\n",
    "\n",
    "df.groupby('key1').mean()\n",
    "\n",
    "df.groupby(['key1', 'key2']).mean().unstack()"
   ]
  },
  {
   "cell_type": "code",
   "execution_count": null,
   "metadata": {},
   "outputs": [],
   "source": [
    "df.groupby(['key1', 'key2']).mean()"
   ]
  },
  {
   "attachments": {},
   "cell_type": "markdown",
   "metadata": {},
   "source": [
    "Use `GroupBy.size` method to return a Series containing group sizes. Any missing values in a group key are excluded from the result by default. This hebavior can be disabled by passing `dropna=False` "
   ]
  },
  {
   "cell_type": "code",
   "execution_count": null,
   "metadata": {},
   "outputs": [],
   "source": [
    "df.groupby(['key1', 'key2'], dropna=False).size().unstack()"
   ]
  },
  {
   "cell_type": "code",
   "execution_count": null,
   "metadata": {},
   "outputs": [],
   "source": [
    "df"
   ]
  },
  {
   "cell_type": "code",
   "execution_count": null,
   "metadata": {},
   "outputs": [],
   "source": [
    "df.groupby('key1').count()"
   ]
  },
  {
   "cell_type": "code",
   "execution_count": null,
   "metadata": {},
   "outputs": [],
   "source": [
    "df.groupby('key1', dropna=False).size()"
   ]
  },
  {
   "attachments": {},
   "cell_type": "markdown",
   "metadata": {},
   "source": [
    "## Iterating over Groups\n",
    "\n",
    "The object returned by groupby supposts iteration, generating a sequence of 2-tuples containing the group name along with the chunk of data."
   ]
  },
  {
   "cell_type": "code",
   "execution_count": null,
   "metadata": {},
   "outputs": [],
   "source": [
    "for name, group in df.groupby('key1'):\n",
    "\tprint(name)\n",
    "\tprint(group)\n",
    "\n",
    "# In the case of multiple keys, the first element in the tuple will be a tuple of key values\n",
    "for (k1, k2), group in df.groupby(['key1', 'key2']):\n",
    "\tprint((k1, k2))\n",
    "\tprint(group)"
   ]
  },
  {
   "cell_type": "code",
   "execution_count": null,
   "metadata": {},
   "outputs": [],
   "source": [
    "\n",
    "# Computing a dictionary of data pieces as a one-linear\n",
    "pieces = {name: group for name, group in df.groupby(\"key1\")}\n",
    "\n",
    "pieces['b']"
   ]
  },
  {
   "attachments": {},
   "cell_type": "markdown",
   "metadata": {},
   "source": [
    "pieces['b']"
   ]
  },
  {
   "attachments": {},
   "cell_type": "markdown",
   "metadata": {},
   "source": [
    "group on any other axes \n",
    "\n",
    "Group df by whether they start with 'key' or 'data'\n",
    "\n"
   ]
  },
  {
   "cell_type": "code",
   "execution_count": null,
   "metadata": {},
   "outputs": [],
   "source": [
    "grouped = df.groupby(\n",
    "    {\"key1\": \"key\", \"key2\": \"key\", \"data1\": \"data\", \"data2\": \"data\"}, axis=\"columns\"\n",
    ")\n",
    "\n",
    "for group_key, group_val in grouped:\n",
    "\tprint(group_key)\n",
    "\tprint(group_val)"
   ]
  },
  {
   "cell_type": "code",
   "execution_count": null,
   "metadata": {},
   "outputs": [],
   "source": [
    "df[['data1','data2']]"
   ]
  },
  {
   "cell_type": "code",
   "execution_count": null,
   "metadata": {},
   "outputs": [],
   "source": [
    "df[['key1', 'key2']]"
   ]
  },
  {
   "attachments": {},
   "cell_type": "markdown",
   "metadata": {},
   "source": [
    "## Selecting a Column or Subset of Columns\n",
    "\n",
    "Indexing a GroupBy object created from a DataFrame with a column name or array of column names"
   ]
  },
  {
   "cell_type": "code",
   "execution_count": 10,
   "metadata": {},
   "outputs": [
    {
     "data": {
      "text/plain": [
       "0   -0.980510\n",
       "1    0.753196\n",
       "3   -0.031481\n",
       "4    0.262018\n",
       "5   -1.138268\n",
       "Name: data1, dtype: float64"
      ]
     },
     "execution_count": 10,
     "metadata": {},
     "output_type": "execute_result"
    }
   ],
   "source": [
    "df.groupby('key1')['data1'].head()"
   ]
  },
  {
   "cell_type": "code",
   "execution_count": 9,
   "metadata": {},
   "outputs": [
    {
     "data": {
      "text/plain": [
       "0   -0.980510\n",
       "1    0.753196\n",
       "3   -0.031481\n",
       "4    0.262018\n",
       "5   -1.138268\n",
       "Name: data1, dtype: float64"
      ]
     },
     "execution_count": 9,
     "metadata": {},
     "output_type": "execute_result"
    }
   ],
   "source": [
    "df['data1'].groupby(df['key1']).head()"
   ]
  },
  {
   "cell_type": "code",
   "execution_count": 11,
   "metadata": {},
   "outputs": [
    {
     "data": {
      "text/html": [
       "<div>\n",
       "<style scoped>\n",
       "    .dataframe tbody tr th:only-of-type {\n",
       "        vertical-align: middle;\n",
       "    }\n",
       "\n",
       "    .dataframe tbody tr th {\n",
       "        vertical-align: top;\n",
       "    }\n",
       "\n",
       "    .dataframe thead th {\n",
       "        text-align: right;\n",
       "    }\n",
       "</style>\n",
       "<table border=\"1\" class=\"dataframe\">\n",
       "  <thead>\n",
       "    <tr style=\"text-align: right;\">\n",
       "      <th></th>\n",
       "      <th></th>\n",
       "      <th>data2</th>\n",
       "    </tr>\n",
       "    <tr>\n",
       "      <th>key1</th>\n",
       "      <th>key2</th>\n",
       "      <th></th>\n",
       "    </tr>\n",
       "  </thead>\n",
       "  <tbody>\n",
       "    <tr>\n",
       "      <th rowspan=\"2\" valign=\"top\">a</th>\n",
       "      <th>1</th>\n",
       "      <td>0.092148</td>\n",
       "    </tr>\n",
       "    <tr>\n",
       "      <th>2</th>\n",
       "      <td>-1.514385</td>\n",
       "    </tr>\n",
       "    <tr>\n",
       "      <th rowspan=\"2\" valign=\"top\">b</th>\n",
       "      <th>1</th>\n",
       "      <td>0.534622</td>\n",
       "    </tr>\n",
       "    <tr>\n",
       "      <th>2</th>\n",
       "      <td>-0.924592</td>\n",
       "    </tr>\n",
       "  </tbody>\n",
       "</table>\n",
       "</div>"
      ],
      "text/plain": [
       "              data2\n",
       "key1 key2          \n",
       "a    1     0.092148\n",
       "     2    -1.514385\n",
       "b    1     0.534622\n",
       "     2    -0.924592"
      ]
     },
     "execution_count": 11,
     "metadata": {},
     "output_type": "execute_result"
    }
   ],
   "source": [
    "# To aggregate only a few columns\n",
    "# To only compute means for the data 2 column\n",
    "df.groupby(['key1', 'key2'])[['data2']].mean()"
   ]
  },
  {
   "attachments": {},
   "cell_type": "markdown",
   "metadata": {},
   "source": [
    "## Grouping with Dictionaries and Series"
   ]
  },
  {
   "cell_type": "code",
   "execution_count": 16,
   "metadata": {},
   "outputs": [],
   "source": [
    "people = pd.DataFrame(\n",
    "    np.random.standard_normal((5, 5)),\n",
    "    columns=[\"a\", \"b\", \"c\", \"d\", \"e\"],\n",
    "    index=[\"Joe\", \"Steve\", \"Wanda\", \"Jill\", \"Trey\"],\n",
    ")\n",
    "\n",
    "people.iloc[2:3, [1,2]] = np.nan\n"
   ]
  },
  {
   "cell_type": "code",
   "execution_count": 17,
   "metadata": {},
   "outputs": [
    {
     "data": {
      "text/html": [
       "<div>\n",
       "<style scoped>\n",
       "    .dataframe tbody tr th:only-of-type {\n",
       "        vertical-align: middle;\n",
       "    }\n",
       "\n",
       "    .dataframe tbody tr th {\n",
       "        vertical-align: top;\n",
       "    }\n",
       "\n",
       "    .dataframe thead th {\n",
       "        text-align: right;\n",
       "    }\n",
       "</style>\n",
       "<table border=\"1\" class=\"dataframe\">\n",
       "  <thead>\n",
       "    <tr style=\"text-align: right;\">\n",
       "      <th></th>\n",
       "      <th>a</th>\n",
       "      <th>b</th>\n",
       "      <th>c</th>\n",
       "      <th>d</th>\n",
       "      <th>e</th>\n",
       "    </tr>\n",
       "  </thead>\n",
       "  <tbody>\n",
       "    <tr>\n",
       "      <th>Joe</th>\n",
       "      <td>-0.472598</td>\n",
       "      <td>3.187343</td>\n",
       "      <td>-0.502007</td>\n",
       "      <td>-1.884353</td>\n",
       "      <td>-1.207755</td>\n",
       "    </tr>\n",
       "    <tr>\n",
       "      <th>Steve</th>\n",
       "      <td>0.810863</td>\n",
       "      <td>-0.416002</td>\n",
       "      <td>1.704311</td>\n",
       "      <td>-1.977146</td>\n",
       "      <td>-1.335709</td>\n",
       "    </tr>\n",
       "    <tr>\n",
       "      <th>Wanda</th>\n",
       "      <td>-1.390674</td>\n",
       "      <td>NaN</td>\n",
       "      <td>NaN</td>\n",
       "      <td>-1.774004</td>\n",
       "      <td>0.702210</td>\n",
       "    </tr>\n",
       "    <tr>\n",
       "      <th>Jill</th>\n",
       "      <td>-1.308237</td>\n",
       "      <td>-0.967369</td>\n",
       "      <td>0.231921</td>\n",
       "      <td>0.355734</td>\n",
       "      <td>0.373386</td>\n",
       "    </tr>\n",
       "    <tr>\n",
       "      <th>Trey</th>\n",
       "      <td>0.236129</td>\n",
       "      <td>-0.026460</td>\n",
       "      <td>-0.260725</td>\n",
       "      <td>0.394199</td>\n",
       "      <td>-0.552764</td>\n",
       "    </tr>\n",
       "  </tbody>\n",
       "</table>\n",
       "</div>"
      ],
      "text/plain": [
       "              a         b         c         d         e\n",
       "Joe   -0.472598  3.187343 -0.502007 -1.884353 -1.207755\n",
       "Steve  0.810863 -0.416002  1.704311 -1.977146 -1.335709\n",
       "Wanda -1.390674       NaN       NaN -1.774004  0.702210\n",
       "Jill  -1.308237 -0.967369  0.231921  0.355734  0.373386\n",
       "Trey   0.236129 -0.026460 -0.260725  0.394199 -0.552764"
      ]
     },
     "execution_count": 17,
     "metadata": {},
     "output_type": "execute_result"
    }
   ],
   "source": [
    "people"
   ]
  },
  {
   "cell_type": "code",
   "execution_count": 23,
   "metadata": {},
   "outputs": [
    {
     "data": {
      "text/html": [
       "<div>\n",
       "<style scoped>\n",
       "    .dataframe tbody tr th:only-of-type {\n",
       "        vertical-align: middle;\n",
       "    }\n",
       "\n",
       "    .dataframe tbody tr th {\n",
       "        vertical-align: top;\n",
       "    }\n",
       "\n",
       "    .dataframe thead th {\n",
       "        text-align: right;\n",
       "    }\n",
       "</style>\n",
       "<table border=\"1\" class=\"dataframe\">\n",
       "  <thead>\n",
       "    <tr style=\"text-align: right;\">\n",
       "      <th></th>\n",
       "      <th>blue</th>\n",
       "      <th>red</th>\n",
       "    </tr>\n",
       "  </thead>\n",
       "  <tbody>\n",
       "    <tr>\n",
       "      <th>Joe</th>\n",
       "      <td>2</td>\n",
       "      <td>3</td>\n",
       "    </tr>\n",
       "    <tr>\n",
       "      <th>Steve</th>\n",
       "      <td>2</td>\n",
       "      <td>3</td>\n",
       "    </tr>\n",
       "    <tr>\n",
       "      <th>Wanda</th>\n",
       "      <td>1</td>\n",
       "      <td>2</td>\n",
       "    </tr>\n",
       "    <tr>\n",
       "      <th>Jill</th>\n",
       "      <td>2</td>\n",
       "      <td>3</td>\n",
       "    </tr>\n",
       "    <tr>\n",
       "      <th>Trey</th>\n",
       "      <td>2</td>\n",
       "      <td>3</td>\n",
       "    </tr>\n",
       "  </tbody>\n",
       "</table>\n",
       "</div>"
      ],
      "text/plain": [
       "       blue  red\n",
       "Joe       2    3\n",
       "Steve     2    3\n",
       "Wanda     1    2\n",
       "Jill      2    3\n",
       "Trey      2    3"
      ]
     },
     "execution_count": 23,
     "metadata": {},
     "output_type": "execute_result"
    }
   ],
   "source": [
    "mapping = {\"a\": \"red\", \"b\": \"red\", \"c\": \"blue\", \"d\": \"blue\", \"e\": \"red\", \"f\": \"orange\"}\n",
    "\n",
    "by_column = people.groupby(mapping, axis=\"columns\")\n",
    "\n",
    "by_column.count()"
   ]
  },
  {
   "cell_type": "code",
   "execution_count": 24,
   "metadata": {},
   "outputs": [
    {
     "data": {
      "text/html": [
       "<div>\n",
       "<style scoped>\n",
       "    .dataframe tbody tr th:only-of-type {\n",
       "        vertical-align: middle;\n",
       "    }\n",
       "\n",
       "    .dataframe tbody tr th {\n",
       "        vertical-align: top;\n",
       "    }\n",
       "\n",
       "    .dataframe thead th {\n",
       "        text-align: right;\n",
       "    }\n",
       "</style>\n",
       "<table border=\"1\" class=\"dataframe\">\n",
       "  <thead>\n",
       "    <tr style=\"text-align: right;\">\n",
       "      <th></th>\n",
       "      <th>blue</th>\n",
       "      <th>red</th>\n",
       "    </tr>\n",
       "  </thead>\n",
       "  <tbody>\n",
       "    <tr>\n",
       "      <th>Joe</th>\n",
       "      <td>-2.386360</td>\n",
       "      <td>1.506990</td>\n",
       "    </tr>\n",
       "    <tr>\n",
       "      <th>Steve</th>\n",
       "      <td>-0.272835</td>\n",
       "      <td>-0.940848</td>\n",
       "    </tr>\n",
       "    <tr>\n",
       "      <th>Wanda</th>\n",
       "      <td>-1.774004</td>\n",
       "      <td>-0.688465</td>\n",
       "    </tr>\n",
       "    <tr>\n",
       "      <th>Jill</th>\n",
       "      <td>0.587655</td>\n",
       "      <td>-1.902220</td>\n",
       "    </tr>\n",
       "    <tr>\n",
       "      <th>Trey</th>\n",
       "      <td>0.133474</td>\n",
       "      <td>-0.343095</td>\n",
       "    </tr>\n",
       "  </tbody>\n",
       "</table>\n",
       "</div>"
      ],
      "text/plain": [
       "           blue       red\n",
       "Joe   -2.386360  1.506990\n",
       "Steve -0.272835 -0.940848\n",
       "Wanda -1.774004 -0.688465\n",
       "Jill   0.587655 -1.902220\n",
       "Trey   0.133474 -0.343095"
      ]
     },
     "execution_count": 24,
     "metadata": {},
     "output_type": "execute_result"
    }
   ],
   "source": [
    "by_column.sum()"
   ]
  },
  {
   "cell_type": "code",
   "execution_count": 25,
   "metadata": {},
   "outputs": [
    {
     "data": {
      "text/html": [
       "<div>\n",
       "<style scoped>\n",
       "    .dataframe tbody tr th:only-of-type {\n",
       "        vertical-align: middle;\n",
       "    }\n",
       "\n",
       "    .dataframe tbody tr th {\n",
       "        vertical-align: top;\n",
       "    }\n",
       "\n",
       "    .dataframe thead th {\n",
       "        text-align: right;\n",
       "    }\n",
       "</style>\n",
       "<table border=\"1\" class=\"dataframe\">\n",
       "  <thead>\n",
       "    <tr style=\"text-align: right;\">\n",
       "      <th></th>\n",
       "      <th>a</th>\n",
       "      <th>b</th>\n",
       "      <th>c</th>\n",
       "      <th>d</th>\n",
       "      <th>e</th>\n",
       "    </tr>\n",
       "  </thead>\n",
       "  <tbody>\n",
       "    <tr>\n",
       "      <th>Joe</th>\n",
       "      <td>-0.472598</td>\n",
       "      <td>3.187343</td>\n",
       "      <td>-0.502007</td>\n",
       "      <td>-1.884353</td>\n",
       "      <td>-1.207755</td>\n",
       "    </tr>\n",
       "    <tr>\n",
       "      <th>Steve</th>\n",
       "      <td>0.810863</td>\n",
       "      <td>-0.416002</td>\n",
       "      <td>1.704311</td>\n",
       "      <td>-1.977146</td>\n",
       "      <td>-1.335709</td>\n",
       "    </tr>\n",
       "    <tr>\n",
       "      <th>Wanda</th>\n",
       "      <td>-1.390674</td>\n",
       "      <td>NaN</td>\n",
       "      <td>NaN</td>\n",
       "      <td>-1.774004</td>\n",
       "      <td>0.702210</td>\n",
       "    </tr>\n",
       "    <tr>\n",
       "      <th>Jill</th>\n",
       "      <td>-1.308237</td>\n",
       "      <td>-0.967369</td>\n",
       "      <td>0.231921</td>\n",
       "      <td>0.355734</td>\n",
       "      <td>0.373386</td>\n",
       "    </tr>\n",
       "    <tr>\n",
       "      <th>Trey</th>\n",
       "      <td>0.236129</td>\n",
       "      <td>-0.026460</td>\n",
       "      <td>-0.260725</td>\n",
       "      <td>0.394199</td>\n",
       "      <td>-0.552764</td>\n",
       "    </tr>\n",
       "  </tbody>\n",
       "</table>\n",
       "</div>"
      ],
      "text/plain": [
       "              a         b         c         d         e\n",
       "Joe   -0.472598  3.187343 -0.502007 -1.884353 -1.207755\n",
       "Steve  0.810863 -0.416002  1.704311 -1.977146 -1.335709\n",
       "Wanda -1.390674       NaN       NaN -1.774004  0.702210\n",
       "Jill  -1.308237 -0.967369  0.231921  0.355734  0.373386\n",
       "Trey   0.236129 -0.026460 -0.260725  0.394199 -0.552764"
      ]
     },
     "execution_count": 25,
     "metadata": {},
     "output_type": "execute_result"
    }
   ],
   "source": [
    "by_column.head(999)"
   ]
  },
  {
   "cell_type": "code",
   "execution_count": 26,
   "metadata": {},
   "outputs": [
    {
     "data": {
      "text/html": [
       "<div>\n",
       "<style scoped>\n",
       "    .dataframe tbody tr th:only-of-type {\n",
       "        vertical-align: middle;\n",
       "    }\n",
       "\n",
       "    .dataframe tbody tr th {\n",
       "        vertical-align: top;\n",
       "    }\n",
       "\n",
       "    .dataframe thead th {\n",
       "        text-align: right;\n",
       "    }\n",
       "</style>\n",
       "<table border=\"1\" class=\"dataframe\">\n",
       "  <thead>\n",
       "    <tr style=\"text-align: right;\">\n",
       "      <th></th>\n",
       "      <th>blue</th>\n",
       "      <th>red</th>\n",
       "    </tr>\n",
       "  </thead>\n",
       "  <tbody>\n",
       "    <tr>\n",
       "      <th>Joe</th>\n",
       "      <td>2</td>\n",
       "      <td>3</td>\n",
       "    </tr>\n",
       "    <tr>\n",
       "      <th>Steve</th>\n",
       "      <td>2</td>\n",
       "      <td>3</td>\n",
       "    </tr>\n",
       "    <tr>\n",
       "      <th>Wanda</th>\n",
       "      <td>1</td>\n",
       "      <td>2</td>\n",
       "    </tr>\n",
       "    <tr>\n",
       "      <th>Jill</th>\n",
       "      <td>2</td>\n",
       "      <td>3</td>\n",
       "    </tr>\n",
       "    <tr>\n",
       "      <th>Trey</th>\n",
       "      <td>2</td>\n",
       "      <td>3</td>\n",
       "    </tr>\n",
       "  </tbody>\n",
       "</table>\n",
       "</div>"
      ],
      "text/plain": [
       "       blue  red\n",
       "Joe       2    3\n",
       "Steve     2    3\n",
       "Wanda     1    2\n",
       "Jill      2    3\n",
       "Trey      2    3"
      ]
     },
     "execution_count": 26,
     "metadata": {},
     "output_type": "execute_result"
    }
   ],
   "source": [
    "map_series = pd.Series(mapping)\n",
    "\n",
    "people.groupby(map_series, axis=\"columns\").count()"
   ]
  },
  {
   "cell_type": "markdown",
   "metadata": {},
   "source": []
  },
  {
   "attachments": {},
   "cell_type": "markdown",
   "metadata": {},
   "source": [
    "## Grouping with Functions\n",
    "Any function passed as a group key will be called once per index value, with the return values being used as the group names. "
   ]
  },
  {
   "cell_type": "code",
   "execution_count": 27,
   "metadata": {},
   "outputs": [
    {
     "data": {
      "text/html": [
       "<div>\n",
       "<style scoped>\n",
       "    .dataframe tbody tr th:only-of-type {\n",
       "        vertical-align: middle;\n",
       "    }\n",
       "\n",
       "    .dataframe tbody tr th {\n",
       "        vertical-align: top;\n",
       "    }\n",
       "\n",
       "    .dataframe thead th {\n",
       "        text-align: right;\n",
       "    }\n",
       "</style>\n",
       "<table border=\"1\" class=\"dataframe\">\n",
       "  <thead>\n",
       "    <tr style=\"text-align: right;\">\n",
       "      <th></th>\n",
       "      <th>a</th>\n",
       "      <th>b</th>\n",
       "      <th>c</th>\n",
       "      <th>d</th>\n",
       "      <th>e</th>\n",
       "    </tr>\n",
       "  </thead>\n",
       "  <tbody>\n",
       "    <tr>\n",
       "      <th>3</th>\n",
       "      <td>-0.472598</td>\n",
       "      <td>3.187343</td>\n",
       "      <td>-0.502007</td>\n",
       "      <td>-1.884353</td>\n",
       "      <td>-1.207755</td>\n",
       "    </tr>\n",
       "    <tr>\n",
       "      <th>4</th>\n",
       "      <td>-1.072108</td>\n",
       "      <td>-0.993829</td>\n",
       "      <td>-0.028805</td>\n",
       "      <td>0.749933</td>\n",
       "      <td>-0.179378</td>\n",
       "    </tr>\n",
       "    <tr>\n",
       "      <th>5</th>\n",
       "      <td>-0.579812</td>\n",
       "      <td>-0.416002</td>\n",
       "      <td>1.704311</td>\n",
       "      <td>-3.751149</td>\n",
       "      <td>-0.633499</td>\n",
       "    </tr>\n",
       "  </tbody>\n",
       "</table>\n",
       "</div>"
      ],
      "text/plain": [
       "          a         b         c         d         e\n",
       "3 -0.472598  3.187343 -0.502007 -1.884353 -1.207755\n",
       "4 -1.072108 -0.993829 -0.028805  0.749933 -0.179378\n",
       "5 -0.579812 -0.416002  1.704311 -3.751149 -0.633499"
      ]
     },
     "execution_count": 27,
     "metadata": {},
     "output_type": "execute_result"
    }
   ],
   "source": [
    "people.groupby(len).sum()"
   ]
  },
  {
   "cell_type": "code",
   "execution_count": 36,
   "metadata": {},
   "outputs": [
    {
     "data": {
      "text/html": [
       "<div>\n",
       "<style scoped>\n",
       "    .dataframe tbody tr th:only-of-type {\n",
       "        vertical-align: middle;\n",
       "    }\n",
       "\n",
       "    .dataframe tbody tr th {\n",
       "        vertical-align: top;\n",
       "    }\n",
       "\n",
       "    .dataframe thead th {\n",
       "        text-align: right;\n",
       "    }\n",
       "</style>\n",
       "<table border=\"1\" class=\"dataframe\">\n",
       "  <thead>\n",
       "    <tr style=\"text-align: right;\">\n",
       "      <th></th>\n",
       "      <th></th>\n",
       "      <th>a</th>\n",
       "      <th>b</th>\n",
       "      <th>c</th>\n",
       "      <th>d</th>\n",
       "      <th>e</th>\n",
       "    </tr>\n",
       "  </thead>\n",
       "  <tbody>\n",
       "    <tr>\n",
       "      <th>3</th>\n",
       "      <th>one</th>\n",
       "      <td>-0.472598</td>\n",
       "      <td>3.187343</td>\n",
       "      <td>-0.502007</td>\n",
       "      <td>-1.884353</td>\n",
       "      <td>-1.207755</td>\n",
       "    </tr>\n",
       "    <tr>\n",
       "      <th>4</th>\n",
       "      <th>two</th>\n",
       "      <td>-1.072108</td>\n",
       "      <td>-0.993829</td>\n",
       "      <td>-0.028805</td>\n",
       "      <td>0.749933</td>\n",
       "      <td>-0.179378</td>\n",
       "    </tr>\n",
       "    <tr>\n",
       "      <th>5</th>\n",
       "      <th>one</th>\n",
       "      <td>-0.579812</td>\n",
       "      <td>-0.416002</td>\n",
       "      <td>1.704311</td>\n",
       "      <td>-3.751149</td>\n",
       "      <td>-0.633499</td>\n",
       "    </tr>\n",
       "  </tbody>\n",
       "</table>\n",
       "</div>"
      ],
      "text/plain": [
       "              a         b         c         d         e\n",
       "3 one -0.472598  3.187343 -0.502007 -1.884353 -1.207755\n",
       "4 two -1.072108 -0.993829 -0.028805  0.749933 -0.179378\n",
       "5 one -0.579812 -0.416002  1.704311 -3.751149 -0.633499"
      ]
     },
     "execution_count": 36,
     "metadata": {},
     "output_type": "execute_result"
    }
   ],
   "source": [
    "key_list = ['one', 'one', 'one', 'two', 'two']\n",
    "\n",
    "people.groupby([len, key_list]).sum()"
   ]
  },
  {
   "cell_type": "code",
   "execution_count": 37,
   "metadata": {},
   "outputs": [
    {
     "data": {
      "text/html": [
       "<div>\n",
       "<style scoped>\n",
       "    .dataframe tbody tr th:only-of-type {\n",
       "        vertical-align: middle;\n",
       "    }\n",
       "\n",
       "    .dataframe tbody tr th {\n",
       "        vertical-align: top;\n",
       "    }\n",
       "\n",
       "    .dataframe thead th {\n",
       "        text-align: right;\n",
       "    }\n",
       "</style>\n",
       "<table border=\"1\" class=\"dataframe\">\n",
       "  <thead>\n",
       "    <tr style=\"text-align: right;\">\n",
       "      <th></th>\n",
       "      <th></th>\n",
       "      <th>a</th>\n",
       "      <th>b</th>\n",
       "      <th>c</th>\n",
       "      <th>d</th>\n",
       "      <th>e</th>\n",
       "    </tr>\n",
       "  </thead>\n",
       "  <tbody>\n",
       "    <tr>\n",
       "      <th>3</th>\n",
       "      <th>one</th>\n",
       "      <td>-0.472598</td>\n",
       "      <td>3.187343</td>\n",
       "      <td>-0.502007</td>\n",
       "      <td>-1.884353</td>\n",
       "      <td>-1.207755</td>\n",
       "    </tr>\n",
       "    <tr>\n",
       "      <th>4</th>\n",
       "      <th>two</th>\n",
       "      <td>-1.308237</td>\n",
       "      <td>-0.967369</td>\n",
       "      <td>-0.260725</td>\n",
       "      <td>0.355734</td>\n",
       "      <td>-0.552764</td>\n",
       "    </tr>\n",
       "    <tr>\n",
       "      <th>5</th>\n",
       "      <th>one</th>\n",
       "      <td>-1.390674</td>\n",
       "      <td>-0.416002</td>\n",
       "      <td>1.704311</td>\n",
       "      <td>-1.977146</td>\n",
       "      <td>-1.335709</td>\n",
       "    </tr>\n",
       "  </tbody>\n",
       "</table>\n",
       "</div>"
      ],
      "text/plain": [
       "              a         b         c         d         e\n",
       "3 one -0.472598  3.187343 -0.502007 -1.884353 -1.207755\n",
       "4 two -1.308237 -0.967369 -0.260725  0.355734 -0.552764\n",
       "5 one -1.390674 -0.416002  1.704311 -1.977146 -1.335709"
      ]
     },
     "execution_count": 37,
     "metadata": {},
     "output_type": "execute_result"
    }
   ],
   "source": [
    "\n",
    "people.groupby([len, key_list]).min()"
   ]
  },
  {
   "attachments": {},
   "cell_type": "markdown",
   "metadata": {},
   "source": [
    "## Grouping by Index Levels\n",
    "Aggregate using one of the levles of an axis index. \n",
    "\n"
   ]
  },
  {
   "cell_type": "code",
   "execution_count": 40,
   "metadata": {},
   "outputs": [
    {
     "data": {
      "text/html": [
       "<div>\n",
       "<style scoped>\n",
       "    .dataframe tbody tr th:only-of-type {\n",
       "        vertical-align: middle;\n",
       "    }\n",
       "\n",
       "    .dataframe tbody tr th {\n",
       "        vertical-align: top;\n",
       "    }\n",
       "\n",
       "    .dataframe thead tr th {\n",
       "        text-align: left;\n",
       "    }\n",
       "</style>\n",
       "<table border=\"1\" class=\"dataframe\">\n",
       "  <thead>\n",
       "    <tr>\n",
       "      <th>city</th>\n",
       "      <th colspan=\"3\" halign=\"left\">US</th>\n",
       "      <th colspan=\"2\" halign=\"left\">JP</th>\n",
       "    </tr>\n",
       "    <tr>\n",
       "      <th>tenor</th>\n",
       "      <th>1</th>\n",
       "      <th>3</th>\n",
       "      <th>5</th>\n",
       "      <th>1</th>\n",
       "      <th>3</th>\n",
       "    </tr>\n",
       "  </thead>\n",
       "  <tbody>\n",
       "    <tr>\n",
       "      <th>0</th>\n",
       "      <td>0.065680</td>\n",
       "      <td>2.017971</td>\n",
       "      <td>0.631632</td>\n",
       "      <td>-2.054549</td>\n",
       "      <td>0.324105</td>\n",
       "    </tr>\n",
       "    <tr>\n",
       "      <th>1</th>\n",
       "      <td>-0.097418</td>\n",
       "      <td>-0.249019</td>\n",
       "      <td>-0.903861</td>\n",
       "      <td>0.965828</td>\n",
       "      <td>0.481348</td>\n",
       "    </tr>\n",
       "    <tr>\n",
       "      <th>2</th>\n",
       "      <td>0.072769</td>\n",
       "      <td>0.019059</td>\n",
       "      <td>-1.197369</td>\n",
       "      <td>0.216974</td>\n",
       "      <td>0.442749</td>\n",
       "    </tr>\n",
       "    <tr>\n",
       "      <th>3</th>\n",
       "      <td>-0.202678</td>\n",
       "      <td>-1.080596</td>\n",
       "      <td>1.796581</td>\n",
       "      <td>-0.040351</td>\n",
       "      <td>-1.846178</td>\n",
       "    </tr>\n",
       "  </tbody>\n",
       "</table>\n",
       "</div>"
      ],
      "text/plain": [
       "city         US                            JP          \n",
       "tenor         1         3         5         1         3\n",
       "0      0.065680  2.017971  0.631632 -2.054549  0.324105\n",
       "1     -0.097418 -0.249019 -0.903861  0.965828  0.481348\n",
       "2      0.072769  0.019059 -1.197369  0.216974  0.442749\n",
       "3     -0.202678 -1.080596  1.796581 -0.040351 -1.846178"
      ]
     },
     "execution_count": 40,
     "metadata": {},
     "output_type": "execute_result"
    }
   ],
   "source": [
    "columns = pd.MultiIndex.from_arrays(\n",
    "    [[\"US\", \"US\", \"US\", \"JP\", \"JP\"], [1, 3, 5, 1, 3]], names=[\"city\", \"tenor\"]\n",
    ")\n",
    "\n",
    "hier_df = pd.DataFrame(np.random.standard_normal((4, 5)), columns=columns)\n",
    "\n",
    "hier_df\n"
   ]
  },
  {
   "cell_type": "code",
   "execution_count": 42,
   "metadata": {},
   "outputs": [
    {
     "data": {
      "text/html": [
       "<div>\n",
       "<style scoped>\n",
       "    .dataframe tbody tr th:only-of-type {\n",
       "        vertical-align: middle;\n",
       "    }\n",
       "\n",
       "    .dataframe tbody tr th {\n",
       "        vertical-align: top;\n",
       "    }\n",
       "\n",
       "    .dataframe thead th {\n",
       "        text-align: right;\n",
       "    }\n",
       "</style>\n",
       "<table border=\"1\" class=\"dataframe\">\n",
       "  <thead>\n",
       "    <tr style=\"text-align: right;\">\n",
       "      <th>city</th>\n",
       "      <th>JP</th>\n",
       "      <th>US</th>\n",
       "    </tr>\n",
       "  </thead>\n",
       "  <tbody>\n",
       "    <tr>\n",
       "      <th>0</th>\n",
       "      <td>2</td>\n",
       "      <td>3</td>\n",
       "    </tr>\n",
       "    <tr>\n",
       "      <th>1</th>\n",
       "      <td>2</td>\n",
       "      <td>3</td>\n",
       "    </tr>\n",
       "    <tr>\n",
       "      <th>2</th>\n",
       "      <td>2</td>\n",
       "      <td>3</td>\n",
       "    </tr>\n",
       "    <tr>\n",
       "      <th>3</th>\n",
       "      <td>2</td>\n",
       "      <td>3</td>\n",
       "    </tr>\n",
       "  </tbody>\n",
       "</table>\n",
       "</div>"
      ],
      "text/plain": [
       "city  JP  US\n",
       "0      2   3\n",
       "1      2   3\n",
       "2      2   3\n",
       "3      2   3"
      ]
     },
     "execution_count": 42,
     "metadata": {},
     "output_type": "execute_result"
    }
   ],
   "source": [
    "# To group by level, pass the level number or name using level keyword\n",
    "hier_df.groupby(level=\"city\", axis='columns').count()"
   ]
  },
  {
   "attachments": {},
   "cell_type": "markdown",
   "metadata": {},
   "source": [
    "# 10.2 Data Aggregation\n",
    "\n",
    "Aggregation refer to any data transformation that produces scalar values form arrays. \n",
    "\n",
    "Optimized groupby methods\n",
    "\n",
    "| Function Name | Description |\n",
    "| - | - |\n",
    "| any, all | return True is any (one or more values) or all none-Na values are \"truthy\" | \n",
    "| count | Number of non-NA values | \n",
    "| cumin, cummax | Cumulative minimum and maximum of no-NA values | \n",
    "| cumsum | Cumulative sum of non-NA values |\n",
    "| cumprod | Cumulative product of non-NA values |\n",
    "| first, last | First and last non-NA values |\n",
    "| mean | Mean of non-NA values |\n",
    "| median | Arithemetic median of non-NA values |\n",
    "| min, max | Minimum and maximum of non-NA values |\n",
    "| nth | Retrieve value that would appear at position n with the data in sorted order |\n",
    "| ohlc | Compute four \"open-high-low-close\" statistics for time series-like data. |\n",
    "| prod | product of non-NA values | \n",
    "| quantile | Compute sample quantile | \n",
    "| rand | Ordinal ranks of non-NA values, like calling Series.rank |\n",
    "| size | Compute group sizes, returning result as a Series | \n",
    "| std, var | Sample standard deviation and variance | \n",
    " \n",
    "\n",
    "Tp use your own aggregation functions, pass any function that aggregates an array to the aggregate methid or its short alias agg:\n",
    "\n"
   ]
  },
  {
   "cell_type": "code",
   "execution_count": 45,
   "metadata": {},
   "outputs": [
    {
     "data": {
      "text/plain": [
       "key1\n",
       "a    1.891464\n",
       "b    0.293499\n",
       "Name: data1, dtype: float64"
      ]
     },
     "execution_count": 45,
     "metadata": {},
     "output_type": "execute_result"
    }
   ],
   "source": [
    "def peak_to_peak(arr):\n",
    "\treturn arr.max() - arr.min()\n",
    "\n",
    "grouped.agg(peak_to_peak)"
   ]
  },
  {
   "attachments": {},
   "cell_type": "markdown",
   "metadata": {},
   "source": [
    " "
   ]
  }
 ],
 "metadata": {
  "kernelspec": {
   "display_name": "Python 3",
   "language": "python",
   "name": "python3"
  },
  "language_info": {
   "codemirror_mode": {
    "name": "ipython",
    "version": 3
   },
   "file_extension": ".py",
   "mimetype": "text/x-python",
   "name": "python",
   "nbconvert_exporter": "python",
   "pygments_lexer": "ipython3",
   "version": "3.10.6"
  },
  "orig_nbformat": 4,
  "vscode": {
   "interpreter": {
    "hash": "31f2aee4e71d21fbe5cf8b01ff0e069b9275f58929596ceb00d14d90e3e16cd6"
   }
  }
 },
 "nbformat": 4,
 "nbformat_minor": 2
}
