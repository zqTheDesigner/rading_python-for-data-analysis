{
 "cells": [
  {
   "attachments": {},
   "cell_type": "markdown",
   "metadata": {},
   "source": [
    "Anything that is recorded repeatedly at many points in time forms a time series.\n",
    "\n",
    "Many time series are fixed frequency - data points occur at regular intervals according to some rules.\n",
    "\n",
    "How to mark or refer time series data:\n",
    "\n",
    "- Timestamps: specific instants in time\n",
    "- Fixed period: Such as whole month or whole year\n",
    "- Intervals of time: Indicated by a start and end timestamp. Periods can be thought of as special cases of intervals.\n",
    "- Experiment or elapsed time: Each timestamp is a measure if time related to a particular start time. (The index may be an integer or floating-point number indicating elapsed time from the start of the experiment)\n"
   ]
  },
  {
   "cell_type": "code",
   "execution_count": 1,
   "metadata": {},
   "outputs": [],
   "source": [
    "import numpy as np\n",
    "import pandas as pd\n",
    "import matplotlib.pyplot as plt\n"
   ]
  },
  {
   "attachments": {},
   "cell_type": "markdown",
   "metadata": {},
   "source": [
    "# 11.1 Date and Time Data Types and Tools\n"
   ]
  },
  {
   "cell_type": "code",
   "execution_count": 2,
   "metadata": {},
   "outputs": [
    {
     "data": {
      "text/plain": [
       "datetime.datetime(2010, 12, 14, 0, 0)"
      ]
     },
     "execution_count": 2,
     "metadata": {},
     "output_type": "execute_result"
    }
   ],
   "source": [
    "from datetime import datetime, timedelta\n",
    "\n",
    "now = datetime.now()\n",
    "now\n",
    "now.year, now.month, now.day\n",
    "\n",
    "# datetime stores both the date and time down to the microsecond.\n",
    "# datetime.timedelta represents the temporal difference between two datetime objects\n",
    "\n",
    "delta = datetime(2011, 1, 7) - datetime(2008, 6, 24, 8, 15)\n",
    "delta\n",
    "delta.days, delta.seconds\n",
    "\n",
    "# Add or substract a timedelta or multipole to a datetime object to yield a new shifted object\n",
    "start = datetime(2011, 1, 7)\n",
    "start + timedelta(12)\n",
    "start - 2 * timedelta(12)\n"
   ]
  },
  {
   "attachments": {},
   "cell_type": "markdown",
   "metadata": {},
   "source": [
    "## Converting Between String and Datetime\n"
   ]
  },
  {
   "cell_type": "code",
   "execution_count": null,
   "metadata": {},
   "outputs": [],
   "source": [
    "# Format datetime objects and pandas Timestamp objects as strings using str or strftime method\n",
    "\n",
    "stamp = datetime(2011, 1, 3)\n",
    "str(stamp)\n",
    "stamp.strftime(\"%Y-%m-%d\")\n",
    "\n",
    "# Use same format code convert strings to date\n",
    "value = \"2011-01-03\"\n",
    "\n",
    "# use datetime.strptime to parse a date with a known format\n",
    "datetime.strptime(value, \"%Y-%m-%d\")\n",
    "datestrs = [\"7/6/2011\", \"8/6/2011\"]\n",
    "[datetime.strptime(x, \"%m/%d/%Y\") for x in datestrs]\n"
   ]
  },
  {
   "attachments": {},
   "cell_type": "markdown",
   "metadata": {},
   "source": [
    "## Pandas datetime object\n",
    "\n",
    "use to_datetime to parse string to date time.\n",
    "datetime objects also have a number of local-specific formatting options for systems in other countries or languages.\n"
   ]
  },
  {
   "cell_type": "code",
   "execution_count": null,
   "metadata": {},
   "outputs": [],
   "source": [
    "# pandas.to_datetime method parses different kinds of date representations, e.g. ISO8601 formats\n",
    "datestrs = [\"2011-07-06 12:00:00\", \"2011-08-06 00:00:00\"]\n",
    "\n",
    "pd.to_datetime(datestrs)\n",
    "\n",
    "\n",
    "# NaT(Not a Time) is pandas's null value for timestamp data\n",
    "idx = pd.to_datetime(datestrs + [None])\n",
    "idx\n"
   ]
  },
  {
   "attachments": {},
   "cell_type": "markdown",
   "metadata": {},
   "source": [
    "# 11.2 Time Series Basics\n",
    "\n",
    "A basic kind of time series object in pandas is a Series indexed by timestamps, which is often represented outside of pandas as Python strings or datetime objects\n"
   ]
  },
  {
   "cell_type": "code",
   "execution_count": null,
   "metadata": {},
   "outputs": [],
   "source": [
    "dates = [\n",
    "    datetime(2011, 1, 2),\n",
    "    datetime(2011, 1, 5),\n",
    "    datetime(2011, 1, 7),\n",
    "    datetime(2011, 1, 8),\n",
    "    datetime(2011, 1, 10),\n",
    "    datetime(2011, 1, 12),\n",
    "]\n",
    "\n",
    "ts = pd.Series(np.random.standard_normal(6), index=dates)\n",
    "\n",
    "ts\n"
   ]
  },
  {
   "cell_type": "code",
   "execution_count": null,
   "metadata": {},
   "outputs": [],
   "source": [
    "# perform arithmetic operation between differently indexed time series.\n",
    "# [::2] selects every second elements in ts\n",
    "ts + ts[::2]\n"
   ]
  },
  {
   "cell_type": "code",
   "execution_count": null,
   "metadata": {},
   "outputs": [],
   "source": [
    "# Find the index data type\n",
    "ts.index.dtype\n"
   ]
  },
  {
   "cell_type": "code",
   "execution_count": null,
   "metadata": {},
   "outputs": [],
   "source": [
    "ts.index\n"
   ]
  },
  {
   "cell_type": "code",
   "execution_count": null,
   "metadata": {},
   "outputs": [],
   "source": [
    "# scalar values from a datetimeIndex are pandas timestamp objects\n",
    "\n",
    "stamp = ts.index[0]\n",
    "stamp\n"
   ]
  },
  {
   "attachments": {},
   "cell_type": "markdown",
   "metadata": {},
   "source": [
    "A pandas.Timestamp can be substituted most places where your would use a datetime object. But reverse it not true.\n",
    "pandas.Timestamp can store nano seconds and frequency information, where datetime object cannot.\n"
   ]
  },
  {
   "attachments": {},
   "cell_type": "markdown",
   "metadata": {},
   "source": [
    "## Indexing, Selection, Subsetting\n",
    "\n",
    "Time series behaves like any other Series when you are indexing and selecting data based on the label.\n"
   ]
  },
  {
   "cell_type": "code",
   "execution_count": null,
   "metadata": {},
   "outputs": [],
   "source": [
    "# Select by index\n",
    "stamp = ts.index[2]\n",
    "\n",
    "ts[stamp]\n"
   ]
  },
  {
   "cell_type": "code",
   "execution_count": null,
   "metadata": {},
   "outputs": [],
   "source": [
    "# Select by string that is interpretable as a date\n",
    "# Both of these 3 works\n",
    "ts[\"2011/01/10\"]\n",
    "ts[\"20110110\"]\n",
    "ts[\"2011-01-10\"]\n"
   ]
  },
  {
   "cell_type": "code",
   "execution_count": null,
   "metadata": {},
   "outputs": [],
   "source": [
    "# Pace a year or a month to select slices of data\n",
    "longer_ts = pd.Series(\n",
    "    np.random.standard_normal(1000), index=pd.date_range(\"2011-01-01\", periods=1000)\n",
    ")\n"
   ]
  },
  {
   "cell_type": "code",
   "execution_count": null,
   "metadata": {},
   "outputs": [],
   "source": [
    "longer_ts[\"2012\"]\n",
    "\n",
    "# Select the month\n",
    "longer_ts[\"2012-02\"]\n",
    "\n",
    "# Select by datetime object\n",
    "ts[datetime(2011, 1, 7)]\n",
    "\n",
    "# If time stamps not contained in a time series, the range still can be selected\n",
    "ts[\"2011-01-06\":\"2011-01-11\"]\n",
    "\n",
    "# use truncate slice a series between two dates\n",
    "ts.truncate(after=\"2011-01-09\")\n"
   ]
  },
  {
   "cell_type": "code",
   "execution_count": null,
   "metadata": {},
   "outputs": [],
   "source": [
    "times = ts.truncate(after=\"2011-01-09\")\n",
    "times[:] = np.nan\n"
   ]
  },
  {
   "cell_type": "code",
   "execution_count": null,
   "metadata": {},
   "outputs": [],
   "source": [
    "ts\n"
   ]
  },
  {
   "cell_type": "code",
   "execution_count": null,
   "metadata": {},
   "outputs": [],
   "source": [
    "times\n"
   ]
  },
  {
   "cell_type": "code",
   "execution_count": null,
   "metadata": {},
   "outputs": [],
   "source": [
    "#  Indexing is same for DataFrame\n",
    "\n",
    "dates = pd.date_range(\"2000-01-01\", periods=100, freq=\"W-WED\")\n",
    "\n",
    "long_df = pd.DataFrame(\n",
    "    np.random.standard_normal((100, 4)),\n",
    "    index=dates,\n",
    "    columns=[\"Coloradi\", \"Texas\", \"New York\", \"Ohio\"],\n",
    ")\n",
    "\n",
    "long_df.loc[\"2001-05\"]\n"
   ]
  },
  {
   "attachments": {},
   "cell_type": "markdown",
   "metadata": {},
   "source": [
    "## Time Series with Duplicated Indices\n",
    "\n",
    "When there are multiple observations failing on a particular timestamp.\n"
   ]
  },
  {
   "cell_type": "code",
   "execution_count": null,
   "metadata": {},
   "outputs": [],
   "source": [
    "dates = pd.DatetimeIndex(\n",
    "    [\"2000-01-01\", \"2000-01-02\", \"2000-01-02\", \"2000-01-02\", \"2000-01-03\"]\n",
    ")\n",
    "\n",
    "dup_ts = pd.Series(np.arange(5), index=dates)\n"
   ]
  },
  {
   "cell_type": "code",
   "execution_count": null,
   "metadata": {},
   "outputs": [],
   "source": [
    "dup_ts.index.is_unique\n"
   ]
  },
  {
   "cell_type": "code",
   "execution_count": null,
   "metadata": {},
   "outputs": [],
   "source": [
    "# To aggregate the data having nonunique timestamps\n",
    "\n",
    "grouped = dup_ts.groupby(level=0)\n",
    "\n",
    "# To get the dataframe without duplications\n",
    "grouped.mean()\n"
   ]
  },
  {
   "attachments": {},
   "cell_type": "markdown",
   "metadata": {},
   "source": [
    "# 11.3 Date Ranges, Frequencies and Shifting\n",
    "\n",
    "Generic time series in pandas are assumed to be irregular - no fixed frequencies.\n",
    "\n",
    "Convert the sample time series to fixed daily frequency buy calling resample.\n"
   ]
  },
  {
   "cell_type": "code",
   "execution_count": null,
   "metadata": {},
   "outputs": [],
   "source": [
    "resampler = ts.resample(\"D\")\n",
    "\n",
    "# use resampler.mean() to convert the resampler object to DataFrame\n",
    "resampler.mean()\n"
   ]
  },
  {
   "attachments": {},
   "cell_type": "markdown",
   "metadata": {},
   "source": [
    "## Generating Date Ranges\n",
    "\n",
    "`pandas.date_range` is responsible for generating a DatetimeIndex with an indicated length according to a particular frequency.\n"
   ]
  },
  {
   "cell_type": "code",
   "execution_count": null,
   "metadata": {},
   "outputs": [],
   "source": [
    "# By default, pandas.date_range generates daily timestamps.\n",
    "index = pd.date_range(\"2012-04-01\", \"2012-06-01\")\n",
    "\n",
    "# Pass only a start or end date, must pass a number of periods to generate\n",
    "# generate 20 days timestamps starts from 2012-04-01\n",
    "pd.date_range(start=\"2012-04-01\", periods=20)\n",
    "\n",
    "# frequency \"BM\" stands to BusinessMonthEnd\n",
    "pd.date_range(\"2000-01-01\", \"2000-12-01\", freq=\"BM\")\n",
    "\n",
    "# date_range preserves the time of start and end timestamp\n",
    "pd.date_range(\"2012-05-02 12:56:31\", periods=5)\n",
    "\n",
    "# Normalize the timestamp by passing the normalize option\n",
    "pd.date_range(\"2012-05-02 12:56:31\", periods=5, normalize=True)\n"
   ]
  },
  {
   "attachments": {},
   "cell_type": "markdown",
   "metadata": {},
   "source": [
    "## Frequencies and Dare Offsets\n",
    "\n",
    "Frequencies in pandas are composed of a base frequency and a multiplier.\n",
    "Base frequencies are refereed to by a string alias. \"M\" for monthly , 'H' for hourly\n",
    "\n",
    "For each base frequency there is an object referred to as a date offset.\n"
   ]
  },
  {
   "cell_type": "code",
   "execution_count": null,
   "metadata": {},
   "outputs": [],
   "source": [
    "from pandas.tseries.offsets import Hour, Minute\n",
    "\n",
    "hour = Hour()\n",
    "hour\n",
    "\n",
    "four_hours = Hour(4)\n",
    "four_hours\n",
    "\n",
    "# Putting an integer before the base frequency to create a multiple\n",
    "pd.date_range(\"2000-01-01\", \"2000-01-03 23:59\", freq=\"4H\")\n",
    "\n",
    "# combine offsets by addition\n",
    "Hour(2) + Minute(30)\n",
    "\n",
    "pd.date_range(\"2000-01-01\", periods=10, freq=\"1h30min\")\n"
   ]
  },
  {
   "attachments": {},
   "cell_type": "markdown",
   "metadata": {},
   "source": [
    "## Week of month dates\n",
    "\n",
    "Frequency class starting with WOM enables you to get dates like the third Friday of each month\n"
   ]
  },
  {
   "cell_type": "code",
   "execution_count": null,
   "metadata": {},
   "outputs": [],
   "source": [
    "# get every 3rd Friday of each week from start to end\n",
    "monthly_dates = pd.date_range(\"2012-01-01\", \"2012-09-01\", freq=\"WOM-3FRI\")\n",
    "\n",
    "monthly_dates\n"
   ]
  },
  {
   "attachments": {},
   "cell_type": "markdown",
   "metadata": {},
   "source": [
    "## Shifting (Leading and Lagging) Data\n",
    "\n",
    "Shifting refers to moving data backword and forward through time.\n",
    "\n",
    "Both Series and DataFrame have a shift method for doing naive shifts forward ot backword, leaving the index unmodified.\n"
   ]
  },
  {
   "cell_type": "code",
   "execution_count": null,
   "metadata": {},
   "outputs": [],
   "source": [
    "ts = pd.Series(\n",
    "    np.random.standard_normal(4), index=pd.date_range(\"2000-01-01\", periods=4, freq=\"M\")\n",
    ")\n",
    "\n",
    "ts.shift(2)\n",
    "ts.shift(-2)\n",
    "\n",
    "# use shift to computing consecutive percent changes in a time series or multiple time series as DataFrame columns\n",
    "ts / ts.shift(1) - 1\n",
    "\n",
    "# Naive shifts leave the index unmodified\n",
    "# If frequency is known, the shift is moving the timestamps instead of the data\n",
    "ts.shift(2, freq=\"M\")\n",
    "\n",
    "ts.shift(3, freq=\"D\")\n",
    "\n",
    "# T stands for minutes.\n",
    "# the freq parameter indicates the offset to apply to the timestamps, it does not change the underlaying frequency of the data\n",
    "ts.shift(1, freq=\"90T\")\n"
   ]
  },
  {
   "attachments": {},
   "cell_type": "markdown",
   "metadata": {},
   "source": [
    "### Shifting dates with offsets\n",
    "\n",
    "The pandas date offsets can also be used with datetime or Timestamp objects.\n"
   ]
  },
  {
   "cell_type": "code",
   "execution_count": null,
   "metadata": {},
   "outputs": [],
   "source": [
    "from pandas.tseries.offsets import Day, MonthEnd\n",
    "\n",
    "now = datetime(2011, 11, 7)\n",
    "\n",
    "now + 3 * Day()\n",
    "\n",
    "# Anchored offsets can \"roll\" dates forward or backward\n",
    "offset = MonthEnd()\n",
    "\n",
    "# rollforward to the nearest month end\n",
    "offset.rollforward(now)\n",
    "\n",
    "# rollback now to the nearedt month end\n",
    "offset.rollback(now)\n",
    "\n",
    "# Use these methods with groupby\n",
    "ts = pd.Series(\n",
    "    np.random.standard_normal(20),\n",
    "    index=pd.date_range(\"2000-01-15\", periods=20, freq=\"4D\"),\n",
    ")\n",
    "\n",
    "# rollforward all time to end of the month and group by index\n",
    "# calculate the mean() value to return a dataframe\n",
    "ts.groupby(MonthEnd().rollforward).mean()\n",
    "# Same as below\n",
    "ts.resample(\"M\").mean()\n"
   ]
  },
  {
   "attachments": {},
   "cell_type": "markdown",
   "metadata": {},
   "source": [
    "# 11.4 Time Zone Handling\n",
    "\n",
    "Time zones are expressed as offsets from UTC\n",
    "\n",
    "Python time zone information comes from pytz library.\n"
   ]
  },
  {
   "cell_type": "code",
   "execution_count": null,
   "metadata": {},
   "outputs": [],
   "source": [
    "import pytz\n",
    "\n",
    "pytz.common_timezones[-5:]\n",
    "\n",
    "# to get a time zone object from pytz, use pytz.timezone\n",
    "tz = pytz.timezone(\"America/New_York\")\n",
    "\n",
    "tz\n"
   ]
  },
  {
   "attachments": {},
   "cell_type": "markdown",
   "metadata": {},
   "source": [
    "## Time Zone Localization and Conversion\n",
    "\n",
    "By default, time series in pandas are time zone naive.\n"
   ]
  },
  {
   "cell_type": "code",
   "execution_count": null,
   "metadata": {},
   "outputs": [],
   "source": [
    "dates = pd.date_range(\"2012-03-09 09:30\", periods=6)\n",
    "\n",
    "ts = pd.Series(np.random.standard_normal(len(dates)), index=dates)\n",
    "\n",
    "print(ts.index.tz)  # None by default\n",
    "\n",
    "# To set a date range with a timezone\n",
    "pd.date_range(\"2012-03-09 09:30\", periods=10, tz=\"UTC\")\n",
    "\n",
    "# Use `tz_localize` method to convert naive to localized\n",
    "ts_utc = ts.tz_localize(\"UTC\")\n",
    "\n",
    "# Once a time series has been localized to a particular timezone\n",
    "# it can be converted to another timezone with tz_convert\n",
    "ts_utc.tz_convert(\"America/New_York\")\n"
   ]
  },
  {
   "attachments": {},
   "cell_type": "markdown",
   "metadata": {},
   "source": [
    "## Operations with Time Zone-Aware Timestamp Objects\n",
    "\n",
    "Individual Timestamp object can be localized from naive to time zone-aware\n",
    "and converted from one time zone to another.\n"
   ]
  },
  {
   "cell_type": "code",
   "execution_count": null,
   "metadata": {},
   "outputs": [],
   "source": [
    "stamp = pd.Timestamp(\"2011-03-12 04:00\")\n",
    "\n",
    "stamp_utc = stamp.tz_localize(\"utc\")\n",
    "\n",
    "stamp_utc.tz_convert(\"Asia/Shanghai\")\n",
    "\n",
    "# pass time zone argument when create the TimeStamp\n",
    "stamp_moscow = pd.Timestamp(\"2011-03-12 04:00\", tz=\"Europe/Moscow\")\n",
    "\n",
    "# change time zone doesn't alter the internal UTC value\n",
    "stamp_utc.value == stamp_utc.tz_convert(\"Asia/Singapore\").value  # True\n"
   ]
  },
  {
   "attachments": {},
   "cell_type": "markdown",
   "metadata": {},
   "source": [
    "## Operations Between Different Time Zones\n",
    "\n",
    "If two time series with different time zone are combined\n",
    "The result will be UTC.\n"
   ]
  },
  {
   "cell_type": "code",
   "execution_count": null,
   "metadata": {},
   "outputs": [],
   "source": [
    "dates = pd.date_range(\"2012-03-07 09:30\", periods=10, freq=\"B\")\n",
    "\n",
    "ts = pd.Series(np.random.standard_normal(len(dates)), index=dates)\n",
    "\n",
    "ts1 = ts[:7].tz_localize(\"Europe/London\")\n",
    "ts2 = ts1[2:].tz_convert(\"Europe/Moscow\")\n",
    "\n",
    "result = ts1 + ts2\n",
    "\n",
    "result\n"
   ]
  },
  {
   "attachments": {},
   "cell_type": "markdown",
   "metadata": {},
   "source": [
    "# 11.5 Periods and Period Arithmetic\n",
    "\n",
    "Periods represent time spans (days, months, quarters)\n",
    "\n",
    "pandas.Period class represents Periods data type, requiring a string or integer and a supported frequency\n"
   ]
  },
  {
   "cell_type": "code",
   "execution_count": null,
   "metadata": {},
   "outputs": [],
   "source": [
    "# A Period object represents the full time span from Jan 1 2011 to dec 31 2011, entire year\n",
    "p = pd.Period(\"2011\", freq=\"A-DEC\")\n",
    "\n",
    "# Adding and subtracting integers from periods will shift the period frequency\n",
    "p + 5\n",
    "\n",
    "# If two periods have the same frequency, their difference is the number of units between then as a date offset\n",
    "pd.Period(\"2014\", freq=\"A-DEC\") - p\n",
    "\n",
    "# Regular ranges of periods can be constructed with the period_range function\n",
    "periods = pd.period_range(\"2000-01-01\", \"2000-06-30\", freq=\"M\")\n",
    "periods\n",
    "\n",
    "# PeriodIndex class stores a sequence of periods and can serve as an axis index in any pandas data structure.\n",
    "pd.Series(np.random.standard_normal(6), index=periods)\n"
   ]
  },
  {
   "attachments": {},
   "cell_type": "markdown",
   "metadata": {},
   "source": [
    "## Period Frequency Conversion\n",
    "\n",
    "Periods and PeriodIndex can be converted to another frequency with `asfreq` method.\n"
   ]
  },
  {
   "cell_type": "code",
   "execution_count": 2,
   "metadata": {},
   "outputs": [
    {
     "data": {
      "text/plain": [
       "2006-12-29   -0.373924\n",
       "2007-12-31    0.863468\n",
       "2008-12-31    0.505879\n",
       "2009-12-31   -2.165758\n",
       "Freq: B, dtype: float64"
      ]
     },
     "execution_count": 2,
     "metadata": {},
     "output_type": "execute_result"
    }
   ],
   "source": [
    "# Convert annual period to monthly period\n",
    "p = pd.Period(\"2011\", freq=\"A-DEC\")\n",
    "\n",
    "p.asfreq(\"M\", how=\"start\")\n",
    "\n",
    "p.asfreq(\"M\", how=\"end\")\n",
    "\n",
    "# For a fiscal year (financial year) ending on a month other than December\n",
    "# the corresponding monthly subsperiods are different\n",
    "p = pd.Period(\"2011\", freq=\"A-JUN\")\n",
    "\n",
    "# The fiscal year will start on July and end on June\n",
    "p.asfreq(\"M\", how=\"start\")\n",
    "p.asfreq(\"M\", how=\"end\")\n",
    "\n",
    "# Convert PeriodIndex objects\n",
    "periods = pd.period_range(\"2006\", \"2009\", freq=\"A-DEC\")\n",
    "\n",
    "ts = pd.Series(np.random.standard_normal(len(periods)), index=periods)\n",
    "\n",
    "# Change the frequency of the year to 1st month of the year\n",
    "ts.asfreq(\"M\", how=\"start\")\n",
    "\n",
    "# Get the last business day of the year\n",
    "ts.asfreq(\"B\", how=\"end\")\n"
   ]
  },
  {
   "attachments": {},
   "cell_type": "markdown",
   "metadata": {},
   "source": [
    "## Quarterly Period Frequencies\n",
    "\n",
    "Much quarterly data is reported relative to a fiscal year end.\n"
   ]
  },
  {
   "cell_type": "code",
   "execution_count": null,
   "metadata": {},
   "outputs": [],
   "source": [
    "p = pd.Period(\"2012Q4\", freq=\"Q-JAN\")\n",
    "\n",
    "# Check the start and end of fiscal year by check the daily frequency\n",
    "p.asfreq(\"D\", how=\"start\")\n",
    "p.asfreq(\"D\", how=\"end\")\n",
    "\n",
    "# Get timestamp of 4 p/m. on the second-to-ast business day of the quarter\n",
    "p4pm = (p.asfreq(\"B\", how=\"END\") - 1).asfreq(\"T\", how=\"start\") + 16 * 60\n",
    "\n",
    "p4pm\n",
    "\n",
    "p4pm.to_timestamp().timetz()\n",
    "\n",
    "# Generate quarterly ranges\n",
    "periods = pd.period_range(\"2011Q3\", \"2012Q4\", freq=\"Q-JAN\")\n",
    "\n",
    "ts = pd.Series(np.arange(len(periods)), index=periods)\n",
    "\n",
    "# Get the 2nd last business day of each quarter and second hour\n",
    "new_periods = (periods.asfreq(\"B\", \"end\") - 1).asfreq(\"H\", \"start\") + 1\n",
    "\n",
    "ts\n"
   ]
  },
  {
   "cell_type": "code",
   "execution_count": null,
   "metadata": {},
   "outputs": [],
   "source": [
    "ts.index = new_periods\n",
    "ts\n"
   ]
  },
  {
   "attachments": {},
   "cell_type": "markdown",
   "metadata": {},
   "source": [
    "##\n"
   ]
  },
  {
   "attachments": {},
   "cell_type": "markdown",
   "metadata": {},
   "source": [
    "## Converting Timestamps to Periods (and Back)\n",
    "\n",
    "Series and DataFrame objects indexed by timestamps can be converted to periods with the to_period method.\n"
   ]
  },
  {
   "cell_type": "code",
   "execution_count": null,
   "metadata": {},
   "outputs": [],
   "source": [
    "dates = pd.date_range(\"2000-01-01\", periods=3, freq=\"M\")\n",
    "\n",
    "ts = pd.Series(np.random.standard_normal(3), index=dates)\n",
    "\n",
    "pts = ts.to_period()\n",
    "\n",
    "pts\n"
   ]
  },
  {
   "attachments": {},
   "cell_type": "markdown",
   "metadata": {},
   "source": [
    "Periods refer to nonoverlapping time spaces, a timestamp can only belong to a single period for a given frequency.\n"
   ]
  },
  {
   "cell_type": "code",
   "execution_count": null,
   "metadata": {},
   "outputs": [],
   "source": [
    "dates = pd.date_range(\"2000-01-29\", periods=6)\n",
    "\n",
    "ts2 = pd.Series(np.random.standard_normal(6), index=dates)\n",
    "\n",
    "ts2.to_period(\"M\")\n",
    "\n",
    "# To convert back to timestamps, use the to_timestamp method\n",
    "pts = ts2.to_period()\n",
    "\n",
    "pts\n",
    "\n",
    "# convert to the end timestamp of the day.\n",
    "pts.to_timestamp(how=\"end\")\n"
   ]
  },
  {
   "attachments": {},
   "cell_type": "markdown",
   "metadata": {},
   "source": [
    "## Creating a PeriodIndex from Arrays\n",
    "\n",
    "When fixed frequency datasets stored with timespan information spread across multiple columns.\n"
   ]
  },
  {
   "cell_type": "code",
   "execution_count": 21,
   "metadata": {},
   "outputs": [
    {
     "data": {
      "text/plain": [
       "1959Q1    0.00\n",
       "1959Q2    2.34\n",
       "1959Q3    2.74\n",
       "1959Q4    0.27\n",
       "1960Q1    2.31\n",
       "          ... \n",
       "2008Q3   -3.16\n",
       "2008Q4   -8.79\n",
       "2009Q1    0.94\n",
       "2009Q2    3.37\n",
       "2009Q3    3.56\n",
       "Freq: Q-DEC, Name: infl, Length: 203, dtype: float64"
      ]
     },
     "execution_count": 21,
     "metadata": {},
     "output_type": "execute_result"
    }
   ],
   "source": [
    "data = pd.read_csv(\"./datasets/macrodata.csv\")\n",
    "\n",
    "data.head()\n",
    "\n",
    "# passing different frequency arrays to PeriodIndex with a frequency\n",
    "index = pd.PeriodIndex(year=data[\"year\"], quarter=data[\"quarter\"], freq=\"Q-DEC\")\n",
    "\n",
    "data.index = index\n",
    "\n",
    "data[\"infl\"]\n"
   ]
  },
  {
   "attachments": {},
   "cell_type": "markdown",
   "metadata": {},
   "source": [
    "# 11.6 Resampling and Frequency Conversion\n",
    "\n",
    "Resampling refers to the process of converting a time series from one frequency to another. Aggregating higher frequency data to lower frequency is called **downsampling**, converting lower frequency to higher frequency is called **upsampling**.\n",
    "\n",
    "Special cases, convert W-WED (weekly on Wednesdays) to W-FRI (weekly on Fridays) is neither both.\n",
    "\n",
    "Use pandas objects' `resample` method for all frequency conversion.\n",
    "Resample has a similar API to `groupby`, call resample to group the data then call an aggregation function.\n"
   ]
  },
  {
   "cell_type": "code",
   "execution_count": 12,
   "metadata": {},
   "outputs": [],
   "source": [
    "dates = pd.date_range(\"2000-01-01\", periods=100)\n",
    "\n",
    "ts = pd.Series(np.random.standard_normal(len(dates)), index=dates)\n",
    "\n",
    "# Resample the data to monthly frequency, then calculate the mean value\n",
    "ts_m = ts.resample(\"M\")\n",
    "\n",
    "# ts.resample(\"M\", kind=\"period\").mean()\n"
   ]
  },
  {
   "cell_type": "code",
   "execution_count": 16,
   "metadata": {},
   "outputs": [
    {
     "data": {
      "text/plain": [
       "2000-01-31    0.810462\n",
       "2000-02-29   -0.904712\n",
       "2000-03-31   -0.319742\n",
       "2000-04-30         NaN\n",
       "Freq: M, dtype: float64"
      ]
     },
     "execution_count": 16,
     "metadata": {},
     "output_type": "execute_result"
    }
   ],
   "source": [
    "ts_m.asfreq()"
   ]
  },
  {
   "cell_type": "code",
   "execution_count": 20,
   "metadata": {},
   "outputs": [
    {
     "data": {
      "text/plain": [
       "2000-01-31    0.810462\n",
       "2000-02-29   -0.904712\n",
       "2000-03-31   -0.319742\n",
       "2000-04-30   -0.654313\n",
       "Freq: M, dtype: float64"
      ]
     },
     "execution_count": 20,
     "metadata": {},
     "output_type": "execute_result"
    }
   ],
   "source": [
    "ts_m.last()"
   ]
  },
  {
   "attachments": {},
   "cell_type": "markdown",
   "metadata": {},
   "source": [
    "## Downsampling\n",
    "\n",
    "Downsampling is aggregating data to a regular, lower frequency. The data to aggregate doesn't need to be fixed frequently; the desired frequency defined `bin edge` that are used to slice the time series into pieces to aggregate.\n",
    "\n",
    "Things to think about when use resample to downsample data:\n",
    "\n",
    "- Which side of each interval is closed\n",
    "- How to label each aggregated bin, either with start of the interval or end\n"
   ]
  },
  {
   "cell_type": "code",
   "execution_count": 35,
   "metadata": {},
   "outputs": [
    {
     "data": {
      "text/plain": [
       "1999-12-31 23:59:59     0\n",
       "2000-01-01 00:04:59    15\n",
       "2000-01-01 00:09:59    40\n",
       "2000-01-01 00:14:59    11\n",
       "Freq: 5T, dtype: int64"
      ]
     },
     "execution_count": 35,
     "metadata": {},
     "output_type": "execute_result"
    }
   ],
   "source": [
    "# one-minute frequency data\n",
    "dates = pd.date_range(\"2000-01-01\", periods=12, freq=\"T\")\n",
    "\n",
    "ts = pd.Series(np.arange(len(dates)), index=dates)\n",
    "\n",
    "# aggregate the data to five-minute chunks\n",
    "# By default, left bin edge is inclusive (00:00 to 00:05 value is inside, but 00:05 is excluded)\n",
    "ts.resample(\"5min\").sum()\n",
    "\n",
    "# Left side will be included and left side will be excluded\n",
    "# Since 11 falls on the single right side, it become it's own row\n",
    "ts.resample(\"5min\", closed=\"right\", label=\"right\").sum()\n",
    "\n",
    "# Shift the result index\n",
    "from pandas.tseries.frequencies import to_offset\n",
    "\n",
    "result = ts.resample(\"5min\", closed=\"right\", label=\"right\").sum()\n",
    "result.index = result.index + to_offset(\"-1s\")\n",
    "result\n"
   ]
  },
  {
   "attachments": {},
   "cell_type": "markdown",
   "metadata": {},
   "source": [
    "### Open-high-low-close(OHLC) resampling\n",
    "\n",
    "To compute four values for each bucket - first (open), last(cose), maximum(high), minimal(low) values\n",
    "\n",
    "Use `ohlc()` method to get the 4 aggregrates\n"
   ]
  },
  {
   "cell_type": "code",
   "execution_count": 37,
   "metadata": {},
   "outputs": [
    {
     "data": {
      "text/html": [
       "<div>\n",
       "<style scoped>\n",
       "    .dataframe tbody tr th:only-of-type {\n",
       "        vertical-align: middle;\n",
       "    }\n",
       "\n",
       "    .dataframe tbody tr th {\n",
       "        vertical-align: top;\n",
       "    }\n",
       "\n",
       "    .dataframe thead th {\n",
       "        text-align: right;\n",
       "    }\n",
       "</style>\n",
       "<table border=\"1\" class=\"dataframe\">\n",
       "  <thead>\n",
       "    <tr style=\"text-align: right;\">\n",
       "      <th></th>\n",
       "      <th>open</th>\n",
       "      <th>high</th>\n",
       "      <th>low</th>\n",
       "      <th>close</th>\n",
       "    </tr>\n",
       "  </thead>\n",
       "  <tbody>\n",
       "    <tr>\n",
       "      <th>2000-01-01 00:00:00</th>\n",
       "      <td>10</td>\n",
       "      <td>10</td>\n",
       "      <td>1</td>\n",
       "      <td>9</td>\n",
       "    </tr>\n",
       "    <tr>\n",
       "      <th>2000-01-01 00:05:00</th>\n",
       "      <td>11</td>\n",
       "      <td>11</td>\n",
       "      <td>0</td>\n",
       "      <td>2</td>\n",
       "    </tr>\n",
       "    <tr>\n",
       "      <th>2000-01-01 00:10:00</th>\n",
       "      <td>3</td>\n",
       "      <td>7</td>\n",
       "      <td>3</td>\n",
       "      <td>7</td>\n",
       "    </tr>\n",
       "  </tbody>\n",
       "</table>\n",
       "</div>"
      ],
      "text/plain": [
       "                     open  high  low  close\n",
       "2000-01-01 00:00:00    10    10    1      9\n",
       "2000-01-01 00:05:00    11    11    0      2\n",
       "2000-01-01 00:10:00     3     7    3      7"
      ]
     },
     "execution_count": 37,
     "metadata": {},
     "output_type": "execute_result"
    }
   ],
   "source": [
    "ts = pd.Series(np.random.permutation(np.arange(len(dates))), index=dates)\n",
    "\n",
    "ts.resample(\"5min\").ohlc()\n"
   ]
  },
  {
   "attachments": {},
   "cell_type": "markdown",
   "metadata": {},
   "source": [
    "## Upsampling and Interpolation\n",
    "\n",
    "Upsampling is converting from a lower frequency to higher frequency, where no aggregation is needed.\n"
   ]
  },
  {
   "cell_type": "code",
   "execution_count": 43,
   "metadata": {},
   "outputs": [
    {
     "data": {
      "text/html": [
       "<div>\n",
       "<style scoped>\n",
       "    .dataframe tbody tr th:only-of-type {\n",
       "        vertical-align: middle;\n",
       "    }\n",
       "\n",
       "    .dataframe tbody tr th {\n",
       "        vertical-align: top;\n",
       "    }\n",
       "\n",
       "    .dataframe thead th {\n",
       "        text-align: right;\n",
       "    }\n",
       "</style>\n",
       "<table border=\"1\" class=\"dataframe\">\n",
       "  <thead>\n",
       "    <tr style=\"text-align: right;\">\n",
       "      <th></th>\n",
       "      <th>Colorado</th>\n",
       "      <th>Texas</th>\n",
       "      <th>New York</th>\n",
       "      <th>Ohio</th>\n",
       "    </tr>\n",
       "  </thead>\n",
       "  <tbody>\n",
       "    <tr>\n",
       "      <th>2000-01-05</th>\n",
       "      <td>0.479394</td>\n",
       "      <td>0.313928</td>\n",
       "      <td>0.531870</td>\n",
       "      <td>-2.307595</td>\n",
       "    </tr>\n",
       "    <tr>\n",
       "      <th>2000-01-06</th>\n",
       "      <td>0.479394</td>\n",
       "      <td>0.313928</td>\n",
       "      <td>0.531870</td>\n",
       "      <td>-2.307595</td>\n",
       "    </tr>\n",
       "    <tr>\n",
       "      <th>2000-01-07</th>\n",
       "      <td>0.479394</td>\n",
       "      <td>0.313928</td>\n",
       "      <td>0.531870</td>\n",
       "      <td>-2.307595</td>\n",
       "    </tr>\n",
       "    <tr>\n",
       "      <th>2000-01-08</th>\n",
       "      <td>NaN</td>\n",
       "      <td>NaN</td>\n",
       "      <td>NaN</td>\n",
       "      <td>NaN</td>\n",
       "    </tr>\n",
       "    <tr>\n",
       "      <th>2000-01-09</th>\n",
       "      <td>NaN</td>\n",
       "      <td>NaN</td>\n",
       "      <td>NaN</td>\n",
       "      <td>NaN</td>\n",
       "    </tr>\n",
       "    <tr>\n",
       "      <th>2000-01-10</th>\n",
       "      <td>NaN</td>\n",
       "      <td>NaN</td>\n",
       "      <td>NaN</td>\n",
       "      <td>NaN</td>\n",
       "    </tr>\n",
       "    <tr>\n",
       "      <th>2000-01-11</th>\n",
       "      <td>NaN</td>\n",
       "      <td>NaN</td>\n",
       "      <td>NaN</td>\n",
       "      <td>NaN</td>\n",
       "    </tr>\n",
       "    <tr>\n",
       "      <th>2000-01-12</th>\n",
       "      <td>-3.550274</td>\n",
       "      <td>-0.937803</td>\n",
       "      <td>-0.412593</td>\n",
       "      <td>0.301080</td>\n",
       "    </tr>\n",
       "  </tbody>\n",
       "</table>\n",
       "</div>"
      ],
      "text/plain": [
       "            Colorado     Texas  New York      Ohio\n",
       "2000-01-05  0.479394  0.313928  0.531870 -2.307595\n",
       "2000-01-06  0.479394  0.313928  0.531870 -2.307595\n",
       "2000-01-07  0.479394  0.313928  0.531870 -2.307595\n",
       "2000-01-08       NaN       NaN       NaN       NaN\n",
       "2000-01-09       NaN       NaN       NaN       NaN\n",
       "2000-01-10       NaN       NaN       NaN       NaN\n",
       "2000-01-11       NaN       NaN       NaN       NaN\n",
       "2000-01-12 -3.550274 -0.937803 -0.412593  0.301080"
      ]
     },
     "execution_count": 43,
     "metadata": {},
     "output_type": "execute_result"
    }
   ],
   "source": [
    "frame = pd.DataFrame(\n",
    "    np.random.standard_normal((2, 4)),\n",
    "    index=pd.date_range(\"2000-01-01\", periods=2, freq=\"W-Wed\"),\n",
    "    columns=[\"Colorado\", \"Texas\", \"New York\", \"Ohio\"],\n",
    ")\n",
    "\n",
    "frame\n",
    "\n",
    "# When use an aggregation function, there is only one value per group\n",
    "# missing values result in the gaps\n",
    "df_daily = frame.resample(\"D\").asfreq()\n",
    "df_daily\n",
    "\n",
    "# Fill forward each weekly value on the non-Wednesdays\n",
    "# with limit of how far to continue using an observed value\n",
    "df_daily = frame.resample(\"D\").ffill(limit=2)\n",
    "df_daily\n"
   ]
  },
  {
   "attachments": {},
   "cell_type": "markdown",
   "metadata": {},
   "source": [
    "## Resampling with Periods\n",
    "\n",
    "Resampling data indexed by periods\n"
   ]
  },
  {
   "cell_type": "code",
   "execution_count": 7,
   "metadata": {},
   "outputs": [
    {
     "data": {
      "text/html": [
       "<div>\n",
       "<style scoped>\n",
       "    .dataframe tbody tr th:only-of-type {\n",
       "        vertical-align: middle;\n",
       "    }\n",
       "\n",
       "    .dataframe tbody tr th {\n",
       "        vertical-align: top;\n",
       "    }\n",
       "\n",
       "    .dataframe thead th {\n",
       "        text-align: right;\n",
       "    }\n",
       "</style>\n",
       "<table border=\"1\" class=\"dataframe\">\n",
       "  <thead>\n",
       "    <tr style=\"text-align: right;\">\n",
       "      <th></th>\n",
       "      <th>Colorado</th>\n",
       "      <th>Texas</th>\n",
       "      <th>New York</th>\n",
       "      <th>Ohio</th>\n",
       "    </tr>\n",
       "  </thead>\n",
       "  <tbody>\n",
       "    <tr>\n",
       "      <th>2000</th>\n",
       "      <td>0.116435</td>\n",
       "      <td>-0.452431</td>\n",
       "      <td>0.052899</td>\n",
       "      <td>-0.039173</td>\n",
       "    </tr>\n",
       "    <tr>\n",
       "      <th>2001</th>\n",
       "      <td>-0.119388</td>\n",
       "      <td>0.007995</td>\n",
       "      <td>-0.049437</td>\n",
       "      <td>-0.182430</td>\n",
       "    </tr>\n",
       "  </tbody>\n",
       "</table>\n",
       "</div>"
      ],
      "text/plain": [
       "      Colorado     Texas  New York      Ohio\n",
       "2000  0.116435 -0.452431  0.052899 -0.039173\n",
       "2001 -0.119388  0.007995 -0.049437 -0.182430"
      ]
     },
     "execution_count": 7,
     "metadata": {},
     "output_type": "execute_result"
    }
   ],
   "source": [
    "frame = pd.DataFrame(\n",
    "    np.random.standard_normal((24, 4)),\n",
    "    index=pd.period_range(\"1-2000\", \"12-2001\", freq=\"M\"),\n",
    "    columns=[\"Colorado\", \"Texas\", \"New York\", \"Ohio\"],\n",
    ")\n",
    "\n",
    "frame.head()\n",
    "\n",
    "annual_frame = frame.resample(\"A-DEC\").mean()\n",
    "annual_frame\n"
   ]
  },
  {
   "attachments": {},
   "cell_type": "markdown",
   "metadata": {},
   "source": [
    "Before upsampling, have to decide about which end of the time span in the new frequency to place the values.\n"
   ]
  },
  {
   "cell_type": "code",
   "execution_count": 10,
   "metadata": {},
   "outputs": [
    {
     "data": {
      "text/html": [
       "<div>\n",
       "<style scoped>\n",
       "    .dataframe tbody tr th:only-of-type {\n",
       "        vertical-align: middle;\n",
       "    }\n",
       "\n",
       "    .dataframe tbody tr th {\n",
       "        vertical-align: top;\n",
       "    }\n",
       "\n",
       "    .dataframe thead th {\n",
       "        text-align: right;\n",
       "    }\n",
       "</style>\n",
       "<table border=\"1\" class=\"dataframe\">\n",
       "  <thead>\n",
       "    <tr style=\"text-align: right;\">\n",
       "      <th></th>\n",
       "      <th>Colorado</th>\n",
       "      <th>Texas</th>\n",
       "      <th>New York</th>\n",
       "      <th>Ohio</th>\n",
       "    </tr>\n",
       "  </thead>\n",
       "  <tbody>\n",
       "    <tr>\n",
       "      <th>2000Q4</th>\n",
       "      <td>0.116435</td>\n",
       "      <td>-0.452431</td>\n",
       "      <td>0.052899</td>\n",
       "      <td>-0.039173</td>\n",
       "    </tr>\n",
       "    <tr>\n",
       "      <th>2001Q1</th>\n",
       "      <td>0.116435</td>\n",
       "      <td>-0.452431</td>\n",
       "      <td>0.052899</td>\n",
       "      <td>-0.039173</td>\n",
       "    </tr>\n",
       "    <tr>\n",
       "      <th>2001Q2</th>\n",
       "      <td>0.116435</td>\n",
       "      <td>-0.452431</td>\n",
       "      <td>0.052899</td>\n",
       "      <td>-0.039173</td>\n",
       "    </tr>\n",
       "    <tr>\n",
       "      <th>2001Q3</th>\n",
       "      <td>0.116435</td>\n",
       "      <td>-0.452431</td>\n",
       "      <td>0.052899</td>\n",
       "      <td>-0.039173</td>\n",
       "    </tr>\n",
       "    <tr>\n",
       "      <th>2001Q4</th>\n",
       "      <td>-0.119388</td>\n",
       "      <td>0.007995</td>\n",
       "      <td>-0.049437</td>\n",
       "      <td>-0.182430</td>\n",
       "    </tr>\n",
       "  </tbody>\n",
       "</table>\n",
       "</div>"
      ],
      "text/plain": [
       "        Colorado     Texas  New York      Ohio\n",
       "2000Q4  0.116435 -0.452431  0.052899 -0.039173\n",
       "2001Q1  0.116435 -0.452431  0.052899 -0.039173\n",
       "2001Q2  0.116435 -0.452431  0.052899 -0.039173\n",
       "2001Q3  0.116435 -0.452431  0.052899 -0.039173\n",
       "2001Q4 -0.119388  0.007995 -0.049437 -0.182430"
      ]
     },
     "execution_count": 10,
     "metadata": {},
     "output_type": "execute_result"
    }
   ],
   "source": [
    "# Q-DEC: Quarterly, year ending in December\n",
    "annual_frame.resample(\"Q-DEC\").ffill()\n",
    "\n",
    "annual_frame.resample(\"Q-DEC\", convention=\"end\").asfreq().ffill()\n"
   ]
  },
  {
   "attachments": {},
   "cell_type": "markdown",
   "metadata": {},
   "source": [
    "Rules about upsampling and downsampling about periods\n",
    "\n",
    "- in downsampling, the target frequency must be a subperiod of the source frequency\n",
    "- for upsampling, the target frequency myst ve a superperiod of the source frequency\n"
   ]
  },
  {
   "attachments": {},
   "cell_type": "markdown",
   "metadata": {},
   "source": [
    "## Grouped Time Resampling\n",
    "\n",
    "For timeseries data, the `resample` method is semantically a group operation based on a time intervalization.\n"
   ]
  },
  {
   "cell_type": "code",
   "execution_count": 16,
   "metadata": {},
   "outputs": [
    {
     "data": {
      "text/html": [
       "<div>\n",
       "<style scoped>\n",
       "    .dataframe tbody tr th:only-of-type {\n",
       "        vertical-align: middle;\n",
       "    }\n",
       "\n",
       "    .dataframe tbody tr th {\n",
       "        vertical-align: top;\n",
       "    }\n",
       "\n",
       "    .dataframe thead th {\n",
       "        text-align: right;\n",
       "    }\n",
       "</style>\n",
       "<table border=\"1\" class=\"dataframe\">\n",
       "  <thead>\n",
       "    <tr style=\"text-align: right;\">\n",
       "      <th></th>\n",
       "      <th></th>\n",
       "      <th>value</th>\n",
       "    </tr>\n",
       "    <tr>\n",
       "      <th>key</th>\n",
       "      <th>time</th>\n",
       "      <th></th>\n",
       "    </tr>\n",
       "  </thead>\n",
       "  <tbody>\n",
       "    <tr>\n",
       "      <th rowspan=\"3\" valign=\"top\">a</th>\n",
       "      <th>2017-05-20 00:00:00</th>\n",
       "      <td>30</td>\n",
       "    </tr>\n",
       "    <tr>\n",
       "      <th>2017-05-20 00:05:00</th>\n",
       "      <td>105</td>\n",
       "    </tr>\n",
       "    <tr>\n",
       "      <th>2017-05-20 00:10:00</th>\n",
       "      <td>180</td>\n",
       "    </tr>\n",
       "    <tr>\n",
       "      <th rowspan=\"3\" valign=\"top\">b</th>\n",
       "      <th>2017-05-20 00:00:00</th>\n",
       "      <td>35</td>\n",
       "    </tr>\n",
       "    <tr>\n",
       "      <th>2017-05-20 00:05:00</th>\n",
       "      <td>110</td>\n",
       "    </tr>\n",
       "    <tr>\n",
       "      <th>2017-05-20 00:10:00</th>\n",
       "      <td>185</td>\n",
       "    </tr>\n",
       "    <tr>\n",
       "      <th rowspan=\"3\" valign=\"top\">c</th>\n",
       "      <th>2017-05-20 00:00:00</th>\n",
       "      <td>40</td>\n",
       "    </tr>\n",
       "    <tr>\n",
       "      <th>2017-05-20 00:05:00</th>\n",
       "      <td>115</td>\n",
       "    </tr>\n",
       "    <tr>\n",
       "      <th>2017-05-20 00:10:00</th>\n",
       "      <td>190</td>\n",
       "    </tr>\n",
       "  </tbody>\n",
       "</table>\n",
       "</div>"
      ],
      "text/plain": [
       "                         value\n",
       "key time                      \n",
       "a   2017-05-20 00:00:00     30\n",
       "    2017-05-20 00:05:00    105\n",
       "    2017-05-20 00:10:00    180\n",
       "b   2017-05-20 00:00:00     35\n",
       "    2017-05-20 00:05:00    110\n",
       "    2017-05-20 00:10:00    185\n",
       "c   2017-05-20 00:00:00     40\n",
       "    2017-05-20 00:05:00    115\n",
       "    2017-05-20 00:10:00    190"
      ]
     },
     "execution_count": 16,
     "metadata": {},
     "output_type": "execute_result"
    }
   ],
   "source": [
    "N = 15\n",
    "\n",
    "times = pd.date_range(\"2017-05-20 00:00\", freq=\"1min\", periods=N)\n",
    "\n",
    "df = pd.DataFrame({\"time\": times, \"value\": np.arange(N)})\n",
    "\n",
    "# index by time and resample\n",
    "df.set_index(\"time\").resample(\"5min\").count()\n",
    "\n",
    "# A DataFrame contains multiple time series, marked by an additional group key column\n",
    "df2 = pd.DataFrame(\n",
    "    {\n",
    "        \"time\": times.repeat(3),\n",
    "        \"key\": np.tile([\"a\", \"b\", \"c\"], N),\n",
    "        \"value\": np.arange(N * 3),\n",
    "    }\n",
    ")\n",
    "\n",
    "df2.head()\n",
    "\n",
    "# Use pandas.Grouper() object for the resampling\n",
    "time_key = pd.Grouper(freq=\"5min\")\n",
    "\n",
    "resampled = df2.set_index(\"time\").groupby([\"key\", time_key]).sum()\n",
    "\n",
    "# When use pandas.Grouper, the time must be the index of the Series of DataFrame\n",
    "resampled\n"
   ]
  },
  {
   "attachments": {},
   "cell_type": "markdown",
   "metadata": {},
   "source": [
    "# 11.7 Moving Window Functions\n",
    "Functions evaluated over a sliding window or with exponentially decaying weights.\n",
    "\n",
    "This can be useful for smoothing noisy or gappy data. "
   ]
  },
  {
   "cell_type": "code",
   "execution_count": 3,
   "metadata": {},
   "outputs": [],
   "source": [
    "close_px_all = pd.read_csv('datasets/stock_px.csv', parse_dates=True, index_col=0)\n",
    "\n",
    "close_px = close_px_all[[\"AAPL\", \"MSFT\", \"XOM\"]]\n",
    "\n",
    "close_px = close_px.resample('B').ffill()"
   ]
  },
  {
   "cell_type": "code",
   "execution_count": 8,
   "metadata": {},
   "outputs": [
    {
     "data": {
      "image/png": "[encoded data removed]",
      "text/plain": [
       "<Figure size 640x480 with 1 Axes>"
      ]
     },
     "metadata": {},
     "output_type": "display_data"
    }
   ],
   "source": [
    "close_px['AAPL'].plot()\n",
    "\n",
    "# Rolling operator, behaves similarly to resample and groupby. \n",
    "# 250 is creating a 250 business days of moving window\n",
    "# Here, we have the 250-day moving window average of Apple's stock price\n",
    "close_px['AAPL'].rolling(250).mean().plot()"
   ]
  },
  {
   "cell_type": "code",
   "execution_count": 14,
   "metadata": {},
   "outputs": [
    {
     "data": {
      "text/plain": [
       "2003-01-02   NaN\n",
       "Freq: B, Name: AAPL, dtype: float64"
      ]
     },
     "execution_count": 14,
     "metadata": {},
     "output_type": "execute_result"
    }
   ],
   "source": [
    "std250 = close_px['AAPL'].pct_change()\n",
    "std250[std250.isna()]"
   ]
  },
  {
   "cell_type": "code",
   "execution_count": 10,
   "metadata": {},
   "outputs": [
    {
     "data": {
      "text/plain": [
       "<AxesSubplot: >"
      ]
     },
     "execution_count": 10,
     "metadata": {},
     "output_type": "execute_result"
    },
    {
     "data": {
      "image/png": "[encoded data removed]",
      "text/plain": [
       "<Figure size 640x480 with 1 Axes>"
      ]
     },
     "metadata": {},
     "output_type": "display_data"
    }
   ],
   "source": [
    "std250 = close_px['AAPL'].pct_change().rolling(250, min_periods=10).std()\n",
    "\n",
    "std250.plot()"
   ]
  },
  {
   "cell_type": "code",
   "execution_count": 16,
   "metadata": {},
   "outputs": [
    {
     "data": {
      "text/plain": [
       "<AxesSubplot: >"
      ]
     },
     "execution_count": 16,
     "metadata": {},
     "output_type": "execute_result"
    },
    {
     "data": {
      "image/png": "[encoded data removed]",
      "text/plain": [
       "<Figure size 640x480 with 1 Axes>"
      ]
     },
     "metadata": {},
     "output_type": "display_data"
    }
   ],
   "source": [
    "# Calling moving window function on a dataframe apoplies the transformation to each column\n",
    "close_px.rolling(60).mean().plot()"
   ]
  },
  {
   "attachments": {},
   "cell_type": "markdown",
   "metadata": {},
   "source": [
    "## Exponentially Weighted Functions\n",
    "Using a fixed window size with equally weighted observations - specify a constant decay factor to give more weight to more recent observations. \n",
    "\n",
    "pandas ewm operator (exponentially weighted moving)\n",
    "\n"
   ]
  },
  {
   "cell_type": "code",
   "execution_count": 22,
   "metadata": {},
   "outputs": [
    {
     "data": {
      "text/plain": [
       "<matplotlib.legend.Legend at 0x7f4f73f23760>"
      ]
     },
     "execution_count": 22,
     "metadata": {},
     "output_type": "execute_result"
    },
    {
     "data": {
      "image/png": "[encoded data removed]",
      "text/plain": [
       "<Figure size 640x480 with 1 Axes>"
      ]
     },
     "metadata": {},
     "output_type": "display_data"
    }
   ],
   "source": [
    "appl_px = close_px[\"AAPL\"][\"2006\":\"2007\"]\n",
    "\n",
    "ma30 = appl_px.rolling(30, min_periods=20).mean()\n",
    "\n",
    "ewma30 = appl_px.ewm(span=30).mean()\n",
    "\n",
    "appl_px.plot(style='k-', label=\"Price\")\n",
    "\n",
    "ma30.plot(style='k--', label=\"Simple Moving Avg\")\n",
    "\n",
    "ewma30.plot(style='k-', label=\"EW MA\")\n",
    "\n",
    "plt.legend()"
   ]
  },
  {
   "attachments": {},
   "cell_type": "markdown",
   "metadata": {},
   "source": [
    "## Binary Moving Window Functions\n",
    "\n",
    "correlations and covariance need to operate on two time series."
   ]
  },
  {
   "cell_type": "code",
   "execution_count": 27,
   "metadata": {},
   "outputs": [],
   "source": [
    "spx_px = close_px_all['SPX']\n",
    "\n",
    "spx_rets = spx_px.pct_change()\n",
    "\n",
    "returns = close_px.pct_change()"
   ]
  },
  {
   "cell_type": "code",
   "execution_count": 30,
   "metadata": {},
   "outputs": [
    {
     "data": {
      "text/plain": [
       "<AxesSubplot: >"
      ]
     },
     "execution_count": 30,
     "metadata": {},
     "output_type": "execute_result"
    },
    {
     "data": {
      "image/png": "[encoded data removed]",
      "text/plain": [
       "<Figure size 640x480 with 1 Axes>"
      ]
     },
     "metadata": {},
     "output_type": "display_data"
    }
   ],
   "source": [
    "corr = returns['AAPL'].rolling(125, min_periods=100).corr(spx_rets)\n",
    "\n",
    "corr.plot()"
   ]
  },
  {
   "cell_type": "code",
   "execution_count": 31,
   "metadata": {},
   "outputs": [
    {
     "data": {
      "text/plain": [
       "<AxesSubplot: >"
      ]
     },
     "execution_count": 31,
     "metadata": {},
     "output_type": "execute_result"
    },
    {
     "data": {
      "image/png": "[encoded data removed]",
      "text/plain": [
       "<Figure size 640x480 with 1 Axes>"
      ]
     },
     "metadata": {},
     "output_type": "display_data"
    }
   ],
   "source": [
    "corr = returns.rolling(125, min_periods=100).corr(spx_rets)\n",
    "\n",
    "corr.plot()"
   ]
  },
  {
   "attachments": {},
   "cell_type": "markdown",
   "metadata": {},
   "source": [
    "## User-Defined Moving Window Functions\n",
    "To apply methods on rolling and related methods. Apply an array function. \n"
   ]
  },
  {
   "cell_type": "code",
   "execution_count": 32,
   "metadata": {},
   "outputs": [
    {
     "data": {
      "text/plain": [
       "<AxesSubplot: >"
      ]
     },
     "execution_count": 32,
     "metadata": {},
     "output_type": "execute_result"
    },
    {
     "data": {
      "image/png": "[encoded data removed]",
      "text/plain": [
       "<Figure size 640x480 with 1 Axes>"
      ]
     },
     "metadata": {},
     "output_type": "display_data"
    }
   ],
   "source": [
    "from scipy.stats import percentileofscore\n",
    "\n",
    "def score_at_2percent(x):\n",
    "\treturn percentileofscore(x, 0.02)\n",
    "\n",
    "result = returns['AAPL'].rolling(250).apply(score_at_2percent)\n",
    "\n",
    "result.plot()"
   ]
  }
 ],
 "metadata": {
  "kernelspec": {
   "display_name": "env",
   "language": "python",
   "name": "python3"
  },
  "language_info": {
   "codemirror_mode": {
    "name": "ipython",
    "version": 3
   },
   "file_extension": ".py",
   "mimetype": "text/x-python",
   "name": "python",
   "nbconvert_exporter": "python",
   "pygments_lexer": "ipython3",
   "version": "3.10.6"
  },
  "orig_nbformat": 4,
  "vscode": {
   "interpreter": {
    "hash": "db103a864d90754ea6859861b49c97228243503a9f70d5acb5594bb386424408"
   }
  }
 },
 "nbformat": 4,
 "nbformat_minor": 2
}
