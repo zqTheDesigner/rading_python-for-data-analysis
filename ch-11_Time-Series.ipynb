{
 "cells": [
  {
   "attachments": {},
   "cell_type": "markdown",
   "metadata": {},
   "source": [
    "Anything that is recorded repeatedly at many points in time forms a time series. \n",
    "\n",
    "Many time series are fixed frequency - data points occur at regular intervals according to some rules. \n",
    "\n",
    "How to mark or refer time series data:\n",
    "\n",
    "- Timestamps: specific instants in time\n",
    "- Fixed period: Such as whole month or whole year\n",
    "- Intervals of time: Indicated by a start and end timestamp. Periods can be thought of as special cases of intervals.\n",
    "- Experiment or elapsed time: Each timestamp is a measure if time related to a particular start time. (The index may be an integer or floating-point number indicating elapsed time from the start of the experiment)\n"
   ]
  },
  {
   "cell_type": "code",
   "execution_count": null,
   "metadata": {},
   "outputs": [],
   "source": [
    "import numpy as np\n",
    "import pandas as pd"
   ]
  },
  {
   "attachments": {},
   "cell_type": "markdown",
   "metadata": {},
   "source": [
    "# 11.1 Date and Time Data Types and Tools\n",
    "\n"
   ]
  },
  {
   "cell_type": "code",
   "execution_count": null,
   "metadata": {},
   "outputs": [],
   "source": [
    "from datetime import datetime, timedelta\n",
    "\n",
    "now = datetime.now()\n",
    "now\n",
    "now.year, now.month, now.day\n",
    "\n",
    "# datetime stores both the date and time down to the microsecond. \n",
    "# datetime.timedelta represents the temporal difference between two datetime objects\n",
    "\n",
    "delta = datetime(2011, 1, 7) - datetime(2008, 6, 24, 8, 15)\n",
    "delta\n",
    "delta.days, delta.seconds\n",
    "\n",
    "# Add or substract a timedelta or multipole to a datetime object to yield a new shifted object\n",
    "start = datetime(2011, 1, 7)\n",
    "start + timedelta(12)\n",
    "start - 2 * timedelta(12)"
   ]
  },
  {
   "cell_type": "markdown",
   "metadata": {},
   "source": [
    "## Converting Between String and Datetime"
   ]
  },
  {
   "cell_type": "code",
   "execution_count": null,
   "metadata": {},
   "outputs": [],
   "source": [
    "# Format datetime objects and pandas Timestamp objects as strings using str or strftime method\n",
    "\n",
    "stamp = datetime(2011, 1, 3)\n",
    "str(stamp)\n",
    "stamp.strftime(\"%Y-%m-%d\")\n",
    "\n",
    "# Use same format code convert strings to date\n",
    "value = \"2011-01-03\"\n",
    "\n",
    "# use datetime.strptime to parse a date with a known format\n",
    "datetime.strptime(value, \"%Y-%m-%d\")\n",
    "datestrs = ['7/6/2011', '8/6/2011']\n",
    "[datetime.strptime(x, \"%m/%d/%Y\") for x in datestrs]\n"
   ]
  },
  {
   "attachments": {},
   "cell_type": "markdown",
   "metadata": {},
   "source": [
    "## Pandas datetime object\n",
    "use to_datetime to parse string to date time.\n",
    "datetime objects also have a number of local-specific formatting options for systems in other countries or languages. "
   ]
  },
  {
   "cell_type": "code",
   "execution_count": null,
   "metadata": {},
   "outputs": [],
   "source": [
    "# pandas.to_datetime method parses different kinds of date representations, e.g. ISO8601 formats\n",
    "datestrs = [\"2011-07-06 12:00:00\", \"2011-08-06 00:00:00\"]\n",
    "\n",
    "pd.to_datetime(datestrs)\n",
    "\n",
    "\n",
    "# NaT(Not a Time) is pandas's null value for timestamp data \n",
    "idx = pd.to_datetime(datestrs + [None])\n",
    "idx"
   ]
  },
  {
   "attachments": {},
   "cell_type": "markdown",
   "metadata": {},
   "source": [
    "# 11.2 Time Series Basics\n",
    "A basic kind of time series object in pandas is a Series indexed by timestamps, which is often represented outside of pandas as Python strings or datetime objects"
   ]
  },
  {
   "cell_type": "code",
   "execution_count": null,
   "metadata": {},
   "outputs": [],
   "source": [
    "dates = [\n",
    "    datetime(2011, 1, 2),\n",
    "    datetime(2011, 1, 5),\n",
    "    datetime(2011, 1, 7),\n",
    "    datetime(2011, 1, 8),\n",
    "    datetime(2011, 1, 10),\n",
    "    datetime(2011, 1, 12),\n",
    "]\n",
    "\n",
    "ts = pd.Series(np.random.standard_normal(6), index=dates)\n",
    "\n",
    "ts"
   ]
  },
  {
   "cell_type": "code",
   "execution_count": null,
   "metadata": {},
   "outputs": [],
   "source": [
    "# perform arithmetic operation between differently indexed time series. \n",
    "# [::2] selects every second elements in ts\n",
    "ts + ts[::2]"
   ]
  },
  {
   "cell_type": "code",
   "execution_count": null,
   "metadata": {},
   "outputs": [],
   "source": [
    "# Find the index data type\n",
    "ts.index.dtype"
   ]
  },
  {
   "cell_type": "code",
   "execution_count": null,
   "metadata": {},
   "outputs": [],
   "source": [
    "ts.index"
   ]
  },
  {
   "cell_type": "code",
   "execution_count": null,
   "metadata": {},
   "outputs": [],
   "source": [
    "# scalar values from a datetimeIndex are pandas timestamp objects\n",
    "\n",
    "stamp = ts.index[0]\n",
    "stamp"
   ]
  },
  {
   "attachments": {},
   "cell_type": "markdown",
   "metadata": {},
   "source": [
    "A pandas.Timestamp can be substituted most places where your would use a datetime object. But reverse it not true.\n",
    "pandas.Timestamp can store nano seconds and frequency information, where datetime object cannot. "
   ]
  },
  {
   "cell_type": "code",
   "execution_count": null,
   "metadata": {},
   "outputs": [],
   "source": []
  }
 ],
 "metadata": {
  "kernelspec": {
   "display_name": "Python 3",
   "language": "python",
   "name": "python3"
  },
  "language_info": {
   "codemirror_mode": {
    "name": "ipython",
    "version": 3
   },
   "file_extension": ".py",
   "mimetype": "text/x-python",
   "name": "python",
   "nbconvert_exporter": "python",
   "pygments_lexer": "ipython3",
   "version": "3.10.6"
  },
  "orig_nbformat": 4,
  "vscode": {
   "interpreter": {
    "hash": "31f2aee4e71d21fbe5cf8b01ff0e069b9275f58929596ceb00d14d90e3e16cd6"
   }
  }
 },
 "nbformat": 4,
 "nbformat_minor": 2
}
