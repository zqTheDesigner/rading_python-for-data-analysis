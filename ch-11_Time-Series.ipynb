{
 "cells": [
  {
   "attachments": {},
   "cell_type": "markdown",
   "metadata": {},
   "source": [
    "Anything that is recorded repeatedly at many points in time forms a time series. \n",
    "\n",
    "Many time series are fixed frequency - data points occur at regular intervals acroading to some rules. \n",
    "\n"
   ]
  }
 ],
 "metadata": {
  "language_info": {
   "name": "python"
  },
  "orig_nbformat": 4
 },
 "nbformat": 4,
 "nbformat_minor": 2
}
