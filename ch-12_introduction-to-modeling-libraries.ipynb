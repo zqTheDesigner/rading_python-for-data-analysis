{
 "cells": [
  {
   "attachments": {},
   "cell_type": "markdown",
   "metadata": {},
   "source": [
    "# 12.1 Interfacing between pandas and Model Code\n",
    "\n",
    "A common workflow for model development is to use pandas for data loading and cleaning before switching over to a modeling library to buildthe model itself. \n",
    "\n",
    "Feature engineering\n",
    "Any data transformation or analytics that extract information from a raw data set that may be useful in a modeling context. \n",
    "Data aggregation and GroupBy tools are often used in feature engineering context. \n"
   ]
  },
  {
   "cell_type": "code",
   "execution_count": null,
   "metadata": {},
   "outputs": [],
   "source": [
    "import pandas as pd\n",
    "import numpy as np\n",
    "import patsy\n",
    "\n",
    "import statsmodels.api as sm\n",
    "import statsmodels.formula.api as smf\n"
   ]
  },
  {
   "cell_type": "code",
   "execution_count": null,
   "metadata": {},
   "outputs": [],
   "source": [
    "# Turn a DataFrame to a NumPy array\n",
    "data = pd.DataFrame({\n",
    "\t'x0': [1, 2, 3, 4, 5],\n",
    "\t'x1': [0.01, -0.01, 0.25, -4.1, 0.],\n",
    "\t'y': [-1.5, 0., 3.6, 1.3, -2.]\n",
    "})\n",
    "\n",
    "data.to_numpy()\n",
    "\n",
    "# To convert dataframe back to NumPy Array\n",
    "df2 = pd.DataFrame(data.to_numpy(), columns=['one', 'two', 'three'])\n",
    "\n",
    "df2\n",
    "\n",
    "# heterpgeneous data will be converted an ndarray of Python Objects\n",
    "df3 = data.copy()\n",
    "df3['strings'] = ['a', 'b', 'c', 'd', 'e']\n",
    "\n",
    "df3.to_numpy()\n",
    "\n",
    "# to select subset of columns, use loc\n",
    "model_cols = ['x0', 'x1']\n",
    "\n",
    "data.loc[:, model_cols].to_numpy()\n",
    "\n",
    "# Create a categorical column\n",
    "data['category'] = pd.Categorical(['a', 'b', 'a', 'a', 'b'], categories=['a', 'b'])\n",
    "\n",
    "# Replace the 'category' column with dummy variables\n",
    "dummies = pd.get_dummies(data.category, prefix='category')\n",
    "\n",
    "data_with_dummies = data.drop('category', axis=1).join(dummies)\n",
    "\n",
    "data_with_dummies"
   ]
  },
  {
   "attachments": {},
   "cell_type": "markdown",
   "metadata": {},
   "source": [
    "# 12.2 Creating Model Descriptions with Patsy\n",
    "\n",
    "A python library for describing statistical models (especially linear models) with a string-based 'formula syntax'.\n",
    "\n",
    "`y ~ x0 + x1`\n",
    "\n",
    "a + b means terms in the design matrix created for the model\n",
    "\n",
    "patsy.dematrices function takes a formula string along with a dataset, produce design matrices for a linear model"
   ]
  },
  {
   "cell_type": "code",
   "execution_count": null,
   "metadata": {},
   "outputs": [],
   "source": [
    "data = pd.DataFrame({\n",
    "\t'x0': [1, 2, 3, 4, 5],\n",
    "\t'x1': [0.01, -0.01, 0.25, -4.1, 0],\n",
    "\t'y': [-1.5, 0., 3.6, 1.3, -2.]\n",
    "})\n",
    "\n",
    "data\n",
    "y, X = patsy.dmatrices('y ~ x0 + x1', data)\n",
    "\n",
    "y\n",
    "\n"
   ]
  },
  {
   "cell_type": "code",
   "execution_count": null,
   "metadata": {},
   "outputs": [],
   "source": [
    "X"
   ]
  },
  {
   "attachments": {},
   "cell_type": "markdown",
   "metadata": {},
   "source": [
    "Patsy DesignMatrix instance are NumPy ndarrays with additional metadata\n",
    "\n",
    "The Patsy objects can be passed directly in to algorithms like numpy.linalg.lstsq"
   ]
  },
  {
   "cell_type": "code",
   "execution_count": null,
   "metadata": {},
   "outputs": [],
   "source": [
    "coef, resid, _, _ = np.linalg.lstsq(X, y)"
   ]
  },
  {
   "cell_type": "code",
   "execution_count": null,
   "metadata": {},
   "outputs": [],
   "source": [
    "coef"
   ]
  },
  {
   "cell_type": "code",
   "execution_count": null,
   "metadata": {},
   "outputs": [],
   "source": [
    "# The model metadata is retained in the design_info attribute. Can reattach the model column names to the fitted coefficients to obtain a Series\n",
    "coef = pd.Series(coef.squeeze(), index=X.design_info.column_names)"
   ]
  },
  {
   "attachments": {},
   "cell_type": "markdown",
   "metadata": {},
   "source": [
    "## Data Transformations in Patsy Formulas\n",
    "\n",
    "Mix Python code into Patsy formulas, the library will try to find the functions in the enclusing scope"
   ]
  },
  {
   "cell_type": "code",
   "execution_count": null,
   "metadata": {},
   "outputs": [],
   "source": [
    "y, X = patsy.dmatrices('y ~ x0 + np.log(np.abs(x1) + 1)', data)"
   ]
  },
  {
   "cell_type": "code",
   "execution_count": null,
   "metadata": {},
   "outputs": [],
   "source": [
    "X"
   ]
  },
  {
   "attachments": {},
   "cell_type": "markdown",
   "metadata": {},
   "source": [
    "Commonly used variable transformations include standardizing (to mean 0 and variance 1) and Centering (subtracting the mean)"
   ]
  },
  {
   "cell_type": "code",
   "execution_count": null,
   "metadata": {},
   "outputs": [],
   "source": [
    "y, X = patsy.dmatrices('y ~ standardize(x0) + center(x1)', data)\n",
    "\n",
    "X"
   ]
  },
  {
   "attachments": {},
   "cell_type": "markdown",
   "metadata": {},
   "source": [
    "As part of modeling process, you may fit a model on one dataset, then evaluate the model based on another. \n",
    "When applying transformations like center and standardize, be careful when using the model to form predictions based on new data.\n",
    "\n",
    "Stateful transformations, must use statistics like the mean of standard deviation or the original dataset when transforming a new dataset."
   ]
  },
  {
   "cell_type": "code",
   "execution_count": null,
   "metadata": {},
   "outputs": [],
   "source": [
    "new_data = pd.DataFrame({\n",
    "\t'x0': [6, 7, 8, 9],\n",
    "\t'x1': [3.1, -0.5, 0, 2.3],\n",
    "\t'y' : [1, 2, 3, 4]\n",
    "})\n",
    "\n",
    "new_X = patsy.build_design_matrices([X.design_info], new_data)"
   ]
  },
  {
   "cell_type": "code",
   "execution_count": null,
   "metadata": {},
   "outputs": [],
   "source": [
    "new_X"
   ]
  },
  {
   "cell_type": "code",
   "execution_count": null,
   "metadata": {},
   "outputs": [],
   "source": [
    "# use special I function to wrap addition operation\n",
    "# since + symbol doesn't mean adding\n",
    "y, X = patsy.dmatrices('y ~ I(x0 + x1)', data)\n",
    "\n",
    "X"
   ]
  },
  {
   "cell_type": "code",
   "execution_count": null,
   "metadata": {},
   "outputs": [],
   "source": [
    "data"
   ]
  },
  {
   "attachments": {},
   "cell_type": "markdown",
   "metadata": {},
   "source": [
    "## Categorical Data and Patsy\n",
    "When you use nonnumeric terms in a Patsy formula, they are converted to dummy variables by default. "
   ]
  },
  {
   "cell_type": "code",
   "execution_count": null,
   "metadata": {},
   "outputs": [],
   "source": [
    "data = pd.DataFrame({\n",
    "\t'key1': ['a', 'b', 'b', 'b', 'a', 'b', 'a', 'b'],\n",
    "\t'key2': [0, 1, 0, 1, 0, 1, 0, 0],\n",
    "\t'v1' : [1, 2, 3, 4, 5, 6, 7, 8],\n",
    "\t'v2': [-1., 0, 2.5, -0.5, 4.0, -1.2, 0.2, -1.7]\n",
    "})\n",
    "\n",
    "y,X = patsy.dmatrices('v2 ~ key1', data)"
   ]
  },
  {
   "cell_type": "code",
   "execution_count": null,
   "metadata": {},
   "outputs": [],
   "source": [
    "X"
   ]
  },
  {
   "cell_type": "code",
   "execution_count": null,
   "metadata": {},
   "outputs": [],
   "source": [
    "# If omit the intercept from the model, columns for each category value will be included in the model design matrix\n",
    "# the +0 part will omit the intercept\n",
    "y, X = patsy.dmatrices('v2 ~ key1 + 0', data)\n",
    "X"
   ]
  },
  {
   "cell_type": "code",
   "execution_count": null,
   "metadata": {},
   "outputs": [],
   "source": [
    "# Numeric columns can be interpreted as categorical with the C function\n",
    "y, X = patsy.dmatrices('v2 ~ C(key2)', data)\n",
    "\n",
    "X"
   ]
  },
  {
   "cell_type": "code",
   "execution_count": null,
   "metadata": {},
   "outputs": [],
   "source": [
    "# When using multiple categorical terms in a model \n",
    "\n",
    "data['key2'] = data['key2'].map({0: 'zero', 1:'one'})\n",
    "\n",
    "data"
   ]
  },
  {
   "cell_type": "code",
   "execution_count": null,
   "metadata": {},
   "outputs": [],
   "source": [
    "y, X = patsy.dmatrices('v2 ~ key1 + key2', data)"
   ]
  },
  {
   "cell_type": "code",
   "execution_count": null,
   "metadata": {},
   "outputs": [],
   "source": [
    "X"
   ]
  },
  {
   "cell_type": "code",
   "execution_count": null,
   "metadata": {},
   "outputs": [],
   "source": [
    "y, X = patsy.dmatrices('v2 ~ key1 + key2 + key1:key2', data)"
   ]
  },
  {
   "cell_type": "code",
   "execution_count": null,
   "metadata": {},
   "outputs": [],
   "source": [
    "X"
   ]
  },
  {
   "attachments": {},
   "cell_type": "markdown",
   "metadata": {},
   "source": [
    "# 12.3 Introduction to statsmodels\n",
    "statsmodels is a Python library for fitting many kinds of statistical models, performaing statistical tests and data exploration and visualization.\n",
    "\n",
    "Some kinds of models found in statsmodels:\n",
    "- Linear models, generalized linear models and robust linear models\n",
    "- Linear mixed effects models\n",
    "- Analysis of variance (ANOVA) methods\n",
    "- Time series processes and state space models\n",
    "- Generalized methods of moments\n",
    "\n",
    "Use the modeling interfaces with Patsy formulas and pandas DataFrame objects"
   ]
  },
  {
   "attachments": {},
   "cell_type": "markdown",
   "metadata": {},
   "source": [
    "## Estimating Linear Models\n"
   ]
  },
  {
   "cell_type": "code",
   "execution_count": null,
   "metadata": {},
   "outputs": [],
   "source": [
    "# To make the example reproducible\n",
    "rng = np.random.default_rng(seed=12345)\n",
    "\n",
    "# helper function for generating normally distributed data with a particular mean and variance\n",
    "def dnorm(mean, variance, size= 1):\n",
    "\tif isinstance(size, int):\n",
    "\t\tsize = size,\n",
    "\treturn mean + np.sqrt(variance) * rng.standard_normal(*size)\n",
    "\n",
    "N = 100\n",
    "\n",
    "X = np.c_[\n",
    "\tdnorm(0, 0.4, size=N),\n",
    "\tdnorm(0, 0.6, size=N),\n",
    "\tdnorm(0, 0.2, size=N)\n",
    "]\n",
    "\n",
    "eps = dnorm(0, 0.1, size=N)\n",
    "\n",
    "# 'true' model\n",
    "beta = [0.1, 0.3, 0.5]\n",
    "\n",
    "y = np.dot(X, beta) + eps"
   ]
  },
  {
   "cell_type": "code",
   "execution_count": null,
   "metadata": {},
   "outputs": [],
   "source": [
    "X[:5]"
   ]
  },
  {
   "cell_type": "code",
   "execution_count": null,
   "metadata": {},
   "outputs": [],
   "source": [
    "y[:5]"
   ]
  },
  {
   "cell_type": "code",
   "execution_count": null,
   "metadata": {},
   "outputs": [],
   "source": [
    "# A linear model is generally fitted with an intercept term\n",
    "# use sm.add_constant function to add an intercept column"
   ]
  },
  {
   "cell_type": "code",
   "execution_count": null,
   "metadata": {},
   "outputs": [],
   "source": [
    "X_model = sm.add_constant(X)\n",
    "X_model[:5]"
   ]
  },
  {
   "cell_type": "code",
   "execution_count": null,
   "metadata": {},
   "outputs": [],
   "source": [
    "# fit an ordinary least square linear regression\n",
    "model = sm.OLS(y, X)\n",
    "results = model.fit()"
   ]
  },
  {
   "cell_type": "code",
   "execution_count": null,
   "metadata": {},
   "outputs": [],
   "source": [
    "results.params"
   ]
  },
  {
   "cell_type": "code",
   "execution_count": null,
   "metadata": {},
   "outputs": [],
   "source": [
    "# Print a model detailing dignostic output of the model\n",
    "print(results.summary())"
   ]
  },
  {
   "cell_type": "code",
   "execution_count": null,
   "metadata": {},
   "outputs": [],
   "source": [
    "data = pd.DataFrame(X, columns=['col0', 'col1', 'col2'])\n",
    "\n",
    "data['y'] = y\n",
    "\n",
    "results = smf.ols('y ~ col0 + col1 + col2', data=data).fit()"
   ]
  },
  {
   "cell_type": "code",
   "execution_count": null,
   "metadata": {},
   "outputs": [],
   "source": [
    "results.params"
   ]
  },
  {
   "cell_type": "code",
   "execution_count": null,
   "metadata": {},
   "outputs": [],
   "source": [
    "results.tvalues"
   ]
  },
  {
   "cell_type": "code",
   "execution_count": null,
   "metadata": {},
   "outputs": [],
   "source": [
    "# Compute the predicted values given the estimated model parameters\n",
    "results.predict(data[:5])"
   ]
  }
 ],
 "metadata": {
  "kernelspec": {
   "display_name": "env",
   "language": "python",
   "name": "python3"
  },
  "language_info": {
   "codemirror_mode": {
    "name": "ipython",
    "version": 3
   },
   "file_extension": ".py",
   "mimetype": "text/x-python",
   "name": "python",
   "nbconvert_exporter": "python",
   "pygments_lexer": "ipython3",
   "version": "3.10.6"
  },
  "orig_nbformat": 4,
  "vscode": {
   "interpreter": {
    "hash": "db103a864d90754ea6859861b49c97228243503a9f70d5acb5594bb386424408"
   }
  }
 },
 "nbformat": 4,
 "nbformat_minor": 2
}
