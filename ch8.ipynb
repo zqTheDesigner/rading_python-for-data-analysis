{
 "cells": [
  {
   "attachments": {},
   "cell_type": "markdown",
   "metadata": {},
   "source": [
    "# Data Wrangling: Join, Combine and Reshape\n",
    "\n",
    "When data be spread across a number of files or datasets\n",
    "\n",
    "Hierarchical indexing\n",
    "Have multiple index levels on an axis\n",
    "\n",
    "Work with higher dimensional data in a lower dimensional form\n"
   ]
  },
  {
   "cell_type": "code",
   "execution_count": null,
   "metadata": {},
   "outputs": [],
   "source": [
    "import pandas as pd\n",
    "import numpy as np\n"
   ]
  },
  {
   "cell_type": "code",
   "execution_count": null,
   "metadata": {},
   "outputs": [],
   "source": [
    "data = pd.Series(\n",
    "    np.random.uniform(size=9),\n",
    "    index=[[\"a\", \"a\", \"a\", \"b\", \"b\", \"c\", \"c\", \"d\", \"d\"], [1, 2, 3, 1, 3, 1, 2, 2, 3]],\n",
    ")\n",
    "\n",
    "data\n"
   ]
  },
  {
   "cell_type": "code",
   "execution_count": null,
   "metadata": {},
   "outputs": [],
   "source": [
    "# A Series with MultiIndex\n",
    "data.index\n"
   ]
  },
  {
   "cell_type": "code",
   "execution_count": null,
   "metadata": {},
   "outputs": [],
   "source": [
    "# Partial indexing\n",
    "data[\"b\"]\n"
   ]
  },
  {
   "cell_type": "code",
   "execution_count": null,
   "metadata": {},
   "outputs": [],
   "source": [
    "data[\"b\":\"c\"]\n"
   ]
  },
  {
   "cell_type": "code",
   "execution_count": null,
   "metadata": {},
   "outputs": [],
   "source": [
    "# Selection from \"inner level\", select all of the values that contains value 2 from the second index level\n",
    "data.loc[:, 2]\n"
   ]
  },
  {
   "cell_type": "code",
   "execution_count": null,
   "metadata": {},
   "outputs": [],
   "source": [
    "data.unstack()\n"
   ]
  },
  {
   "cell_type": "code",
   "execution_count": null,
   "metadata": {},
   "outputs": [],
   "source": [
    "data.unstack().stack()\n"
   ]
  },
  {
   "cell_type": "code",
   "execution_count": null,
   "metadata": {},
   "outputs": [],
   "source": [
    "# Either axis can have a hierarchical index\n",
    "# Each index element have to have the same shape as the row or column\n",
    "# Repeated index will be categorized\n",
    "frame = pd.DataFrame(\n",
    "    np.arange(12).reshape((4, 3)),\n",
    "    index=[[\"a\", \"a\", \"b\", \"b\"], [1, 2, 1, 2]],\n",
    "    columns=[[\"Ohio\", \"Ohio\", \"Colorado\"], [\"Green\", \"Red\", \"Green\"]],\n",
    ")\n"
   ]
  },
  {
   "cell_type": "code",
   "execution_count": null,
   "metadata": {},
   "outputs": [],
   "source": [
    "frame.index.names = [\"key1\", \"key2\"]\n",
    "frame.columns.names = [\"state\", \"color\"]\n"
   ]
  },
  {
   "cell_type": "code",
   "execution_count": null,
   "metadata": {},
   "outputs": [],
   "source": [
    "frame\n"
   ]
  },
  {
   "cell_type": "code",
   "execution_count": null,
   "metadata": {},
   "outputs": [],
   "source": [
    "# See how many levels an index has\n",
    "frame.index.nlevels\n"
   ]
  },
  {
   "cell_type": "code",
   "execution_count": null,
   "metadata": {},
   "outputs": [],
   "source": [
    "frame[\"Ohio\"]\n"
   ]
  },
  {
   "cell_type": "code",
   "execution_count": null,
   "metadata": {},
   "outputs": [],
   "source": [
    "# A MultiIndex can be created by itself, then reused.\n",
    "pd.MultiIndex.from_arrays(\n",
    "    [[\"Ohio\", \"Ohio\", \"Colorado\"], [\"Green\", \"Red\", \"Green\"]], names=[\"state\", \"color\"]\n",
    ")\n"
   ]
  },
  {
   "attachments": {},
   "cell_type": "markdown",
   "metadata": {},
   "source": [
    "### Reordering and sorting levels\n",
    "\n",
    "Rearrange the order of the levels on the axis or sort the data by the values in one specific level.\n",
    "\n",
    "Use the `swaplevel` method\n",
    "Takes two level numbers or names and returns a new object with the levels interchanged\n"
   ]
  },
  {
   "cell_type": "code",
   "execution_count": null,
   "metadata": {},
   "outputs": [],
   "source": [
    "frame.swaplevel(0, 1).sort_index(level=0)\n"
   ]
  },
  {
   "cell_type": "code",
   "execution_count": null,
   "metadata": {},
   "outputs": [],
   "source": [
    "frame.groupby(level=\"key2\").sum()\n"
   ]
  },
  {
   "cell_type": "code",
   "execution_count": null,
   "metadata": {},
   "outputs": [],
   "source": [
    "frame.sum(axis=\"columns\")\n"
   ]
  },
  {
   "cell_type": "code",
   "execution_count": null,
   "metadata": {},
   "outputs": [],
   "source": [
    "# Indexing with a DataFrame's columns\n",
    "# Use one or more columns from a DataFrame as the row index, or move row index in to the DataFrame's columns\n",
    "\n",
    "frame = pd.DataFrame(\n",
    "    {\n",
    "        \"a\": range(7),\n",
    "        \"b\": range(7, 0, -1),\n",
    "        \"c\": [\"one\", \"one\", \"one\", \"one\", \"two\", \"two\", \"two\"],\n",
    "        \"d\": [1, 2, 3, 0, 1, 2, 3],\n",
    "    }\n",
    ")\n"
   ]
  },
  {
   "cell_type": "code",
   "execution_count": null,
   "metadata": {},
   "outputs": [],
   "source": [
    "frame2 = frame.set_index([\"c\", \"d\"])\n"
   ]
  },
  {
   "cell_type": "code",
   "execution_count": null,
   "metadata": {},
   "outputs": [],
   "source": [
    "# By default, columns are removed from the DataFrame, use drop=False to keep the index\n",
    "frame2 = frame.set_index([\"c\", \"d\"], drop=False)\n"
   ]
  },
  {
   "cell_type": "code",
   "execution_count": null,
   "metadata": {},
   "outputs": [],
   "source": [
    "# Does the opposite to the set_index, hierarchical index levels are moved into the columns\n",
    "frame2.reset_index()\n"
   ]
  },
  {
   "attachments": {},
   "cell_type": "markdown",
   "metadata": {},
   "source": [
    "## 8.2 Combining and Merging Datasets\n",
    "\n",
    "### pandas.merge\n",
    "\n",
    "Connect rows in DataFrames based on one or more keys\n",
    "\n",
    "Many-to-Many merge forms the Cartesian product of the matching keys.\n",
    "All possible ordered paris will be combined\n",
    "\n",
    "### pandas.concat\n",
    "\n",
    "Concatenate or \"stack\" objects together along an axis\n",
    "\n",
    "### combine_first\n",
    "\n",
    "Splice overlapping data to fill in missing values in one object wit valyes from another\n"
   ]
  },
  {
   "cell_type": "code",
   "execution_count": null,
   "metadata": {},
   "outputs": [],
   "source": [
    "df1 = pd.DataFrame(\n",
    "    {\n",
    "        \"key\": [\"b\", \"b\", \"a\", \"c\", \"a\", \"a\", \"b\"],\n",
    "        \"data1\": pd.Series(range(7), dtype=\"int64\"),\n",
    "    }\n",
    ")\n",
    "\n",
    "df2 = pd.DataFrame(\n",
    "    {\n",
    "        \"key\": [\"a\", \"b\", \"d\", \"b\"],\n",
    "        \"data2\": pd.Series(range(4), dtype=\"int64\"),\n",
    "    }\n",
    ")\n",
    "\n",
    "# Take df1, find items that is common between df1 and df2\n",
    "# the unique element in both df will be dropped\n",
    "# the overlapped element in both column will be added to new column\n",
    "pd.merge(df1, df2, on=\"key\")\n"
   ]
  },
  {
   "cell_type": "code",
   "execution_count": null,
   "metadata": {},
   "outputs": [],
   "source": [
    "# Left , right, outer to decide if want to keep the missing values\n",
    "pd.merge(df1, df2, on=\"key\", how=\"outer\")\n"
   ]
  },
  {
   "cell_type": "code",
   "execution_count": null,
   "metadata": {},
   "outputs": [],
   "source": [
    "left = pd.DataFrame(\n",
    "    {\n",
    "        \"key1\": [\"foo\", \"foo\", \"bar\"],\n",
    "        \"key2\": [\"one\", \"two\", \"one\"],\n",
    "        \"lval\": pd.Series([1, 2, 3], dtype=\"Int64\"),\n",
    "    }\n",
    ")\n",
    "\n",
    "right = pd.DataFrame(\n",
    "    {\n",
    "        \"key1\": [\"foo\", \"foo\", \"bar\", \"bar\"],\n",
    "        \"key2\": [\"one\", \"one\", \"one\", \"two\"],\n",
    "        \"rval\": pd.Series([4, 5, 6, 7], dtype=\"Int64\"),\n",
    "    }\n",
    ")\n",
    "\n",
    "pd.merge(left, right, on=[\"key1\", \"key2\"], how=\"outer\")\n"
   ]
  },
  {
   "cell_type": "code",
   "execution_count": null,
   "metadata": {},
   "outputs": [],
   "source": [
    "# Treatment of overlapping column names\n",
    "# because both dataframe contains the \"key2\" column name\n",
    "pd.merge(left, right, on=[\"key1\"])\n",
    "\n",
    "# Use suffixes to customize the overlapped column name\n",
    "pd.merge(left, right, on=[\"key1\"], suffixes=(\"_left\", \"_right\"))\n"
   ]
  },
  {
   "attachments": {},
   "cell_type": "markdown",
   "metadata": {},
   "source": [
    "### Merging on index\n",
    "\n",
    "Pass `left_index=True` or `right_index=True` to indicate that the index should be used as the merge key.\n"
   ]
  },
  {
   "cell_type": "code",
   "execution_count": null,
   "metadata": {},
   "outputs": [],
   "source": [
    "left1 = pd.DataFrame(\n",
    "    {\"key\": [\"a\", \"b\", \"a\", \"a\", \"b\", \"c\"], \"value\": pd.Series(range(6), dtype=\"int64\")}\n",
    ")\n",
    "\n",
    "right1 = pd.DataFrame({\"group_val\": [3.5, 7]}, index=[\"a\", \"b\"])\n",
    "\n",
    "pd.merge(left1, right1, left_on=\"key\", right_index=True, how=\"outer\")\n"
   ]
  },
  {
   "cell_type": "code",
   "execution_count": null,
   "metadata": {},
   "outputs": [],
   "source": [
    "# Joining with hierarchically indexed data\n",
    "lefth = pd.DataFrame(\n",
    "    {\n",
    "        \"key1\": [\"Ohio\", \"Ohio\", \"Ohio\", \"Nevada\", \"Nevada\"],\n",
    "        \"key2\": [2000, 2001, 2002, 2001, 2002],\n",
    "        \"data\": pd.Series(range(5), dtype=\"Int64\"),\n",
    "    }\n",
    ")\n",
    "\n",
    "righth_index = pd.MultiIndex.from_arrays(\n",
    "    [\n",
    "        [\"Nevada\", \"Nevada\", \"Ohio\", \"Ohio\", \"Ohio\", \"Ohio\"],\n",
    "        [2001, 2000, 2000, 2000, 2001, 2002],\n",
    "    ]\n",
    ")\n",
    "\n",
    "righth = pd.DataFrame(\n",
    "    {\n",
    "        \"event1\": pd.Series([0, 2, 4, 6, 8, 10], dtype=\"Int64\", index=righth_index),\n",
    "        \"event2\": pd.Series([1, 3, 5, 7, 9, 11], dtype=\"Int64\", index=righth_index),\n",
    "    }\n",
    ")\n",
    "\n",
    "pd.merge(lefth, righth, left_on=[\"key1\", \"key2\"], right_index=True, how=\"outer\")\n"
   ]
  },
  {
   "cell_type": "code",
   "execution_count": null,
   "metadata": {},
   "outputs": [],
   "source": [
    "left2 = pd.DataFrame(\n",
    "    [[1.0, 2.0], [3.0, 4.0], [5.0, 6.0]],\n",
    "    index=[\"a\", \"c\", \"e\"],\n",
    "    columns=[\"Ohio\", \"Necada\"],\n",
    ").astype(\"Int64\")\n",
    "\n",
    "right2 = pd.DataFrame(\n",
    "    [[7.0, 8.0], [9.0, 10.0], [11.0, 12.0], [13.0, 14.0]],\n",
    "    index=[\"b\", \"c\", \"d\", \"e\"],\n",
    "    columns=[\"Mussouri\", \"Alabama\"],\n",
    ").astype(\"Int64\")\n",
    "\n",
    "pd.merge(left2, right2, how=\"outer\", left_index=True, right_index=True)\n",
    "# Same as using DataFramels join method\n",
    "left2.join(right2, how=\"outer\")\n"
   ]
  },
  {
   "attachments": {},
   "cell_type": "markdown",
   "metadata": {},
   "source": [
    "## Concatenating Along an Axis\n",
    "\n",
    "Concatenation or stacking.\n"
   ]
  },
  {
   "cell_type": "code",
   "execution_count": null,
   "metadata": {},
   "outputs": [],
   "source": [
    "arr = np.arange(12).reshape((3, 4))\n",
    "np.concatenate([arr, arr], axis=0)\n"
   ]
  },
  {
   "cell_type": "code",
   "execution_count": null,
   "metadata": {},
   "outputs": [],
   "source": [
    "s1 = pd.Series([0, 1], index=[\"a\", \"b\"], dtype=\"Int64\")\n",
    "s2 = pd.Series([2, 3, 4], index=[\"c\", \"d\", \"e\"], dtype=\"Int64\")\n",
    "s3 = pd.Series([5, 6], index=[\"f\", \"g\"], dtype=\"Int64\")\n"
   ]
  },
  {
   "cell_type": "code",
   "execution_count": null,
   "metadata": {},
   "outputs": [],
   "source": [
    "# By default, cerateing another series, vertically stack\n",
    "pd.concat([s1, s2, s3], axis=\"index\")\n",
    "\n",
    "# Return a data frame\n",
    "pd.concat([s1, s2, s3], axis=\"columns\")\n",
    "\n",
    "s4 = pd.concat([s1, s3])\n",
    "\n",
    "pd.concat([s1, s4], axis=\"columns\")\n"
   ]
  },
  {
   "cell_type": "code",
   "execution_count": null,
   "metadata": {},
   "outputs": [],
   "source": [
    "# Create a hierarchical index on the concatenation axis\n",
    "result = pd.concat([s1, s2, s3], keys=[\"one\", \"two\", \"three\"])\n"
   ]
  },
  {
   "cell_type": "code",
   "execution_count": null,
   "metadata": {},
   "outputs": [],
   "source": [
    "# When use columns as the axis, the keys become headers\n",
    "result = pd.concat([s1, s2, s3], axis=\"columns\", keys=[\"one\", \"two\", \"three\"])\n"
   ]
  },
  {
   "cell_type": "code",
   "execution_count": null,
   "metadata": {},
   "outputs": [],
   "source": [
    "df1 = pd.DataFrame(\n",
    "    np.arange(6).reshape((3, 2)), index=[\"a\", \"b\", \"c\"], columns=[\"one\", \"two\"]\n",
    ")\n",
    "\n",
    "\n",
    "df2 = pd.DataFrame(\n",
    "    5 + np.arange(4).reshape((2, 2)), index=[\"a\", \"c\"], columns=[\"three\", \"four\"]\n",
    ")\n",
    "\n",
    "# keys argument is used to create a hierarchical index\n",
    "# where the first level can be used to identify each of the concatenated DataFrame objects\n",
    "pd.concat([df1, df2], keys=[\"level1\", \"level2\"], axis=\"columns\")\n",
    "\n",
    "# Can also pass in a dictionary\n",
    "pd.concat({\"level1\": df1, \"level2\": df2}, axis=\"columns\")\n"
   ]
  },
  {
   "cell_type": "code",
   "execution_count": null,
   "metadata": {},
   "outputs": [],
   "source": [
    "pd.merge(df1, df2, left_index=True, right_index=True, how=\"outer\")\n"
   ]
  },
  {
   "cell_type": "code",
   "execution_count": null,
   "metadata": {},
   "outputs": [],
   "source": [
    "# The last consideration concerns FataFrames in which the row index does not contain any relevant data.\n",
    "# So the row index is to be ignored.\n",
    "\n",
    "df1 = pd.DataFrame(np.random.standard_normal((3, 4)), columns=[\"a\", \"b\", \"c\", \"d\"])\n",
    "df2 = pd.DataFrame(np.random.standard_normal((2, 3)), columns=[\"b\", \"d\", \"a\"])\n",
    "\n",
    "# If directly concatenate, the index number will be messed up\n",
    "pd.concat([df1, df2])\n",
    "\n",
    "# to keep a clean index number\n",
    "pd.concat([df1, df2], ignore_index=True)\n"
   ]
  },
  {
   "attachments": {},
   "cell_type": "markdown",
   "metadata": {},
   "source": [
    "## Combining Data with Overlap\n",
    "\n",
    "Two datasets with indexes that overlap in full or in part.\n",
    "An example of NumPy's `where` function, which performs the array-oriented equivalent of an if-else expression.\n"
   ]
  },
  {
   "cell_type": "code",
   "execution_count": null,
   "metadata": {},
   "outputs": [],
   "source": [
    "a = pd.Series([np.nan, 2.5, 0, 3.5, 4.5, np.nan], index=[\"f\", \"e\", \"d\", \"c\", \"b\", \"a\"])\n",
    "\n",
    "b = pd.Series([0, np.nan, 2, np.nan, np.nan, 5], index=[\"a\", \"b\", \"c\", \"d\", \"e\", \"f\"])\n",
    "\n",
    "# Whenever value in a are null, valyes from b are selected\n",
    "# This doesn't check the input label are aligned or not\n",
    "np.where(pd.isna(a), b, a)\n",
    "\n",
    "# to line up values by index, use combine_first method\n",
    "a.combine_first(b)\n"
   ]
  },
  {
   "cell_type": "code",
   "execution_count": null,
   "metadata": {},
   "outputs": [],
   "source": [
    "df1 = pd.DataFrame(\n",
    "    {\"a\": [1, np.nan, 5, np.nan], \"b\": [np.nan, 2, np.nan, 6], \"c\": range(2, 18, 4)}\n",
    ")\n",
    "\n",
    "df2 = pd.DataFrame({\"a\": [5, 4, np.nan, 3, 7], \"b\": [np.nan, 3, 4, 6, 8]})\n",
    "\n",
    "df1.combine_first(df2)\n"
   ]
  },
  {
   "attachments": {},
   "cell_type": "markdown",
   "metadata": {},
   "source": [
    "# 8.3 Reslaping and Pivoting\n",
    "\n",
    "## Reshaping with Hierarchical indexing\n",
    "\n",
    "**stack** \"Rotates\" of pivots from the columns in the data to rows\n",
    "\n",
    "**unstack** Pivots from the rows into the columns\n"
   ]
  },
  {
   "cell_type": "code",
   "execution_count": null,
   "metadata": {},
   "outputs": [],
   "source": [
    "data = pd.DataFrame(\n",
    "    np.arange(6).reshape((2, 3)),\n",
    "    index=pd.Index([\"Ohio\", \"Calorado\"], name=\"state\"),\n",
    "    columns=pd.Index([\"one\", \"two\", \"three\"], name=\"number\"),\n",
    ")\n",
    "\n",
    "data\n"
   ]
  },
  {
   "cell_type": "code",
   "execution_count": null,
   "metadata": {},
   "outputs": [],
   "source": [
    "data.stack()\n"
   ]
  },
  {
   "cell_type": "code",
   "execution_count": null,
   "metadata": {},
   "outputs": [],
   "source": [
    "data.unstack(level=3)\n"
   ]
  },
  {
   "cell_type": "code",
   "execution_count": null,
   "metadata": {},
   "outputs": [],
   "source": [
    "s1 = pd.Series([0, 1, 2, 3], index=[\"a\", \"b\", \"c\", \"d\"], dtype=\"Int64\", name=\"one\")\n",
    "\n",
    "s2 = pd.Series([4, 5, 6], index=[\"c\", \"d\", \"e\"], dtype=\"Int64\", name=\"two\")\n",
    "\n",
    "data2 = pd.concat([s1, s2], keys=[\"one\", \"two\"])\n"
   ]
  },
  {
   "cell_type": "code",
   "execution_count": null,
   "metadata": {},
   "outputs": [],
   "source": [
    "data2.unstack()\n"
   ]
  },
  {
   "cell_type": "code",
   "execution_count": null,
   "metadata": {},
   "outputs": [],
   "source": [
    "pd.merge(s1, s2, left_index=True, right_index=True, how=\"outer\").T\n"
   ]
  },
  {
   "cell_type": "code",
   "execution_count": null,
   "metadata": {},
   "outputs": [],
   "source": [
    "result = data.unstack()\n",
    "\n",
    "df = pd.DataFrame(\n",
    "    {\"left\": result, \"right\": result + 5},\n",
    "    columns=pd.Index([\"left\", \"right\"], name=\"side\"),\n",
    ")\n",
    "\n",
    "df"
   ]
  },
  {
   "cell_type": "code",
   "execution_count": null,
   "metadata": {},
   "outputs": [],
   "source": [
    "df.unstack(level='state').stack(level='side')"
   ]
  },
  {
   "attachments": {},
   "cell_type": "markdown",
   "metadata": {},
   "source": [
    "## Pivoting \"Long\" to \"Wide\" format\n",
    "\n",
    "long or stacked format - individual values are represented by a single row in a table."
   ]
  },
  {
   "cell_type": "code",
   "execution_count": null,
   "metadata": {},
   "outputs": [],
   "source": [
    "data = pd.read_csv(\"./datasets/macrodata.csv\")\n",
    "\n",
    "data = data.loc[:, [\"year\", \"quarter\", \"realgdp\", \"infl\", \"unemp\"]]\n",
    "\n",
    "data.head()\n",
    "\n",
    "# use pandas.PeriodIndex (repersents time intervals)\n",
    "# df.pop will return the column and delete it from dataframe\n",
    "periods = pd.PeriodIndex(\n",
    "    year=data.pop(\"year\"), quarter=data.pop(\"quarter\"), name=\"date\"\n",
    ")\n",
    "\n",
    "periods\n"
   ]
  },
  {
   "cell_type": "code",
   "execution_count": null,
   "metadata": {},
   "outputs": [],
   "source": [
    "data.index = periods.to_timestamp(\"D\")\n"
   ]
  },
  {
   "cell_type": "code",
   "execution_count": null,
   "metadata": {},
   "outputs": [],
   "source": [
    "data = data.reindex(columns=['realgdp', 'infl', 'unemp'])\n",
    "data.columns.name = 'item'"
   ]
  },
  {
   "cell_type": "code",
   "execution_count": null,
   "metadata": {},
   "outputs": [],
   "source": [
    "long_data = (data.stack().reset_index().rename(columns={0: 'value'}))"
   ]
  },
  {
   "cell_type": "code",
   "execution_count": null,
   "metadata": {},
   "outputs": [],
   "source": [
    "pivoted = long_data.pivot(index='date', columns='item', values='value')"
   ]
  },
  {
   "cell_type": "code",
   "execution_count": null,
   "metadata": {},
   "outputs": [],
   "source": [
    "pivoted"
   ]
  },
  {
   "cell_type": "code",
   "execution_count": null,
   "metadata": {},
   "outputs": [],
   "source": [
    "long_data['value2'] = np.random.standard_normal(len(long_data))"
   ]
  },
  {
   "cell_type": "code",
   "execution_count": null,
   "metadata": {},
   "outputs": [],
   "source": [
    "# By omitting the last argument, obtain a DataFrame with hierarchial columns\n",
    "pivoted = long_data.pivot(index='date', columns='item')"
   ]
  },
  {
   "cell_type": "code",
   "execution_count": null,
   "metadata": {},
   "outputs": [],
   "source": [
    "long_data"
   ]
  },
  {
   "cell_type": "code",
   "execution_count": null,
   "metadata": {},
   "outputs": [],
   "source": [
    "unstacked = long_data.set_index(['date', 'item']).unstack(level='item')\n",
    "unstacked"
   ]
  },
  {
   "attachments": {},
   "cell_type": "markdown",
   "metadata": {},
   "source": [
    "## Pivoting \"Wide\" to \"Long\" format\n",
    "In inverse operation of pivot for DataFrames is pandas.melt\n",
    "\n",
    "Merges multiple columns in to one"
   ]
  },
  {
   "cell_type": "code",
   "execution_count": null,
   "metadata": {},
   "outputs": [],
   "source": [
    "df = pd.DataFrame(\n",
    "    {\"key\": [\"foo\", \"bar\", \"baz\"], \"A\": [1, 2, 3], \"B\": [4, 5, 6], \"C\": [7, 8, 9]}\n",
    ")\n",
    "\n",
    "melted = df.melt(id_vars=\"key\")\n",
    "\n",
    "# Use pivot to reshape the data back\n",
    "melted.pivot(index='key', columns='variable', values='value')\n",
    "\n",
    "# Specify the subset of columns to use as value columns\n",
    "# id_vars are group identifiers\n",
    "pd.melt(df, id_vars='key', value_vars=['A', 'B'])"
   ]
  },
  {
   "cell_type": "code",
   "execution_count": null,
   "metadata": {},
   "outputs": [],
   "source": []
  }
 ],
 "metadata": {
  "kernelspec": {
   "display_name": "Python 3",
   "language": "python",
   "name": "python3"
  },
  "language_info": {
   "codemirror_mode": {
    "name": "ipython",
    "version": 3
   },
   "file_extension": ".py",
   "mimetype": "text/x-python",
   "name": "python",
   "nbconvert_exporter": "python",
   "pygments_lexer": "ipython3",
   "version": "3.10.6 (main, Nov 14 2022, 16:10:14) [GCC 11.3.0]"
  },
  "orig_nbformat": 4,
  "vscode": {
   "interpreter": {
    "hash": "31f2aee4e71d21fbe5cf8b01ff0e069b9275f58929596ceb00d14d90e3e16cd6"
   }
  }
 },
 "nbformat": 4,
 "nbformat_minor": 2
}
