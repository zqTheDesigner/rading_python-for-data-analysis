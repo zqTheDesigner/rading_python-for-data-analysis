{
 "cells": [
  {
   "attachments": {},
   "cell_type": "markdown",
   "metadata": {},
   "source": [
    "# Data Loading, Storage, and File Formats\n",
    "Reading data and making it accessable - data loading. \n",
    "\n",
    "## 6.1 Reading and Writing data in Text Format\n"
   ]
  },
  {
   "cell_type": "code",
   "execution_count": 31,
   "metadata": {},
   "outputs": [],
   "source": [
    "import pandas as pd\n",
    "import numpy as np"
   ]
  },
  {
   "cell_type": "code",
   "execution_count": 14,
   "metadata": {},
   "outputs": [],
   "source": [
    "# Use names to assign default column names\n",
    "# df = pd.read_csv('./datasets/ex1.csv', names=['a', 'b', 'c', 'd', 'message'])\n",
    "\n",
    "# header=None will ignore headers and use number to represent the column index\n",
    "# df = pd.read_csv('./datasets/ex1.csv', header=None)\n",
    "\n",
    "# Select one of the column as index label \n",
    "df=pd.read_csv('./datasets/ex1.csv', index_col=\"message\")\n",
    "\n",
    "# Hierarchical index\n",
    "# df = pd.read_csv(\"./datasets/csv_mindex.csv\", index_col=[\"key1\", \"key2\"])\n",
    "\n",
    "# If a table not have a fixed delimiter (example is a txt file, saperated by one or multiple white space)\n",
    "# Can also be read as csv\n",
    "# result = pd.read_csv(\"examples/ex3.txt\", sep=\"\\s+\")\n",
    "\n",
    "# If there are rows in the csv file that need to be skipped\n",
    "# pd.read_csv(\"./datasets/ex1.csv\", skiprows=[0, 2, 3])\n",
    "\n",
    "\n",
    "\n"
   ]
  },
  {
   "cell_type": "code",
   "execution_count": null,
   "metadata": {},
   "outputs": [],
   "source": [
    "# Keep_default=False - don't auto convert to NA value, only convert nan valye based on the na_values\n",
    "#pd.read_csv(\"some-file\", keep_default=False, na_values=[\"NA\"])\n",
    "\n",
    "# For \"message\" column, foo and na will be converted to NaN, on \"something\" column, \"two\" will be converted to NaN\n",
    "sentinels = {\"message\": [\"foo\", \"na\"], \"something\":[\"two\"]}\n",
    "#pd.read_csv(\"some-example\", na_values=sentinels, keep_default_na=False)\n",
    "\n"
   ]
  },
  {
   "attachments": {},
   "cell_type": "markdown",
   "metadata": {},
   "source": [
    "### Some pandas.read_csv function arguments\n",
    "| Argument | Description |\n",
    "|-|-| \n",
    "| path | String indicating file system location |\n",
    "| sep or delimiter | character sequence used to split fields in each row |\n",
    "| header | Row number to use as column names, default is 0 |\n",
    "| index_col | Column numbers or names to use as the row index |\n",
    "| names | list of column names for result |\n",
    "| skiprows | number of rows at beginning of file to ignore or list of row numbers to skip |\n",
    "| na_values | Sequence of values to replace with NA. |\n",
    "| keep_default_na | whether to use the default NA value list or not |\n",
    "| comment | characters to split comments off the end of lines |\n",
    "| nrows | Number of rows to read from beginning of file |\n",
    "\n"
   ]
  },
  {
   "cell_type": "code",
   "execution_count": 30,
   "metadata": {},
   "outputs": [
    {
     "name": "stdout",
     "output_type": "stream",
     "text": [
      "   a   b   c   d message\n",
      "0  1   2   3   4   hello\n",
      "1  5   6   7   8   world\n",
      "2  9  10  11  12     foo\n"
     ]
    }
   ],
   "source": [
    "chunker = pd.read_csv(\"./datasets/ex1.csv\", chunksize=1000)\n",
    "\n",
    "tot = pd.Series([], dtype=\"int64\")\n",
    "# for piece in chunker:\n",
    "# \ttot = tot.add(piece[\"a\"].value_counts(), fill_value=0)\n",
    "\n",
    "for p in chunker:\n",
    "\tprint(p)"
   ]
  },
  {
   "attachments": {},
   "cell_type": "markdown",
   "metadata": {},
   "source": [
    "### Writing data to text format"
   ]
  },
  {
   "cell_type": "code",
   "execution_count": 35,
   "metadata": {},
   "outputs": [],
   "source": [
    "df = pd.DataFrame(\n",
    "    np.arange(20).reshape((4, 5)),\n",
    "    index=[\"a\", \"b\", \"c\", \"d\"],\n",
    "    columns=[\"u\", \"v\", \"w\", \"x\", \"y\"],\n",
    ")\n",
    "df.to_csv(\"./datasets/out.csv\", na_rep='ehhhh')\n"
   ]
  }
 ],
 "metadata": {
  "kernelspec": {
   "display_name": "Python 3",
   "language": "python",
   "name": "python3"
  },
  "language_info": {
   "codemirror_mode": {
    "name": "ipython",
    "version": 3
   },
   "file_extension": ".py",
   "mimetype": "text/x-python",
   "name": "python",
   "nbconvert_exporter": "python",
   "pygments_lexer": "ipython3",
   "version": "3.10.6"
  },
  "orig_nbformat": 4,
  "vscode": {
   "interpreter": {
    "hash": "31f2aee4e71d21fbe5cf8b01ff0e069b9275f58929596ceb00d14d90e3e16cd6"
   }
  }
 },
 "nbformat": 4,
 "nbformat_minor": 2
}
