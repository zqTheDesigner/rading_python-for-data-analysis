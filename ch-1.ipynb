{
 "cells": [
  {
   "cell_type": "markdown",
   "metadata": {},
   "source": [
    "What kinds of (structured) data:\n",
    "- Tabular\n",
    "- Multidimensional arrays (matrices)\n",
    "- Multiple tables of data interrelated by key columns (primary / foreign keys for SQL)\n",
    "- Evenly or unevenly spaced time series\n",
    "\n",
    "It is possible to extreact features from a dataset into a structured form."
   ]
  },
  {
   "cell_type": "markdown",
   "metadata": {},
   "source": [
    "## 1.4 Installation (Miniconda) and Setup\n",
    "\n",
    "1. Download Miniconda3 .sh file\n",
    "2. `bash Miniconda3-latest-Linux-x86_64.sh`\n",
    "3. After installed, allow conda to modify shell scripts (choose 'yes')\n",
    "4. Installing Necessary Packages (set conda-forge as default package channel)\n",
    "\n",
    "\tDocumentcation: https://conda-forge.org/#about\n",
    "\t- `conda config --add channels conda-forge`\n",
    "\t- `conda config --set channel_priority strict`\n",
    "\n",
    "5. Create new conda environment with `conda create`\n",
    "\n",
    "\t`conda create -y -n pydata-book python=3.10`\n",
    "\tThis will create a conda environment called 'pydata-book' with python 3.10 installed\n",
    "\n",
    "\tActive the environment with `conda activate pydata-book`"
   ]
  },
  {
   "cell_type": "code",
   "execution_count": null,
   "metadata": {},
   "outputs": [],
   "source": []
  }
 ],
 "metadata": {
  "kernelspec": {
   "display_name": "Python 3.9.12 ('base')",
   "language": "python",
   "name": "python3"
  },
  "language_info": {
   "codemirror_mode": {
    "name": "ipython",
    "version": 3
   },
   "file_extension": ".py",
   "mimetype": "text/x-python",
   "name": "python",
   "nbconvert_exporter": "python",
   "pygments_lexer": "ipython3",
   "version": "3.9.12"
  },
  "orig_nbformat": 4,
  "vscode": {
   "interpreter": {
    "hash": "2866d548beb68b0ac29e4ef3117389ffdc46c603c051ec1bf851629c99f244de"
   }
  }
 },
 "nbformat": 4,
 "nbformat_minor": 2
}
