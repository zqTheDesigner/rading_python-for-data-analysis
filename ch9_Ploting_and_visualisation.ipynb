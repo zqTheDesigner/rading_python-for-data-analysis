{
 "cells": [
  {
   "attachments": {},
   "cell_type": "markdown",
   "metadata": {},
   "source": [
    "Seaborn - matplotlib add on toolkits\n",
    "\n",
    "to output plots in the Jupyter notebook: `%matplotlib inline`\n",
    "\n",
    "# 9.1 A brief matplotlib API Primer\n"
   ]
  },
  {
   "cell_type": "code",
   "execution_count": 1,
   "metadata": {},
   "outputs": [],
   "source": [
    "import matplotlib.pyplot as plt\n",
    "import numpy as np\n",
    "import pandas as pd\n",
    "\n",
    "%matplotlib inline"
   ]
  },
  {
   "cell_type": "code",
   "execution_count": null,
   "metadata": {},
   "outputs": [],
   "source": [
    "data = np.arange(10)\n",
    "\n",
    "plt.plot(data)\n"
   ]
  },
  {
   "attachments": {},
   "cell_type": "markdown",
   "metadata": {},
   "source": [
    "## Figures and Subplots\n",
    "\n",
    "Plots in matplotlib reside within a Figure object.\n",
    "To create a new figure use plt.figure\n",
    "\n",
    "`fig = plt.figure()`\n",
    "\n",
    "figsize will guarantee the figure has a certain size and aspect ratio of saved to disk\n",
    "\n",
    "You can't make a plot with a blank figure. You have to create subplots using add_subplot\n",
    "\n",
    "`ax1 = fig.add_subplot(2, 2, 1)`\n",
    "\n",
    "It is preferred to use the axis methods over the top-level plotting functions like plt.plot\n"
   ]
  },
  {
   "cell_type": "code",
   "execution_count": null,
   "metadata": {},
   "outputs": [],
   "source": [
    "fig = plt.figure()\n",
    "\n",
    "# Figure should be 2 x 2, up to 4 plots in total, 1st figure been selected\n",
    "# plot axis objects have various methods that create different types of plots\n",
    "ax1 = fig.add_subplot(2, 2, 1)\n",
    "ax2 = fig.add_subplot(2, 2, 2)\n",
    "ax3 = fig.add_subplot(2, 2, 4)\n",
    "\n",
    "ax2.plot(np.random.standard_normal(50).cumsum(), color=\"black\", linestyle=\"dashed\")\n"
   ]
  },
  {
   "attachments": {},
   "cell_type": "markdown",
   "metadata": {},
   "source": [
    "The objects returned by fig.add_subplot here are AxesSubplot objects.\n",
    "You can directly plot on the other empty subplots by calling each one's instance method\n"
   ]
  },
  {
   "cell_type": "code",
   "execution_count": null,
   "metadata": {},
   "outputs": [],
   "source": [
    "ax1.hist(np.random.standard_normal(100), bins=20, color=\"black\", alpha=0.3)\n",
    "\n",
    "ax3.scatter(np.arange(30), np.arange(30) + 3 * np.random.standard_normal(30))\n"
   ]
  },
  {
   "cell_type": "code",
   "execution_count": null,
   "metadata": {},
   "outputs": [],
   "source": [
    "fig\n"
   ]
  },
  {
   "attachments": {},
   "cell_type": "markdown",
   "metadata": {},
   "source": [
    "Use plt.subplots method to create a new figure and returns a NumPy array containing the created subplot objects\n"
   ]
  },
  {
   "cell_type": "code",
   "execution_count": null,
   "metadata": {},
   "outputs": [],
   "source": [
    "fig, axes = plt.subplots(2, 3)\n",
    "\n",
    "axes\n",
    "# Same as when create ax1 to ax6 elements with fig.add_subplot()\n"
   ]
  },
  {
   "attachments": {},
   "cell_type": "markdown",
   "metadata": {},
   "source": [
    "## Adjust spacing around subplots\n"
   ]
  },
  {
   "cell_type": "code",
   "execution_count": null,
   "metadata": {},
   "outputs": [],
   "source": [
    "# Shrink the spacing all the way to 0\n",
    "fig, axes = plt.subplots(2, 2, sharex=True, sharey=True)\n",
    "\n",
    "for i in range(2):\n",
    "    for j in range(2):\n",
    "        axes[i, j].hist(\n",
    "            np.random.standard_normal(500), bins=50, color=\"black\", alpha=0.5\n",
    "        )\n",
    "\n",
    "fig.subplots_adjust(wspace=0, hspace=0)\n"
   ]
  },
  {
   "attachments": {},
   "cell_type": "markdown",
   "metadata": {},
   "source": [
    "## Colors, Markers and Line Styles\n",
    "\n",
    "plot x versus y with green dashes\n",
    "`ax.plot(x, y, linestyle=\"--\"l color=\"green\")`\n",
    "\n",
    "Line plots can additionally have markers to highlight the actual data points\n"
   ]
  },
  {
   "cell_type": "code",
   "execution_count": null,
   "metadata": {},
   "outputs": [],
   "source": [
    "fig, ax = plt.subplots(1, 1)\n",
    "\n",
    "x = np.arange(10)\n",
    "y = np.random.standard_normal(10)\n",
    "\n",
    "ax.plot(x, y, linestyle=\"--\", marker=\".\", label=\"default\")\n",
    "\n",
    "# Use drawstyle to change how the sequence is interpolated\n",
    "ax.plot(x, y, drawstyle=\"steps-post\", label=\"steps-post\")\n",
    "\n",
    "# Call legend method to show the labels\n",
    "ax.legend()\n"
   ]
  },
  {
   "attachments": {},
   "cell_type": "markdown",
   "metadata": {},
   "source": [
    "## Ticks, Labels and Legends\n",
    "\n",
    "Most kinds of plot decorations can be accessed through methods on matplotlib axes objects.\n",
    "xlim, xticks, xticklabels\n",
    "\n",
    "Controls the plot range, tick locations and tick labels\n",
    "\n",
    "All such methods act on the active or most recently created AxesSubplot\n",
    "\n",
    "### Setting the title, axis labels, ticks and tick labels\n"
   ]
  },
  {
   "cell_type": "code",
   "execution_count": null,
   "metadata": {},
   "outputs": [],
   "source": [
    "fig, ax = plt.subplots()\n",
    "\n",
    "ax.plot(np.random.standard_normal(1000).cumsum())\n",
    "\n",
    "ticks = ax.set_xticks([0, 250, 500, 750, 1000])\n",
    "\n",
    "# Use set_xticks and set_xticklabels to place the ticks along the datarange\n",
    "# the rotation option sets the x tick label at 30 degree rotaton\n",
    "labels = ax.set_xticklabels(\n",
    "    [\"one\", \"two\", \"three\", \"four\", \"five\"], rotation=30, fontsize=8\n",
    ")\n",
    "\n",
    "# Give a name to the x-axis\n",
    "ax.set_xlabel(\"Stages\")\n",
    "\n",
    "# Set the subplot title\n",
    "ax.set_title(\"My first matplotlib plot\")\n",
    "\n",
    "# Use set method to batch setting plot properties\n",
    "ax.set(title=\"My first matplot plot\", xlabel=\"Stages\", ylabel=\"Value\")\n"
   ]
  },
  {
   "attachments": {},
   "cell_type": "markdown",
   "metadata": {},
   "source": [
    "### Adding Legends\n",
    "\n",
    "Pass the label argument when adding each piece of the plot\n"
   ]
  },
  {
   "cell_type": "code",
   "execution_count": null,
   "metadata": {},
   "outputs": [],
   "source": [
    "fig, ax = plt.subplots()\n",
    "\n",
    "ax.plot(np.random.randn(1000).cumsum(), color=\"black\", label=\"one\")\n",
    "ax.plot(np.random.randn(1000).cumsum(), color=\"black\", label=\"two\", linestyle=\"--\")\n",
    "ax.plot(\n",
    "    np.random.randn(1000).cumsum(), color=\"black\", label=\"three\", linestyle=\"dotted\"\n",
    ")\n",
    "\n",
    "ax.legend(loc=\"upper right\")\n"
   ]
  },
  {
   "cell_type": "code",
   "execution_count": null,
   "metadata": {},
   "outputs": [],
   "source": [
    "ax.legend?"
   ]
  },
  {
   "attachments": {},
   "cell_type": "markdown",
   "metadata": {},
   "source": [
    "## Annotations and Drawings on a Subplot\n",
    "\n",
    "Plot annotations: text, arrows, other shapes\n",
    "Add annotations with `text`, `arrow` and `annotate` functions\n",
    "\n",
    "`ax.text(a, y, 'Hello world', family='monospace', fontsize=10)`\n"
   ]
  },
  {
   "cell_type": "code",
   "execution_count": null,
   "metadata": {},
   "outputs": [],
   "source": [
    "from datetime import datetime\n",
    "\n",
    "fig, ax = plt.subplots()\n",
    "\n",
    "data = pd.read_csv(\"./datasets/spx.csv\", index_col=0, parse_dates=True)\n",
    "\n",
    "spx = data[\"SPX\"]\n",
    "\n",
    "spx.plot(ax=ax, color=\"black\")\n",
    "\n",
    "crisis_data = [\n",
    "    (datetime(2007, 10, 11), \"Peak of bull market\"),\n",
    "    (datetime(2008, 3, 12), \"Bear Sterns Fils\"),\n",
    "    (datetime(2008, 9, 15), \"Lehman Bankruptcy\"),\n",
    "]\n",
    "\n",
    "# ax.annotate method can draw labels at the indicated x and y coordinates\n",
    "for date, label in crisis_data:\n",
    "    ax.annotate(\n",
    "        label,\n",
    "        xy=(date, spx.asof(date) + 75),\n",
    "        xytext=(date, spx.asof(date) + 225),\n",
    "        arrowprops=dict(facecolor=\"black\", headwidth=2, width=2, headlength=4),\n",
    "        horizontalalignment=\"left\",\n",
    "        verticalalignment=\"top\",\n",
    "    )\n",
    "\n",
    "# Zoom in on 2007 - 2010, manually set the start and end boundaries for the plot\n",
    "ax.set_xlim([\"1/1/2007\", \"1/1/2011\"])\n",
    "ax.set_ylim([600, 1800])\n",
    "\n",
    "ax.set_title(\"Important dates in the 2008 to 2001\")\n"
   ]
  },
  {
   "attachments": {},
   "cell_type": "markdown",
   "metadata": {},
   "source": [
    "#### Drawing shapes\n",
    "\n",
    "matplotlib `patches` object represent common shapes\n",
    "Full set can be found in `matplotlib.patches`\n",
    "\n",
    "To add a shape to a plot, you create the patch object and add it to a subplot ax by passing the patch to ax.add_patch\n"
   ]
  },
  {
   "cell_type": "code",
   "execution_count": null,
   "metadata": {},
   "outputs": [],
   "source": [
    "fig, ax = plt.subplots()\n",
    "\n",
    "rect = plt.Rectangle((0.2, 0.75), 0.4, 0.15, color=\"black\", alpha=0.3)\n",
    "circ = plt.Circle((0.7, 0.2), 0.15, color=\"blue\", alpha=0.3)\n",
    "pgon = plt.Polygon([[0.15, 0.15], [0.34, 0.4], [0.2, 0.6]], color=\"green\", alpha=0.5)\n",
    "\n",
    "ax.add_patch(rect)\n",
    "ax.add_patch(circ)\n",
    "ax.add_patch(pgon)\n"
   ]
  },
  {
   "attachments": {},
   "cell_type": "markdown",
   "metadata": {},
   "source": [
    "## Saving Plots to File\n",
    "\n",
    "Save the active figure using figure object's `savefig` instance method.\n",
    "\n",
    "`fig.savefig('figpath.pmg', dpi=400)`\n",
    "\n",
    "The fie type is inferred from the file extension\n"
   ]
  },
  {
   "attachments": {},
   "cell_type": "markdown",
   "metadata": {},
   "source": [
    "## matplotlib Configuration\n",
    "\n",
    "Use `plt.rc` method to modify the configuration\n",
    "`plt.rc('figure', figsize=(10,10))`\n",
    "\n",
    "First argument to rc is the component you wish to customize\n",
    "Followed by a sequence of keyword arguments indicating the new parameters\n",
    "\n",
    "`plt.rc('font', family='monospace', weight='bold', size=8)`\n",
    "\n",
    "All current configuration settings can be found in `plt.rcParams`\n"
   ]
  },
  {
   "cell_type": "code",
   "execution_count": null,
   "metadata": {},
   "outputs": [],
   "source": [
    "plt.rcParams\n"
   ]
  },
  {
   "attachments": {},
   "cell_type": "markdown",
   "metadata": {},
   "source": [
    "# 9.2 Plotting with pandas and seaborn\n"
   ]
  },
  {
   "attachments": {},
   "cell_type": "markdown",
   "metadata": {},
   "source": [
    "## Line Plots\n"
   ]
  },
  {
   "cell_type": "code",
   "execution_count": 16,
   "metadata": {},
   "outputs": [
    {
     "data": {
      "text/plain": [
       "<AxesSubplot: >"
      ]
     },
     "execution_count": 16,
     "metadata": {},
     "output_type": "execute_result"
    },
    {
     "data": {
      "image/png": "[encoded data removed]",
      "text/plain": [
       "<Figure size 640x480 with 1 Axes>"
      ]
     },
     "metadata": {},
     "output_type": "display_data"
    }
   ],
   "source": [
    "s = pd.Series(np.random.standard_normal(10).cumsum(), index=np.arange(0, 100, 10))\n",
    "\n",
    "s.plot()\n"
   ]
  },
  {
   "attachments": {},
   "cell_type": "markdown",
   "metadata": {},
   "source": [
    "Series.plot method arguments\n",
    "\n",
    "| Argument  | Description                                                                                                     |\n",
    "| --------- | --------------------------------------------------------------------------------------------------------------- |\n",
    "| label     | Label for plot legend                                                                                           |\n",
    "| ax        | matplotlib subplot object to plot on, if nothing passed, use active matplotlib subplot                          |\n",
    "| style     | style string, like 'ko--' to be passed to matplotlib                                                            |\n",
    "| alpha     | The plot fill opacity (from 0 to 1)                                                                             |\n",
    "| kind      | Can be \"area\", 'bar', 'barh', 'density', 'hist', 'kde', 'line' or 'pie', default to 'line'                      |\n",
    "| figsize   | Size of the figure object to create                                                                             |\n",
    "| logx      | Pass True for logarithmic scaling on the x axis; pass 'sym' for symmetric logarithm that permits negative value |\n",
    "| logy      | Pass True for logarithmic scaling on the y axis                                                                 |\n",
    "| title     | title to use ofr the plot                                                                                       |\n",
    "| use_index | use the object index for tick labels                                                                            |\n",
    "| rot       | rotation of tick labels (0 to 360)                                                                              |\n",
    "| xticks    | Values to use for x-axis ticks                                                                                  |\n",
    "| yticks    | Values to use for y-axis ticks                                                                                  |\n",
    "| xlim      | x-axis limits (e.g. [0, 10])                                                                                    |\n",
    "| ylim      | y-axis limits                                                                                                   |\n",
    "| gird      | display axis grid, off by default                                                                               |\n"
   ]
  },
  {
   "attachments": {},
   "cell_type": "markdown",
   "metadata": {},
   "source": [
    "DataFrame's plot method plots each of its columns as a different line on the same subplot, creating a legend automatically.\n"
   ]
  },
  {
   "cell_type": "code",
   "execution_count": 3,
   "metadata": {},
   "outputs": [
    {
     "data": {
      "text/plain": [
       "<AxesSubplot: >"
      ]
     },
     "execution_count": 3,
     "metadata": {},
     "output_type": "execute_result"
    },
    {
     "data": {
      "image/png": "[encoded data removed]",
      "text/plain": [
       "<Figure size 640x480 with 1 Axes>"
      ]
     },
     "metadata": {},
     "output_type": "display_data"
    }
   ],
   "source": [
    "df = pd.DataFrame(\n",
    "    # cumsum(0) means accumulate summary along the columns\n",
    "    np.random.standard_normal((10, 4)).cumsum(0),\n",
    "    columns=[\"A\", \"B\", \"C\", \"D\"],\n",
    "    index=np.arange(0, 100, 10),\n",
    ")\n",
    "\n",
    "plt.style.use(\"grayscale\")\n",
    "\n",
    "df.plot()\n"
   ]
  },
  {
   "attachments": {},
   "cell_type": "markdown",
   "metadata": {},
   "source": [
    "DataFrame specific plot arguments\n",
    "\n",
    "| Argument     | Description                                                                 |\n",
    "| ------------ | --------------------------------------------------------------------------- |\n",
    "| subplots     | Plot each DataFrame column in a separate subplot                            |\n",
    "| layouts      | 2-tuple (rows, columns) providing layout of subplots                        |\n",
    "| sharex       | If subplots = True, share the same x-axis linking ticks and limits          |\n",
    "| sharey       | if subplots = True, share the same y-axis                                   |\n",
    "| legend       | Add a subplot legend (True by default)                                      |\n",
    "| sort_columns | Plot columns in a alphabetical order, by default uses existing column order |\n"
   ]
  },
  {
   "attachments": {},
   "cell_type": "markdown",
   "metadata": {},
   "source": [
    "## Bar Plots\n",
    "\n",
    "`plot.bar()` and `plot.barh()` make vertical and horizontal bar plots.\n",
    "Series or DataFrame index will be used as the x(bar) or y(barh) ticks\n"
   ]
  },
  {
   "cell_type": "code",
   "execution_count": 17,
   "metadata": {},
   "outputs": [
    {
     "data": {
      "text/plain": [
       "<AxesSubplot: >"
      ]
     },
     "execution_count": 17,
     "metadata": {},
     "output_type": "execute_result"
    },
    {
     "data": {
      "image/png": "[encoded data removed]",
      "text/plain": [
       "<Figure size 640x480 with 2 Axes>"
      ]
     },
     "metadata": {},
     "output_type": "display_data"
    }
   ],
   "source": [
    "fix, axes = plt.subplots(2, 1)\n",
    "\n",
    "data = pd.Series(np.random.uniform(size=16), index=list(\"abcdefghijklmnop\"))\n",
    "\n",
    "data.plot.bar(ax=axes[0], color=\"black\", alpha=0.7, rot=0)\n",
    "\n",
    "\n",
    "data.plot.barh(ax=axes[1], color=\"black\", alpha=0.7)\n"
   ]
  },
  {
   "attachments": {},
   "cell_type": "markdown",
   "metadata": {},
   "source": [
    "With a DataFrame, bar plots group the values in each row in bars, side by side, for each value.\n"
   ]
  },
  {
   "cell_type": "code",
   "execution_count": 21,
   "metadata": {},
   "outputs": [
    {
     "data": {
      "text/plain": [
       "<AxesSubplot: >"
      ]
     },
     "execution_count": 21,
     "metadata": {},
     "output_type": "execute_result"
    },
    {
     "data": {
      "image/png": "[encoded data removed]",
      "text/plain": [
       "<Figure size 640x480 with 1 Axes>"
      ]
     },
     "metadata": {},
     "output_type": "display_data"
    }
   ],
   "source": [
    "df = pd.DataFrame(\n",
    "    np.random.uniform(size=(6, 4)),\n",
    "    index=[\"one\", \"tow\", \"three\", \"four\", \"five\", \"six\"],\n",
    "    columns=pd.Index(\n",
    "        [\"A\", \"B\", \"C\", \"D\"],\n",
    "        name=\"Genus\",\n",
    "    ),\n",
    ")\n",
    "\n",
    "df.plot.bar()"
   ]
  },
  {
   "cell_type": "code",
   "execution_count": 22,
   "metadata": {},
   "outputs": [
    {
     "data": {
      "text/plain": [
       "<AxesSubplot: >"
      ]
     },
     "execution_count": 22,
     "metadata": {},
     "output_type": "execute_result"
    },
    {
     "data": {
      "image/png": "[encoded data removed]",
      "text/plain": [
       "<Figure size 640x480 with 1 Axes>"
      ]
     },
     "metadata": {},
     "output_type": "display_data"
    }
   ],
   "source": [
    "df.plot.barh(stacked=True)"
   ]
  },
  {
   "cell_type": "code",
   "execution_count": 23,
   "metadata": {},
   "outputs": [
    {
     "data": {
      "text/html": [
       "<div>\n",
       "<style scoped>\n",
       "    .dataframe tbody tr th:only-of-type {\n",
       "        vertical-align: middle;\n",
       "    }\n",
       "\n",
       "    .dataframe tbody tr th {\n",
       "        vertical-align: top;\n",
       "    }\n",
       "\n",
       "    .dataframe thead th {\n",
       "        text-align: right;\n",
       "    }\n",
       "</style>\n",
       "<table border=\"1\" class=\"dataframe\">\n",
       "  <thead>\n",
       "    <tr style=\"text-align: right;\">\n",
       "      <th></th>\n",
       "      <th>total_bill</th>\n",
       "      <th>tip</th>\n",
       "      <th>sex</th>\n",
       "      <th>smoker</th>\n",
       "      <th>day</th>\n",
       "      <th>time</th>\n",
       "      <th>size</th>\n",
       "    </tr>\n",
       "  </thead>\n",
       "  <tbody>\n",
       "    <tr>\n",
       "      <th>0</th>\n",
       "      <td>16.99</td>\n",
       "      <td>1.01</td>\n",
       "      <td>Female</td>\n",
       "      <td>No</td>\n",
       "      <td>Sun</td>\n",
       "      <td>Dinner</td>\n",
       "      <td>2</td>\n",
       "    </tr>\n",
       "    <tr>\n",
       "      <th>1</th>\n",
       "      <td>10.34</td>\n",
       "      <td>1.66</td>\n",
       "      <td>Male</td>\n",
       "      <td>No</td>\n",
       "      <td>Sun</td>\n",
       "      <td>Dinner</td>\n",
       "      <td>3</td>\n",
       "    </tr>\n",
       "    <tr>\n",
       "      <th>2</th>\n",
       "      <td>21.01</td>\n",
       "      <td>3.50</td>\n",
       "      <td>Male</td>\n",
       "      <td>No</td>\n",
       "      <td>Sun</td>\n",
       "      <td>Dinner</td>\n",
       "      <td>3</td>\n",
       "    </tr>\n",
       "    <tr>\n",
       "      <th>3</th>\n",
       "      <td>23.68</td>\n",
       "      <td>3.31</td>\n",
       "      <td>Male</td>\n",
       "      <td>No</td>\n",
       "      <td>Sun</td>\n",
       "      <td>Dinner</td>\n",
       "      <td>2</td>\n",
       "    </tr>\n",
       "    <tr>\n",
       "      <th>4</th>\n",
       "      <td>24.59</td>\n",
       "      <td>3.61</td>\n",
       "      <td>Female</td>\n",
       "      <td>No</td>\n",
       "      <td>Sun</td>\n",
       "      <td>Dinner</td>\n",
       "      <td>4</td>\n",
       "    </tr>\n",
       "  </tbody>\n",
       "</table>\n",
       "</div>"
      ],
      "text/plain": [
       "   total_bill   tip     sex smoker  day    time  size\n",
       "0       16.99  1.01  Female     No  Sun  Dinner     2\n",
       "1       10.34  1.66    Male     No  Sun  Dinner     3\n",
       "2       21.01  3.50    Male     No  Sun  Dinner     3\n",
       "3       23.68  3.31    Male     No  Sun  Dinner     2\n",
       "4       24.59  3.61  Female     No  Sun  Dinner     4"
      ]
     },
     "execution_count": 23,
     "metadata": {},
     "output_type": "execute_result"
    }
   ],
   "source": [
    "tips = pd.read_csv('datasets/tips.csv')\n",
    "\n",
    "tips.head()"
   ]
  },
  {
   "cell_type": "code",
   "execution_count": 31,
   "metadata": {},
   "outputs": [
    {
     "data": {
      "text/plain": [
       "<AxesSubplot: xlabel='day'>"
      ]
     },
     "execution_count": 31,
     "metadata": {},
     "output_type": "execute_result"
    },
    {
     "data": {
      "image/png": "[encoded data removed]",
      "text/plain": [
       "<Figure size 640x480 with 1 Axes>"
      ]
     },
     "metadata": {},
     "output_type": "display_data"
    }
   ],
   "source": [
    "# Use pandas.crosstab() function to compute a frequency table from two dataframe columns\n",
    "party_counts = pd.crosstab(tips[\"day\"], tips[\"size\"])\n",
    "\n",
    "party_counts = party_counts.reindex(index=[\"Thur\", \"Fri\", \"Sat\", \"Sun\"])\n",
    "\n",
    "# Remove the one and six person party\n",
    "party_counts = party_counts.loc[:, 2:5]\n",
    "\n",
    "# Normalize to sum to 1\n",
    "party_pcts = party_counts.div(party_counts.sum(axis='columns'), axis='index')\n",
    "\n",
    "party_pcts.plot.bar(stacked=True)"
   ]
  },
  {
   "cell_type": "code",
   "execution_count": null,
   "metadata": {},
   "outputs": [],
   "source": []
  },
  {
   "cell_type": "code",
   "execution_count": 30,
   "metadata": {},
   "outputs": [
    {
     "data": {
      "text/html": [
       "<div>\n",
       "<style scoped>\n",
       "    .dataframe tbody tr th:only-of-type {\n",
       "        vertical-align: middle;\n",
       "    }\n",
       "\n",
       "    .dataframe tbody tr th {\n",
       "        vertical-align: top;\n",
       "    }\n",
       "\n",
       "    .dataframe thead th {\n",
       "        text-align: right;\n",
       "    }\n",
       "</style>\n",
       "<table border=\"1\" class=\"dataframe\">\n",
       "  <thead>\n",
       "    <tr style=\"text-align: right;\">\n",
       "      <th>size</th>\n",
       "      <th>2</th>\n",
       "      <th>3</th>\n",
       "      <th>4</th>\n",
       "      <th>5</th>\n",
       "    </tr>\n",
       "    <tr>\n",
       "      <th>day</th>\n",
       "      <th></th>\n",
       "      <th></th>\n",
       "      <th></th>\n",
       "      <th></th>\n",
       "    </tr>\n",
       "  </thead>\n",
       "  <tbody>\n",
       "    <tr>\n",
       "      <th>Thur</th>\n",
       "      <td>48</td>\n",
       "      <td>4</td>\n",
       "      <td>5</td>\n",
       "      <td>1</td>\n",
       "    </tr>\n",
       "    <tr>\n",
       "      <th>Fri</th>\n",
       "      <td>16</td>\n",
       "      <td>1</td>\n",
       "      <td>1</td>\n",
       "      <td>0</td>\n",
       "    </tr>\n",
       "    <tr>\n",
       "      <th>Sat</th>\n",
       "      <td>53</td>\n",
       "      <td>18</td>\n",
       "      <td>13</td>\n",
       "      <td>1</td>\n",
       "    </tr>\n",
       "    <tr>\n",
       "      <th>Sun</th>\n",
       "      <td>39</td>\n",
       "      <td>15</td>\n",
       "      <td>18</td>\n",
       "      <td>3</td>\n",
       "    </tr>\n",
       "  </tbody>\n",
       "</table>\n",
       "</div>"
      ],
      "text/plain": [
       "size   2   3   4  5\n",
       "day                \n",
       "Thur  48   4   5  1\n",
       "Fri   16   1   1  0\n",
       "Sat   53  18  13  1\n",
       "Sun   39  15  18  3"
      ]
     },
     "execution_count": 30,
     "metadata": {},
     "output_type": "execute_result"
    }
   ],
   "source": [
    "party_counts"
   ]
  },
  {
   "cell_type": "code",
   "execution_count": 29,
   "metadata": {},
   "outputs": [
    {
     "data": {
      "text/plain": [
       "day\n",
       "Thur    58\n",
       "Fri     18\n",
       "Sat     85\n",
       "Sun     75\n",
       "dtype: int64"
      ]
     },
     "execution_count": 29,
     "metadata": {},
     "output_type": "execute_result"
    }
   ],
   "source": [
    "party_counts.sum(axis='columns')"
   ]
  },
  {
   "cell_type": "code",
   "execution_count": 33,
   "metadata": {},
   "outputs": [
    {
     "data": {
      "text/plain": [
       "<AxesSubplot: xlabel='tip_pct', ylabel='day'>"
      ]
     },
     "execution_count": 33,
     "metadata": {},
     "output_type": "execute_result"
    },
    {
     "data": {
      "image/png": "[encoded data removed]",
      "text/plain": [
       "<Figure size 640x480 with 1 Axes>"
      ]
     },
     "metadata": {},
     "output_type": "display_data"
    }
   ],
   "source": [
    "import seaborn as sns\n",
    "\n",
    "tips['tip_pct'] = tips['tip'] / (tips['total_bill'] - tips['tip'])\n",
    "\n",
    "tips.head()\n",
    "\n",
    "sns.barplot(x='tip_pct', y='day', data=tips, orient='h')"
   ]
  },
  {
   "cell_type": "code",
   "execution_count": null,
   "metadata": {},
   "outputs": [],
   "source": []
  }
 ],
 "metadata": {
  "kernelspec": {
   "display_name": "env",
   "language": "python",
   "name": "python3"
  },
  "language_info": {
   "codemirror_mode": {
    "name": "ipython",
    "version": 3
   },
   "file_extension": ".py",
   "mimetype": "text/x-python",
   "name": "python",
   "nbconvert_exporter": "python",
   "pygments_lexer": "ipython3",
   "version": "3.10.6"
  },
  "orig_nbformat": 4,
  "vscode": {
   "interpreter": {
    "hash": "db103a864d90754ea6859861b49c97228243503a9f70d5acb5594bb386424408"
   }
  }
 },
 "nbformat": 4,
 "nbformat_minor": 2
}
