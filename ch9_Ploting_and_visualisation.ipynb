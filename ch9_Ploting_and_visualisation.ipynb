{
 "cells": [
  {
   "attachments": {},
   "cell_type": "markdown",
   "metadata": {},
   "source": [
    "Seaborn - matplotlib add on toolkits\n",
    "\n",
    "to output plots in the Jupyter notebook: `%matplotlib inline`\n",
    "\n",
    "# 9.1 A brief matplotlib API Primer\n"
   ]
  },
  {
   "cell_type": "code",
   "execution_count": null,
   "metadata": {},
   "outputs": [],
   "source": [
    "import matplotlib.pyplot as plt\n",
    "import numpy as np\n",
    "import pandas as pd\n",
    "\n",
    "%matplotlib inline"
   ]
  },
  {
   "cell_type": "code",
   "execution_count": null,
   "metadata": {},
   "outputs": [],
   "source": [
    "data = np.arange(10)\n",
    "\n",
    "plt.plot(data)\n"
   ]
  },
  {
   "attachments": {},
   "cell_type": "markdown",
   "metadata": {},
   "source": [
    "## Figures and Subplots\n",
    "\n",
    "Plots in matplotlib reside within a Figure object.\n",
    "To create a new figure use plt.figure\n",
    "\n",
    "`fig = plt.figure()`\n",
    "\n",
    "figsize will guarantee the figure has a certain size and aspect ratio of saved to disk\n",
    "\n",
    "You can't make a plot with a blank figure. You have to create subplots using add_subplot\n",
    "\n",
    "`ax1 = fig.add_subplot(2, 2, 1)`\n",
    "\n",
    "It is preferred to use the axis methods over the top-level plotting functions like plt.plot\n"
   ]
  },
  {
   "cell_type": "code",
   "execution_count": null,
   "metadata": {},
   "outputs": [],
   "source": [
    "fig = plt.figure()\n",
    "\n",
    "# Figure should be 2 x 2, up to 4 plots in total, 1st figure been selected\n",
    "# plot axis objects have various methods that create different types of plots\n",
    "ax1 = fig.add_subplot(2, 2, 1)\n",
    "ax2 = fig.add_subplot(2, 2, 2)\n",
    "ax3 = fig.add_subplot(2, 2, 4)\n",
    "\n",
    "ax2.plot(np.random.standard_normal(50).cumsum(), color=\"black\", linestyle=\"dashed\")\n"
   ]
  },
  {
   "attachments": {},
   "cell_type": "markdown",
   "metadata": {},
   "source": [
    "The objects returned by fig.add_subplot here are AxesSubplot objects.\n",
    "You can directly plot on the other empty subplots by calling each one's instance method\n"
   ]
  },
  {
   "cell_type": "code",
   "execution_count": null,
   "metadata": {},
   "outputs": [],
   "source": [
    "ax1.hist(np.random.standard_normal(100), bins=20, color=\"black\", alpha=0.3)\n",
    "\n",
    "ax3.scatter(np.arange(30), np.arange(30) + 3 * np.random.standard_normal(30))\n"
   ]
  },
  {
   "cell_type": "code",
   "execution_count": null,
   "metadata": {},
   "outputs": [],
   "source": [
    "fig\n"
   ]
  },
  {
   "attachments": {},
   "cell_type": "markdown",
   "metadata": {},
   "source": [
    "Use plt.subplots method to create a new figure and returns a NumPy array containing the created subplot objects\n"
   ]
  },
  {
   "cell_type": "code",
   "execution_count": null,
   "metadata": {},
   "outputs": [],
   "source": [
    "fig, axes = plt.subplots(2, 3)\n",
    "\n",
    "axes\n",
    "# Same as when create ax1 to ax6 elements with fig.add_subplot()\n"
   ]
  },
  {
   "attachments": {},
   "cell_type": "markdown",
   "metadata": {},
   "source": [
    "## Adjust spacing around subplots\n"
   ]
  },
  {
   "cell_type": "code",
   "execution_count": null,
   "metadata": {},
   "outputs": [],
   "source": [
    "# Shrink the spacing all the way to 0\n",
    "fig, axes = plt.subplots(2, 2, sharex=True, sharey=True)\n",
    "\n",
    "for i in range(2):\n",
    "    for j in range(2):\n",
    "        axes[i, j].hist(\n",
    "            np.random.standard_normal(500), bins=50, color=\"black\", alpha=0.5\n",
    "        )\n",
    "\n",
    "fig.subplots_adjust(wspace=0, hspace=0)\n"
   ]
  },
  {
   "attachments": {},
   "cell_type": "markdown",
   "metadata": {},
   "source": [
    "## Colors, Markers and Line Styles\n",
    "\n",
    "plot x versus y with green dashes\n",
    "`ax.plot(x, y, linestyle=\"--\"l color=\"green\")`\n",
    "\n",
    "Line plots can additionally have markers to highlight the actual data points\n"
   ]
  },
  {
   "cell_type": "code",
   "execution_count": null,
   "metadata": {},
   "outputs": [],
   "source": [
    "fig, ax = plt.subplots(1, 1)\n",
    "\n",
    "x = np.arange(10)\n",
    "y = np.random.standard_normal(10)\n",
    "\n",
    "ax.plot(x, y, linestyle=\"--\", marker=\".\", label=\"default\")\n",
    "\n",
    "# Use drawstyle to change how the sequence is interpolated\n",
    "ax.plot(x, y, drawstyle=\"steps-post\", label=\"steps-post\")\n",
    "\n",
    "# Call legend method to show the labels\n",
    "ax.legend()\n"
   ]
  },
  {
   "attachments": {},
   "cell_type": "markdown",
   "metadata": {},
   "source": [
    "## Ticks, Labels and Legends\n",
    "\n",
    "Most kinds of plot decorations can be accessed through methods on matplotlib axes objects.\n",
    "xlim, xticks, xticklabels\n",
    "\n",
    "Controls the plot range, tick locations and tick labels\n",
    "\n",
    "All such methods act on the active or most recently created AxesSubplot\n",
    "\n",
    "### Setting the title, axis labels, ticks and tick labels\n"
   ]
  },
  {
   "cell_type": "code",
   "execution_count": null,
   "metadata": {},
   "outputs": [],
   "source": [
    "fig, ax = plt.subplots()\n",
    "\n",
    "ax.plot(np.random.standard_normal(1000).cumsum())\n",
    "\n",
    "ticks = ax.set_xticks([0, 250, 500, 750, 1000])\n",
    "\n",
    "# Use set_xticks and set_xticklabels to place the ticks along the datarange\n",
    "# the rotation option sets the x tick label at 30 degree rotaton\n",
    "labels = ax.set_xticklabels(\n",
    "    [\"one\", \"two\", \"three\", \"four\", \"five\"], rotation=30, fontsize=8\n",
    ")\n",
    "\n",
    "# Give a name to the x-axis\n",
    "ax.set_xlabel(\"Stages\")\n",
    "\n",
    "# Set the subplot title\n",
    "ax.set_title(\"My first matplotlib plot\")\n",
    "\n",
    "# Use set method to batch setting plot properties\n",
    "ax.set(title=\"My first matplot plot\", xlabel=\"Stages\", ylabel=\"Value\")\n"
   ]
  },
  {
   "attachments": {},
   "cell_type": "markdown",
   "metadata": {},
   "source": [
    "### Adding Legends\n",
    "\n",
    "Pass the label argument when adding each piece of the plot\n"
   ]
  },
  {
   "cell_type": "code",
   "execution_count": null,
   "metadata": {},
   "outputs": [],
   "source": [
    "fig, ax = plt.subplots()\n",
    "\n",
    "ax.plot(np.random.randn(1000).cumsum(), color=\"black\", label=\"one\")\n",
    "ax.plot(np.random.randn(1000).cumsum(), color=\"black\", label=\"two\", linestyle=\"--\")\n",
    "ax.plot(\n",
    "    np.random.randn(1000).cumsum(), color=\"black\", label=\"three\", linestyle=\"dotted\"\n",
    ")\n",
    "\n",
    "ax.legend(loc=\"upper right\")\n"
   ]
  },
  {
   "cell_type": "code",
   "execution_count": null,
   "metadata": {},
   "outputs": [],
   "source": [
    "ax.legend?"
   ]
  },
  {
   "attachments": {},
   "cell_type": "markdown",
   "metadata": {},
   "source": [
    "## Annotations and Drawings on a Subplot\n",
    "\n",
    "Plot annotations: text, arrows, other shapes\n",
    "Add annotations with `text`, `arrow` and `annotate` functions\n",
    "\n",
    "`ax.text(a, y, 'Hello world', family='monospace', fontsize=10)`\n"
   ]
  },
  {
   "cell_type": "code",
   "execution_count": null,
   "metadata": {},
   "outputs": [],
   "source": [
    "from datetime import datetime\n",
    "\n",
    "fig, ax = plt.subplots()\n",
    "\n",
    "data = pd.read_csv(\"./datasets/spx.csv\", index_col=0, parse_dates=True)\n",
    "\n",
    "spx = data[\"SPX\"]\n",
    "\n",
    "spx.plot(ax=ax, color=\"black\")\n",
    "\n",
    "crisis_data = [\n",
    "    (datetime(2007, 10, 11), \"Peak of bull market\"),\n",
    "    (datetime(2008, 3, 12), \"Bear Sterns Fils\"),\n",
    "    (datetime(2008, 9, 15), \"Lehman Bankruptcy\"),\n",
    "]\n",
    "\n",
    "# ax.annotate method can draw labels at the indicated x and y coordinates\n",
    "for date, label in crisis_data:\n",
    "    ax.annotate(\n",
    "        label,\n",
    "        xy=(date, spx.asof(date) + 75),\n",
    "        xytext=(date, spx.asof(date) + 225),\n",
    "        arrowprops=dict(facecolor=\"black\", headwidth=2, width=2, headlength=4),\n",
    "        horizontalalignment=\"left\",\n",
    "        verticalalignment=\"top\",\n",
    "    )\n",
    "\n",
    "# Zoom in on 2007 - 2010, manually set the start and end boundaries for the plot\n",
    "ax.set_xlim([\"1/1/2007\", \"1/1/2011\"])\n",
    "ax.set_ylim([600, 1800])\n",
    "\n",
    "ax.set_title(\"Important dates in the 2008 to 2001\")\n"
   ]
  },
  {
   "attachments": {},
   "cell_type": "markdown",
   "metadata": {},
   "source": [
    "#### Drawing shapes\n",
    "\n",
    "matplotlib `patches` object represent common shapes\n",
    "Full set can be found in `matplotlib.patches`\n",
    "\n",
    "To add a shape to a plot, you create the patch object and add it to a subplot ax by passing the patch to ax.add_patch\n"
   ]
  },
  {
   "cell_type": "code",
   "execution_count": null,
   "metadata": {},
   "outputs": [],
   "source": [
    "fig, ax = plt.subplots()\n",
    "\n",
    "rect = plt.Rectangle((0.2, 0.75), 0.4, 0.15, color=\"black\", alpha=0.3)\n",
    "circ = plt.Circle((0.7, 0.2), 0.15, color=\"blue\", alpha=0.3)\n",
    "pgon = plt.Polygon([[0.15, 0.15], [0.34, 0.4], [0.2, 0.6]], color=\"green\", alpha=0.5)\n",
    "\n",
    "ax.add_patch(rect)\n",
    "ax.add_patch(circ)\n",
    "ax.add_patch(pgon)\n"
   ]
  },
  {
   "attachments": {},
   "cell_type": "markdown",
   "metadata": {},
   "source": [
    "## Saving Plots to File\n",
    "\n",
    "Save the active figure using figure object's `savefig` instance method.\n",
    "\n",
    "`fig.savefig('figpath.pmg', dpi=400)`\n",
    "\n",
    "The fie type is inferred from the file extension\n"
   ]
  },
  {
   "attachments": {},
   "cell_type": "markdown",
   "metadata": {},
   "source": [
    "## matplotlib Configuration\n",
    "Use `plt.rc` method to modify the configuration \n",
    "`plt.rc('figure', figsize=(10,10))`\n",
    "\n",
    "First argument to rc is the component you wish to customize \n",
    "Followed by a sequence of keyword arguments indicating the new parameters\n",
    "\n",
    "`plt.rc('font', family='monospace', weight='bold', size=8)`\n",
    "\n",
    "All current configuration settings can be found in `plt.rcParams`"
   ]
  },
  {
   "cell_type": "code",
   "execution_count": null,
   "metadata": {},
   "outputs": [],
   "source": [
    "plt.rcParams"
   ]
  },
  {
   "attachments": {},
   "cell_type": "markdown",
   "metadata": {},
   "source": [
    "# 9.2 Plotting with pandas and seaborn\n",
    "\n"
   ]
  },
  {
   "attachments": {},
   "cell_type": "markdown",
   "metadata": {},
   "source": [
    "## Line Plots\n"
   ]
  },
  {
   "cell_type": "code",
   "execution_count": 16,
   "metadata": {},
   "outputs": [
    {
     "data": {
      "text/plain": [
       "<AxesSubplot: >"
      ]
     },
     "execution_count": 16,
     "metadata": {},
     "output_type": "execute_result"
    },
    {
     "data": {
      "image/png": "[encoded data removed]",
      "text/plain": [
       "<Figure size 640x480 with 1 Axes>"
      ]
     },
     "metadata": {},
     "output_type": "display_data"
    }
   ],
   "source": [
    "s = pd.Series(np.random.standard_normal(10).cumsum(), index=np.arange(0, 100, 10))\n",
    "\n",
    "s.plot()"
   ]
  },
  {
   "attachments": {},
   "cell_type": "markdown",
   "metadata": {},
   "source": [
    "Series.plot method arguments\n",
    "\n",
    "| Argument | Description |\n",
    "|-|-| \n",
    "| label | Label for plot legend |\n",
    "| ax | matplotlib subplot object to plot on, if nothing passed, use active matplotlib subplot |\n",
    "| style | style string, like 'ko--' to be passed to matplotlib |\n",
    "| alpha | The plot fill opacity (from 0 to 1) |\n",
    "| kind | Can be \"area\", 'bar', 'barh', 'density', 'hist', 'kde', 'line' or 'pie', default to 'line' |\n",
    "| figsize | Size of the figure object to create |\n",
    "| logx | Pass True for logarithmic scaling on the x axis; pass 'sym' for symmetric logarithm that permits negative value |\n",
    "| logy | Pass True for logarithmic scaling on the y axis | \n",
    "| title | title to use ofr the plot | \n",
    "| use_index | use the object index for tick labels |\n",
    "| rot | rotation of tick labels (0 to 360) |\n",
    "| xticks | Values to use for x-axis ticks |\n",
    "| yticks | Values to use for y-axis ticks | \n",
    "| xlim | x-axis limits (e.g. [0, 10]) |\n",
    "| ylim | y-axis limits |\n",
    "| gird | display axis grid, off by default | "
   ]
  },
  {
   "attachments": {},
   "cell_type": "markdown",
   "metadata": {},
   "source": [
    " "
   ]
  }
 ],
 "metadata": {
  "kernelspec": {
   "display_name": "env",
   "language": "python",
   "name": "python3"
  },
  "language_info": {
   "codemirror_mode": {
    "name": "ipython",
    "version": 3
   },
   "file_extension": ".py",
   "mimetype": "text/x-python",
   "name": "python",
   "nbconvert_exporter": "python",
   "pygments_lexer": "ipython3",
   "version": "3.10.6"
  },
  "orig_nbformat": 4,
  "vscode": {
   "interpreter": {
    "hash": "db103a864d90754ea6859861b49c97228243503a9f70d5acb5594bb386424408"
   }
  }
 },
 "nbformat": 4,
 "nbformat_minor": 2
}
